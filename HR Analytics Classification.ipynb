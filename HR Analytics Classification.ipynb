{
 "cells": [
  {
   "cell_type": "code",
   "execution_count": 241,
   "id": "3fa14161",
   "metadata": {},
   "outputs": [],
   "source": [
    "import pandas as pd\n",
    "import numpy as np\n",
    "import matplotlib.pyplot as plt\n",
    "%matplotlib inline\n",
    "import seaborn as sns\n",
    "\n",
    "import warnings\n",
    "warnings.filterwarnings(\"ignore\")"
   ]
  },
  {
   "cell_type": "code",
   "execution_count": 2,
   "id": "2690d17e",
   "metadata": {},
   "outputs": [
    {
     "name": "stdout",
     "output_type": "stream",
     "text": [
      "C:\\Users\\INTEL\\PGDA Datasets\\HR Analytics problem\n"
     ]
    }
   ],
   "source": [
    "import io\n",
    "%cd \"C:\\Users\\INTEL\\PGDA Datasets\\HR Analytics problem\""
   ]
  },
  {
   "cell_type": "code",
   "execution_count": 3,
   "id": "04470143",
   "metadata": {},
   "outputs": [],
   "source": [
    "hrtrain = pd.read_csv('train_LZdllcl.csv')\n",
    "hrtest = pd.read_csv('test_2umaH9m.csv')"
   ]
  },
  {
   "cell_type": "code",
   "execution_count": 4,
   "id": "bbdd16f4",
   "metadata": {},
   "outputs": [
    {
     "data": {
      "text/html": [
       "<div>\n",
       "<style scoped>\n",
       "    .dataframe tbody tr th:only-of-type {\n",
       "        vertical-align: middle;\n",
       "    }\n",
       "\n",
       "    .dataframe tbody tr th {\n",
       "        vertical-align: top;\n",
       "    }\n",
       "\n",
       "    .dataframe thead th {\n",
       "        text-align: right;\n",
       "    }\n",
       "</style>\n",
       "<table border=\"1\" class=\"dataframe\">\n",
       "  <thead>\n",
       "    <tr style=\"text-align: right;\">\n",
       "      <th></th>\n",
       "      <th>employee_id</th>\n",
       "      <th>department</th>\n",
       "      <th>region</th>\n",
       "      <th>education</th>\n",
       "      <th>gender</th>\n",
       "      <th>recruitment_channel</th>\n",
       "      <th>no_of_trainings</th>\n",
       "      <th>age</th>\n",
       "      <th>previous_year_rating</th>\n",
       "      <th>length_of_service</th>\n",
       "      <th>KPIs_met &gt;80%</th>\n",
       "      <th>awards_won?</th>\n",
       "      <th>avg_training_score</th>\n",
       "      <th>is_promoted</th>\n",
       "    </tr>\n",
       "  </thead>\n",
       "  <tbody>\n",
       "    <tr>\n",
       "      <th>0</th>\n",
       "      <td>65438</td>\n",
       "      <td>Sales &amp; Marketing</td>\n",
       "      <td>region_7</td>\n",
       "      <td>Master's &amp; above</td>\n",
       "      <td>f</td>\n",
       "      <td>sourcing</td>\n",
       "      <td>1</td>\n",
       "      <td>35</td>\n",
       "      <td>5.0</td>\n",
       "      <td>8</td>\n",
       "      <td>1</td>\n",
       "      <td>0</td>\n",
       "      <td>49</td>\n",
       "      <td>0</td>\n",
       "    </tr>\n",
       "    <tr>\n",
       "      <th>1</th>\n",
       "      <td>65141</td>\n",
       "      <td>Operations</td>\n",
       "      <td>region_22</td>\n",
       "      <td>Bachelor's</td>\n",
       "      <td>m</td>\n",
       "      <td>other</td>\n",
       "      <td>1</td>\n",
       "      <td>30</td>\n",
       "      <td>5.0</td>\n",
       "      <td>4</td>\n",
       "      <td>0</td>\n",
       "      <td>0</td>\n",
       "      <td>60</td>\n",
       "      <td>0</td>\n",
       "    </tr>\n",
       "    <tr>\n",
       "      <th>2</th>\n",
       "      <td>7513</td>\n",
       "      <td>Sales &amp; Marketing</td>\n",
       "      <td>region_19</td>\n",
       "      <td>Bachelor's</td>\n",
       "      <td>m</td>\n",
       "      <td>sourcing</td>\n",
       "      <td>1</td>\n",
       "      <td>34</td>\n",
       "      <td>3.0</td>\n",
       "      <td>7</td>\n",
       "      <td>0</td>\n",
       "      <td>0</td>\n",
       "      <td>50</td>\n",
       "      <td>0</td>\n",
       "    </tr>\n",
       "    <tr>\n",
       "      <th>3</th>\n",
       "      <td>2542</td>\n",
       "      <td>Sales &amp; Marketing</td>\n",
       "      <td>region_23</td>\n",
       "      <td>Bachelor's</td>\n",
       "      <td>m</td>\n",
       "      <td>other</td>\n",
       "      <td>2</td>\n",
       "      <td>39</td>\n",
       "      <td>1.0</td>\n",
       "      <td>10</td>\n",
       "      <td>0</td>\n",
       "      <td>0</td>\n",
       "      <td>50</td>\n",
       "      <td>0</td>\n",
       "    </tr>\n",
       "    <tr>\n",
       "      <th>4</th>\n",
       "      <td>48945</td>\n",
       "      <td>Technology</td>\n",
       "      <td>region_26</td>\n",
       "      <td>Bachelor's</td>\n",
       "      <td>m</td>\n",
       "      <td>other</td>\n",
       "      <td>1</td>\n",
       "      <td>45</td>\n",
       "      <td>3.0</td>\n",
       "      <td>2</td>\n",
       "      <td>0</td>\n",
       "      <td>0</td>\n",
       "      <td>73</td>\n",
       "      <td>0</td>\n",
       "    </tr>\n",
       "  </tbody>\n",
       "</table>\n",
       "</div>"
      ],
      "text/plain": [
       "   employee_id         department     region         education gender  \\\n",
       "0        65438  Sales & Marketing   region_7  Master's & above      f   \n",
       "1        65141         Operations  region_22        Bachelor's      m   \n",
       "2         7513  Sales & Marketing  region_19        Bachelor's      m   \n",
       "3         2542  Sales & Marketing  region_23        Bachelor's      m   \n",
       "4        48945         Technology  region_26        Bachelor's      m   \n",
       "\n",
       "  recruitment_channel  no_of_trainings  age  previous_year_rating  \\\n",
       "0            sourcing                1   35                   5.0   \n",
       "1               other                1   30                   5.0   \n",
       "2            sourcing                1   34                   3.0   \n",
       "3               other                2   39                   1.0   \n",
       "4               other                1   45                   3.0   \n",
       "\n",
       "   length_of_service  KPIs_met >80%  awards_won?  avg_training_score  \\\n",
       "0                  8              1            0                  49   \n",
       "1                  4              0            0                  60   \n",
       "2                  7              0            0                  50   \n",
       "3                 10              0            0                  50   \n",
       "4                  2              0            0                  73   \n",
       "\n",
       "   is_promoted  \n",
       "0            0  \n",
       "1            0  \n",
       "2            0  \n",
       "3            0  \n",
       "4            0  "
      ]
     },
     "execution_count": 4,
     "metadata": {},
     "output_type": "execute_result"
    }
   ],
   "source": [
    "hrtrain.head()"
   ]
  },
  {
   "cell_type": "code",
   "execution_count": 5,
   "id": "bc5f138d",
   "metadata": {},
   "outputs": [
    {
     "data": {
      "text/html": [
       "<div>\n",
       "<style scoped>\n",
       "    .dataframe tbody tr th:only-of-type {\n",
       "        vertical-align: middle;\n",
       "    }\n",
       "\n",
       "    .dataframe tbody tr th {\n",
       "        vertical-align: top;\n",
       "    }\n",
       "\n",
       "    .dataframe thead th {\n",
       "        text-align: right;\n",
       "    }\n",
       "</style>\n",
       "<table border=\"1\" class=\"dataframe\">\n",
       "  <thead>\n",
       "    <tr style=\"text-align: right;\">\n",
       "      <th></th>\n",
       "      <th>employee_id</th>\n",
       "      <th>department</th>\n",
       "      <th>region</th>\n",
       "      <th>education</th>\n",
       "      <th>gender</th>\n",
       "      <th>recruitment_channel</th>\n",
       "      <th>no_of_trainings</th>\n",
       "      <th>age</th>\n",
       "      <th>previous_year_rating</th>\n",
       "      <th>length_of_service</th>\n",
       "      <th>KPIs_met &gt;80%</th>\n",
       "      <th>awards_won?</th>\n",
       "      <th>avg_training_score</th>\n",
       "    </tr>\n",
       "  </thead>\n",
       "  <tbody>\n",
       "    <tr>\n",
       "      <th>0</th>\n",
       "      <td>8724</td>\n",
       "      <td>Technology</td>\n",
       "      <td>region_26</td>\n",
       "      <td>Bachelor's</td>\n",
       "      <td>m</td>\n",
       "      <td>sourcing</td>\n",
       "      <td>1</td>\n",
       "      <td>24</td>\n",
       "      <td>NaN</td>\n",
       "      <td>1</td>\n",
       "      <td>1</td>\n",
       "      <td>0</td>\n",
       "      <td>77</td>\n",
       "    </tr>\n",
       "    <tr>\n",
       "      <th>1</th>\n",
       "      <td>74430</td>\n",
       "      <td>HR</td>\n",
       "      <td>region_4</td>\n",
       "      <td>Bachelor's</td>\n",
       "      <td>f</td>\n",
       "      <td>other</td>\n",
       "      <td>1</td>\n",
       "      <td>31</td>\n",
       "      <td>3.0</td>\n",
       "      <td>5</td>\n",
       "      <td>0</td>\n",
       "      <td>0</td>\n",
       "      <td>51</td>\n",
       "    </tr>\n",
       "    <tr>\n",
       "      <th>2</th>\n",
       "      <td>72255</td>\n",
       "      <td>Sales &amp; Marketing</td>\n",
       "      <td>region_13</td>\n",
       "      <td>Bachelor's</td>\n",
       "      <td>m</td>\n",
       "      <td>other</td>\n",
       "      <td>1</td>\n",
       "      <td>31</td>\n",
       "      <td>1.0</td>\n",
       "      <td>4</td>\n",
       "      <td>0</td>\n",
       "      <td>0</td>\n",
       "      <td>47</td>\n",
       "    </tr>\n",
       "    <tr>\n",
       "      <th>3</th>\n",
       "      <td>38562</td>\n",
       "      <td>Procurement</td>\n",
       "      <td>region_2</td>\n",
       "      <td>Bachelor's</td>\n",
       "      <td>f</td>\n",
       "      <td>other</td>\n",
       "      <td>3</td>\n",
       "      <td>31</td>\n",
       "      <td>2.0</td>\n",
       "      <td>9</td>\n",
       "      <td>0</td>\n",
       "      <td>0</td>\n",
       "      <td>65</td>\n",
       "    </tr>\n",
       "    <tr>\n",
       "      <th>4</th>\n",
       "      <td>64486</td>\n",
       "      <td>Finance</td>\n",
       "      <td>region_29</td>\n",
       "      <td>Bachelor's</td>\n",
       "      <td>m</td>\n",
       "      <td>sourcing</td>\n",
       "      <td>1</td>\n",
       "      <td>30</td>\n",
       "      <td>4.0</td>\n",
       "      <td>7</td>\n",
       "      <td>0</td>\n",
       "      <td>0</td>\n",
       "      <td>61</td>\n",
       "    </tr>\n",
       "  </tbody>\n",
       "</table>\n",
       "</div>"
      ],
      "text/plain": [
       "   employee_id         department     region   education gender  \\\n",
       "0         8724         Technology  region_26  Bachelor's      m   \n",
       "1        74430                 HR   region_4  Bachelor's      f   \n",
       "2        72255  Sales & Marketing  region_13  Bachelor's      m   \n",
       "3        38562        Procurement   region_2  Bachelor's      f   \n",
       "4        64486            Finance  region_29  Bachelor's      m   \n",
       "\n",
       "  recruitment_channel  no_of_trainings  age  previous_year_rating  \\\n",
       "0            sourcing                1   24                   NaN   \n",
       "1               other                1   31                   3.0   \n",
       "2               other                1   31                   1.0   \n",
       "3               other                3   31                   2.0   \n",
       "4            sourcing                1   30                   4.0   \n",
       "\n",
       "   length_of_service  KPIs_met >80%  awards_won?  avg_training_score  \n",
       "0                  1              1            0                  77  \n",
       "1                  5              0            0                  51  \n",
       "2                  4              0            0                  47  \n",
       "3                  9              0            0                  65  \n",
       "4                  7              0            0                  61  "
      ]
     },
     "execution_count": 5,
     "metadata": {},
     "output_type": "execute_result"
    }
   ],
   "source": [
    "hrtest.head()"
   ]
  },
  {
   "cell_type": "code",
   "execution_count": 6,
   "id": "5a10f2ce",
   "metadata": {},
   "outputs": [
    {
     "name": "stdout",
     "output_type": "stream",
     "text": [
      "(54808, 14)\n",
      "(23490, 13)\n"
     ]
    }
   ],
   "source": [
    "print(hrtrain.shape)\n",
    "print(hrtest.shape)"
   ]
  },
  {
   "cell_type": "code",
   "execution_count": 7,
   "id": "373a6549",
   "metadata": {},
   "outputs": [
    {
     "data": {
      "text/html": [
       "<div>\n",
       "<style scoped>\n",
       "    .dataframe tbody tr th:only-of-type {\n",
       "        vertical-align: middle;\n",
       "    }\n",
       "\n",
       "    .dataframe tbody tr th {\n",
       "        vertical-align: top;\n",
       "    }\n",
       "\n",
       "    .dataframe thead th {\n",
       "        text-align: right;\n",
       "    }\n",
       "</style>\n",
       "<table border=\"1\" class=\"dataframe\">\n",
       "  <thead>\n",
       "    <tr style=\"text-align: right;\">\n",
       "      <th></th>\n",
       "      <th>employee_id</th>\n",
       "      <th>no_of_trainings</th>\n",
       "      <th>age</th>\n",
       "      <th>previous_year_rating</th>\n",
       "      <th>length_of_service</th>\n",
       "      <th>KPIs_met &gt;80%</th>\n",
       "      <th>awards_won?</th>\n",
       "      <th>avg_training_score</th>\n",
       "    </tr>\n",
       "  </thead>\n",
       "  <tbody>\n",
       "    <tr>\n",
       "      <th>count</th>\n",
       "      <td>23490.000000</td>\n",
       "      <td>23490.000000</td>\n",
       "      <td>23490.000000</td>\n",
       "      <td>21678.000000</td>\n",
       "      <td>23490.000000</td>\n",
       "      <td>23490.000000</td>\n",
       "      <td>23490.000000</td>\n",
       "      <td>23490.000000</td>\n",
       "    </tr>\n",
       "    <tr>\n",
       "      <th>mean</th>\n",
       "      <td>39041.399149</td>\n",
       "      <td>1.254236</td>\n",
       "      <td>34.782929</td>\n",
       "      <td>3.339146</td>\n",
       "      <td>5.810387</td>\n",
       "      <td>0.358834</td>\n",
       "      <td>0.022776</td>\n",
       "      <td>63.263133</td>\n",
       "    </tr>\n",
       "    <tr>\n",
       "      <th>std</th>\n",
       "      <td>22640.809201</td>\n",
       "      <td>0.600910</td>\n",
       "      <td>7.679492</td>\n",
       "      <td>1.263294</td>\n",
       "      <td>4.207917</td>\n",
       "      <td>0.479668</td>\n",
       "      <td>0.149191</td>\n",
       "      <td>13.411750</td>\n",
       "    </tr>\n",
       "    <tr>\n",
       "      <th>min</th>\n",
       "      <td>3.000000</td>\n",
       "      <td>1.000000</td>\n",
       "      <td>20.000000</td>\n",
       "      <td>1.000000</td>\n",
       "      <td>1.000000</td>\n",
       "      <td>0.000000</td>\n",
       "      <td>0.000000</td>\n",
       "      <td>39.000000</td>\n",
       "    </tr>\n",
       "    <tr>\n",
       "      <th>25%</th>\n",
       "      <td>19370.250000</td>\n",
       "      <td>1.000000</td>\n",
       "      <td>29.000000</td>\n",
       "      <td>3.000000</td>\n",
       "      <td>3.000000</td>\n",
       "      <td>0.000000</td>\n",
       "      <td>0.000000</td>\n",
       "      <td>51.000000</td>\n",
       "    </tr>\n",
       "    <tr>\n",
       "      <th>50%</th>\n",
       "      <td>38963.500000</td>\n",
       "      <td>1.000000</td>\n",
       "      <td>33.000000</td>\n",
       "      <td>3.000000</td>\n",
       "      <td>5.000000</td>\n",
       "      <td>0.000000</td>\n",
       "      <td>0.000000</td>\n",
       "      <td>60.000000</td>\n",
       "    </tr>\n",
       "    <tr>\n",
       "      <th>75%</th>\n",
       "      <td>58690.000000</td>\n",
       "      <td>1.000000</td>\n",
       "      <td>39.000000</td>\n",
       "      <td>4.000000</td>\n",
       "      <td>7.000000</td>\n",
       "      <td>1.000000</td>\n",
       "      <td>0.000000</td>\n",
       "      <td>76.000000</td>\n",
       "    </tr>\n",
       "    <tr>\n",
       "      <th>max</th>\n",
       "      <td>78295.000000</td>\n",
       "      <td>9.000000</td>\n",
       "      <td>60.000000</td>\n",
       "      <td>5.000000</td>\n",
       "      <td>34.000000</td>\n",
       "      <td>1.000000</td>\n",
       "      <td>1.000000</td>\n",
       "      <td>99.000000</td>\n",
       "    </tr>\n",
       "  </tbody>\n",
       "</table>\n",
       "</div>"
      ],
      "text/plain": [
       "        employee_id  no_of_trainings           age  previous_year_rating  \\\n",
       "count  23490.000000     23490.000000  23490.000000          21678.000000   \n",
       "mean   39041.399149         1.254236     34.782929              3.339146   \n",
       "std    22640.809201         0.600910      7.679492              1.263294   \n",
       "min        3.000000         1.000000     20.000000              1.000000   \n",
       "25%    19370.250000         1.000000     29.000000              3.000000   \n",
       "50%    38963.500000         1.000000     33.000000              3.000000   \n",
       "75%    58690.000000         1.000000     39.000000              4.000000   \n",
       "max    78295.000000         9.000000     60.000000              5.000000   \n",
       "\n",
       "       length_of_service  KPIs_met >80%   awards_won?  avg_training_score  \n",
       "count       23490.000000   23490.000000  23490.000000        23490.000000  \n",
       "mean            5.810387       0.358834      0.022776           63.263133  \n",
       "std             4.207917       0.479668      0.149191           13.411750  \n",
       "min             1.000000       0.000000      0.000000           39.000000  \n",
       "25%             3.000000       0.000000      0.000000           51.000000  \n",
       "50%             5.000000       0.000000      0.000000           60.000000  \n",
       "75%             7.000000       1.000000      0.000000           76.000000  \n",
       "max            34.000000       1.000000      1.000000           99.000000  "
      ]
     },
     "execution_count": 7,
     "metadata": {},
     "output_type": "execute_result"
    }
   ],
   "source": [
    "hrtest.describe()"
   ]
  },
  {
   "cell_type": "code",
   "execution_count": 8,
   "id": "fbbfb0e9",
   "metadata": {},
   "outputs": [
    {
     "data": {
      "text/html": [
       "<div>\n",
       "<style scoped>\n",
       "    .dataframe tbody tr th:only-of-type {\n",
       "        vertical-align: middle;\n",
       "    }\n",
       "\n",
       "    .dataframe tbody tr th {\n",
       "        vertical-align: top;\n",
       "    }\n",
       "\n",
       "    .dataframe thead th {\n",
       "        text-align: right;\n",
       "    }\n",
       "</style>\n",
       "<table border=\"1\" class=\"dataframe\">\n",
       "  <thead>\n",
       "    <tr style=\"text-align: right;\">\n",
       "      <th></th>\n",
       "      <th>department</th>\n",
       "      <th>region</th>\n",
       "      <th>education</th>\n",
       "      <th>gender</th>\n",
       "      <th>recruitment_channel</th>\n",
       "    </tr>\n",
       "  </thead>\n",
       "  <tbody>\n",
       "    <tr>\n",
       "      <th>count</th>\n",
       "      <td>23490</td>\n",
       "      <td>23490</td>\n",
       "      <td>22456</td>\n",
       "      <td>23490</td>\n",
       "      <td>23490</td>\n",
       "    </tr>\n",
       "    <tr>\n",
       "      <th>unique</th>\n",
       "      <td>9</td>\n",
       "      <td>34</td>\n",
       "      <td>3</td>\n",
       "      <td>2</td>\n",
       "      <td>3</td>\n",
       "    </tr>\n",
       "    <tr>\n",
       "      <th>top</th>\n",
       "      <td>Sales &amp; Marketing</td>\n",
       "      <td>region_2</td>\n",
       "      <td>Bachelor's</td>\n",
       "      <td>m</td>\n",
       "      <td>other</td>\n",
       "    </tr>\n",
       "    <tr>\n",
       "      <th>freq</th>\n",
       "      <td>7315</td>\n",
       "      <td>5299</td>\n",
       "      <td>15578</td>\n",
       "      <td>16596</td>\n",
       "      <td>13078</td>\n",
       "    </tr>\n",
       "  </tbody>\n",
       "</table>\n",
       "</div>"
      ],
      "text/plain": [
       "               department    region   education gender recruitment_channel\n",
       "count               23490     23490       22456  23490               23490\n",
       "unique                  9        34           3      2                   3\n",
       "top     Sales & Marketing  region_2  Bachelor's      m               other\n",
       "freq                 7315      5299       15578  16596               13078"
      ]
     },
     "execution_count": 8,
     "metadata": {},
     "output_type": "execute_result"
    }
   ],
   "source": [
    "hrtest.describe(include='object')"
   ]
  },
  {
   "cell_type": "code",
   "execution_count": 9,
   "id": "2ce0bb94",
   "metadata": {},
   "outputs": [
    {
     "data": {
      "text/plain": [
       "Index(['employee_id', 'department', 'region', 'education', 'gender',\n",
       "       'recruitment_channel', 'no_of_trainings', 'age', 'previous_year_rating',\n",
       "       'length_of_service', 'KPIs_met >80%', 'awards_won?',\n",
       "       'avg_training_score', 'is_promoted'],\n",
       "      dtype='object')"
      ]
     },
     "execution_count": 9,
     "metadata": {},
     "output_type": "execute_result"
    }
   ],
   "source": [
    "hrtrain.columns"
   ]
  },
  {
   "cell_type": "code",
   "execution_count": 10,
   "id": "d22c0e24",
   "metadata": {},
   "outputs": [
    {
     "name": "stdout",
     "output_type": "stream",
     "text": [
      "<class 'pandas.core.frame.DataFrame'>\n",
      "RangeIndex: 54808 entries, 0 to 54807\n",
      "Data columns (total 14 columns):\n",
      " #   Column                Non-Null Count  Dtype  \n",
      "---  ------                --------------  -----  \n",
      " 0   employee_id           54808 non-null  int64  \n",
      " 1   department            54808 non-null  object \n",
      " 2   region                54808 non-null  object \n",
      " 3   education             52399 non-null  object \n",
      " 4   gender                54808 non-null  object \n",
      " 5   recruitment_channel   54808 non-null  object \n",
      " 6   no_of_trainings       54808 non-null  int64  \n",
      " 7   age                   54808 non-null  int64  \n",
      " 8   previous_year_rating  50684 non-null  float64\n",
      " 9   length_of_service     54808 non-null  int64  \n",
      " 10  KPIs_met >80%         54808 non-null  int64  \n",
      " 11  awards_won?           54808 non-null  int64  \n",
      " 12  avg_training_score    54808 non-null  int64  \n",
      " 13  is_promoted           54808 non-null  int64  \n",
      "dtypes: float64(1), int64(8), object(5)\n",
      "memory usage: 5.9+ MB\n"
     ]
    }
   ],
   "source": [
    "hrtrain.info()"
   ]
  },
  {
   "cell_type": "code",
   "execution_count": 11,
   "id": "5e5ad075",
   "metadata": {},
   "outputs": [
    {
     "data": {
      "text/plain": [
       "employee_id                        70800\n",
       "department                    Operations\n",
       "region                          region_4\n",
       "education               Master's & above\n",
       "gender                                 f\n",
       "recruitment_channel             sourcing\n",
       "no_of_trainings                        1\n",
       "age                                   37\n",
       "previous_year_rating                 5.0\n",
       "length_of_service                      8\n",
       "KPIs_met >80%                          1\n",
       "awards_won?                            1\n",
       "avg_training_score                    99\n",
       "is_promoted                            1\n",
       "Name: 725, dtype: object"
      ]
     },
     "execution_count": 11,
     "metadata": {},
     "output_type": "execute_result"
    }
   ],
   "source": [
    "hrtrain.iloc[hrtrain.avg_training_score.idxmax()]\n",
    "# Details of employee who scored maximum in Training"
   ]
  },
  {
   "cell_type": "code",
   "execution_count": 12,
   "id": "ca42d6d3",
   "metadata": {},
   "outputs": [
    {
     "data": {
      "text/plain": [
       "employee_id                         42747\n",
       "department              Sales & Marketing\n",
       "region                          region_15\n",
       "education                      Bachelor's\n",
       "gender                                  m\n",
       "recruitment_channel                 other\n",
       "no_of_trainings                         2\n",
       "age                                    35\n",
       "previous_year_rating                  1.0\n",
       "length_of_service                       8\n",
       "KPIs_met >80%                           0\n",
       "awards_won?                             0\n",
       "avg_training_score                     39\n",
       "is_promoted                             0\n",
       "Name: 198, dtype: object"
      ]
     },
     "execution_count": 12,
     "metadata": {},
     "output_type": "execute_result"
    }
   ],
   "source": [
    "hrtrain.iloc[hrtrain.avg_training_score.idxmin()]\n",
    "# Details of employee who scored maximum in Training"
   ]
  },
  {
   "cell_type": "code",
   "execution_count": 13,
   "id": "7b7aa91c",
   "metadata": {},
   "outputs": [],
   "source": [
    "graph_cols=['department', 'region', 'education', 'gender',\n",
    "       'recruitment_channel', 'previous_year_rating'\n",
    "          , 'KPIs_met >80%', 'awards_won?', 'is_promoted']"
   ]
  },
  {
   "cell_type": "code",
   "execution_count": 14,
   "id": "513a7510",
   "metadata": {},
   "outputs": [
    {
     "data": {
      "image/png": "[encoded data removed]",
      "text/plain": [
       "<Figure size 432x288 with 1 Axes>"
      ]
     },
     "metadata": {
      "needs_background": "light"
     },
     "output_type": "display_data"
    },
    {
     "data": {
      "image/png": "[encoded data removed]",
      "text/plain": [
       "<Figure size 432x288 with 1 Axes>"
      ]
     },
     "metadata": {
      "needs_background": "light"
     },
     "output_type": "display_data"
    },
    {
     "data": {
      "image/png": "[encoded data removed]",
      "text/plain": [
       "<Figure size 432x288 with 1 Axes>"
      ]
     },
     "metadata": {
      "needs_background": "light"
     },
     "output_type": "display_data"
    },
    {
     "data": {
      "image/png": "[encoded data removed]",
      "text/plain": [
       "<Figure size 432x288 with 1 Axes>"
      ]
     },
     "metadata": {
      "needs_background": "light"
     },
     "output_type": "display_data"
    },
    {
     "data": {
      "image/png": "[encoded data removed]",
      "text/plain": [
       "<Figure size 432x288 with 1 Axes>"
      ]
     },
     "metadata": {
      "needs_background": "light"
     },
     "output_type": "display_data"
    },
    {
     "data": {
      "image/png": "[encoded data removed]",
      "text/plain": [
       "<Figure size 432x288 with 1 Axes>"
      ]
     },
     "metadata": {
      "needs_background": "light"
     },
     "output_type": "display_data"
    },
    {
     "data": {
      "image/png": "[encoded data removed]",
      "text/plain": [
       "<Figure size 432x288 with 1 Axes>"
      ]
     },
     "metadata": {
      "needs_background": "light"
     },
     "output_type": "display_data"
    },
    {
     "data": {
      "image/png": "[encoded data removed]",
      "text/plain": [
       "<Figure size 432x288 with 1 Axes>"
      ]
     },
     "metadata": {
      "needs_background": "light"
     },
     "output_type": "display_data"
    },
    {
     "data": {
      "image/png": "[encoded data removed]",
      "text/plain": [
       "<Figure size 432x288 with 1 Axes>"
      ]
     },
     "metadata": {
      "needs_background": "light"
     },
     "output_type": "display_data"
    }
   ],
   "source": [
    "for col in graph_cols:\n",
    "    sns.countplot(x=col,data=hrtrain)\n",
    "    plt.xticks(rotation=90)\n",
    "    plt.show()"
   ]
  },
  {
   "cell_type": "code",
   "execution_count": 15,
   "id": "ffce49f1",
   "metadata": {},
   "outputs": [],
   "source": [
    "# Major number of employees work in Sales & Marketing department\n",
    "# Region_2 has highest number of employees\n",
    "# Majority of the employees have Bachelor's as educational qualification\n",
    "# There are more no of Male employees in the organization\n",
    "# Most of the employees revruted are through sourcing and other methods\n",
    "# Most of the employees have 3 as rating in the previous apraisal cycle\n",
    "# Many employees have KPIs_met < 80%\n",
    "# Very few people have won the awards\n",
    "# Very few people have been promoted"
   ]
  },
  {
   "cell_type": "code",
   "execution_count": 16,
   "id": "aeee502c",
   "metadata": {},
   "outputs": [
    {
     "data": {
      "text/plain": [
       "<AxesSubplot:xlabel='gender', ylabel='count'>"
      ]
     },
     "execution_count": 16,
     "metadata": {},
     "output_type": "execute_result"
    },
    {
     "data": {
      "image/png": "[encoded data removed]",
      "text/plain": [
       "<Figure size 432x288 with 1 Axes>"
      ]
     },
     "metadata": {
      "needs_background": "light"
     },
     "output_type": "display_data"
    }
   ],
   "source": [
    "sns.countplot(x='gender',hue='is_promoted',data=hrtrain,palette='RdBu')"
   ]
  },
  {
   "cell_type": "code",
   "execution_count": 17,
   "id": "a30eb81b",
   "metadata": {},
   "outputs": [],
   "source": [
    "promoted=hrtrain[hrtrain.is_promoted==1]"
   ]
  },
  {
   "cell_type": "code",
   "execution_count": 18,
   "id": "0de94918",
   "metadata": {},
   "outputs": [
    {
     "data": {
      "text/plain": [
       "<AxesSubplot:xlabel='length_of_service', ylabel='count'>"
      ]
     },
     "execution_count": 18,
     "metadata": {},
     "output_type": "execute_result"
    },
    {
     "data": {
      "image/png": "[encoded data removed]",
      "text/plain": [
       "<Figure size 576x360 with 1 Axes>"
      ]
     },
     "metadata": {
      "needs_background": "light"
     },
     "output_type": "display_data"
    }
   ],
   "source": [
    "plt.figure(figsize=(8,5))\n",
    "sns.countplot(x='length_of_service',data=promoted)\n",
    "# Majority of the people promoted are having experience between 2-7 years"
   ]
  },
  {
   "cell_type": "code",
   "execution_count": 19,
   "id": "1ad17097",
   "metadata": {},
   "outputs": [
    {
     "data": {
      "text/plain": [
       "<AxesSubplot:xlabel='age', ylabel='count'>"
      ]
     },
     "execution_count": 19,
     "metadata": {},
     "output_type": "execute_result"
    },
    {
     "data": {
      "image/png": "[encoded data removed]",
      "text/plain": [
       "<Figure size 720x360 with 1 Axes>"
      ]
     },
     "metadata": {
      "needs_background": "light"
     },
     "output_type": "display_data"
    }
   ],
   "source": [
    "plt.figure(figsize=(10,5))\n",
    "sns.countplot(x='age',data=promoted)\n",
    "# Majority of the people promoted are having age between 27-35 years"
   ]
  },
  {
   "cell_type": "code",
   "execution_count": 446,
   "id": "066c7294",
   "metadata": {},
   "outputs": [],
   "source": [
    "# No of employee having avg_training_score<60 in each department"
   ]
  },
  {
   "cell_type": "code",
   "execution_count": 474,
   "id": "a093ab65",
   "metadata": {},
   "outputs": [],
   "source": [
    "below60=hrtrain[hrtrain.avg_training_score<60].groupby('department')['employee_id'].count().to_dict()"
   ]
  },
  {
   "cell_type": "code",
   "execution_count": 475,
   "id": "80d5ec99",
   "metadata": {},
   "outputs": [],
   "source": [
    "below60=pd.DataFrame(below60.values(),index=below60.keys(),columns=['score<60_count'])"
   ]
  },
  {
   "cell_type": "code",
   "execution_count": 476,
   "id": "c6dee6a2",
   "metadata": {},
   "outputs": [
    {
     "data": {
      "text/html": [
       "<div>\n",
       "<style scoped>\n",
       "    .dataframe tbody tr th:only-of-type {\n",
       "        vertical-align: middle;\n",
       "    }\n",
       "\n",
       "    .dataframe tbody tr th {\n",
       "        vertical-align: top;\n",
       "    }\n",
       "\n",
       "    .dataframe thead th {\n",
       "        text-align: right;\n",
       "    }\n",
       "</style>\n",
       "<table border=\"1\" class=\"dataframe\">\n",
       "  <thead>\n",
       "    <tr style=\"text-align: right;\">\n",
       "      <th></th>\n",
       "      <th>score&lt;60_count</th>\n",
       "    </tr>\n",
       "  </thead>\n",
       "  <tbody>\n",
       "    <tr>\n",
       "      <th>Finance</th>\n",
       "      <td>1210</td>\n",
       "    </tr>\n",
       "    <tr>\n",
       "      <th>HR</th>\n",
       "      <td>2374</td>\n",
       "    </tr>\n",
       "    <tr>\n",
       "      <th>Legal</th>\n",
       "      <td>502</td>\n",
       "    </tr>\n",
       "    <tr>\n",
       "      <th>Operations</th>\n",
       "      <td>5415</td>\n",
       "    </tr>\n",
       "    <tr>\n",
       "      <th>Sales &amp; Marketing</th>\n",
       "      <td>16367</td>\n",
       "    </tr>\n",
       "  </tbody>\n",
       "</table>\n",
       "</div>"
      ],
      "text/plain": [
       "                   score<60_count\n",
       "Finance                      1210\n",
       "HR                           2374\n",
       "Legal                         502\n",
       "Operations                   5415\n",
       "Sales & Marketing           16367"
      ]
     },
     "execution_count": 476,
     "metadata": {},
     "output_type": "execute_result"
    }
   ],
   "source": [
    "below60"
   ]
  },
  {
   "cell_type": "code",
   "execution_count": 477,
   "id": "3ea8bebc",
   "metadata": {},
   "outputs": [],
   "source": [
    "ep=below60.copy()\n",
    "for i in ep.index:\n",
    "    ep.loc[i]=round(ep.loc[i]*100/hrtrain[hrtrain.department==i].shape[0],2)"
   ]
  },
  {
   "cell_type": "code",
   "execution_count": 478,
   "id": "fd8e55af",
   "metadata": {},
   "outputs": [],
   "source": [
    "below60.loc['avg_score>=60']=hrtrain.shape[0]-below60['score<60_count'].sum()"
   ]
  },
  {
   "cell_type": "code",
   "execution_count": 479,
   "id": "c477ef1a",
   "metadata": {},
   "outputs": [
    {
     "data": {
      "image/png": "[encoded data removed]",
      "text/plain": [
       "<Figure size 1080x360 with 2 Axes>"
      ]
     },
     "metadata": {
      "needs_background": "light"
     },
     "output_type": "display_data"
    }
   ],
   "source": [
    "plt.figure(figsize=(15,5))\n",
    "plt.subplot(1,2,1)\n",
    "sns.barplot(x=ep.index,y=ep['score<60_count'],data=ep)\n",
    "plt.ylabel('Percentage')\n",
    "plt.xlabel('department')\n",
    "plt.title('% of employees having avg_training_score<60 \\n in each department')\n",
    "\n",
    "plt.subplot(1,2,2)\n",
    "below60['score<60_count'].plot(kind='pie',autopct='%1.1f%%')\n",
    "plt.ylabel('Count')\n",
    "plt.xlabel('department')\n",
    "plt.title('count of employees having avg_training_score<60 \\n in each department')\n",
    "plt.show()"
   ]
  },
  {
   "cell_type": "code",
   "execution_count": 20,
   "id": "4d44b64b",
   "metadata": {},
   "outputs": [
    {
     "data": {
      "text/plain": [
       "previous_year_rating    4124\n",
       "education               2409\n",
       "employee_id                0\n",
       "department                 0\n",
       "region                     0\n",
       "gender                     0\n",
       "recruitment_channel        0\n",
       "no_of_trainings            0\n",
       "age                        0\n",
       "length_of_service          0\n",
       "KPIs_met >80%              0\n",
       "awards_won?                0\n",
       "avg_training_score         0\n",
       "is_promoted                0\n",
       "dtype: int64"
      ]
     },
     "execution_count": 20,
     "metadata": {},
     "output_type": "execute_result"
    }
   ],
   "source": [
    "# Check Missing Values \n",
    "hrtrain.isnull().sum().sort_values(ascending=False)\n",
    "# previous_year_rating and education columns have missing values in train data"
   ]
  },
  {
   "cell_type": "code",
   "execution_count": 21,
   "id": "b642f6fc",
   "metadata": {},
   "outputs": [
    {
     "data": {
      "text/plain": [
       "previous_year_rating    1812\n",
       "education               1034\n",
       "employee_id                0\n",
       "department                 0\n",
       "region                     0\n",
       "gender                     0\n",
       "recruitment_channel        0\n",
       "no_of_trainings            0\n",
       "age                        0\n",
       "length_of_service          0\n",
       "KPIs_met >80%              0\n",
       "awards_won?                0\n",
       "avg_training_score         0\n",
       "dtype: int64"
      ]
     },
     "execution_count": 21,
     "metadata": {},
     "output_type": "execute_result"
    }
   ],
   "source": [
    "hrtest.isnull().sum().sort_values(ascending=False)\n",
    "# previous_year_rating and education columns have missing values in test data"
   ]
  },
  {
   "cell_type": "code",
   "execution_count": 22,
   "id": "fae86bbe",
   "metadata": {},
   "outputs": [],
   "source": [
    "# Adding is_promoted column to test data to differentiate test after combining train and test datasets\n",
    "hrtest['is_promoted']='test'"
   ]
  },
  {
   "cell_type": "code",
   "execution_count": 23,
   "id": "fe9f2e96",
   "metadata": {},
   "outputs": [],
   "source": [
    "# row wise concatenation of train and test data\n",
    "combinedf=pd.concat([hrtrain,hrtest],axis=0)"
   ]
  },
  {
   "cell_type": "code",
   "execution_count": 24,
   "id": "3cb095be",
   "metadata": {},
   "outputs": [
    {
     "data": {
      "text/plain": [
       "previous_year_rating    7.58\n",
       "education               4.40\n",
       "employee_id             0.00\n",
       "department              0.00\n",
       "region                  0.00\n",
       "gender                  0.00\n",
       "recruitment_channel     0.00\n",
       "no_of_trainings         0.00\n",
       "age                     0.00\n",
       "length_of_service       0.00\n",
       "KPIs_met >80%           0.00\n",
       "awards_won?             0.00\n",
       "avg_training_score      0.00\n",
       "is_promoted             0.00\n",
       "dtype: float64"
      ]
     },
     "execution_count": 24,
     "metadata": {},
     "output_type": "execute_result"
    }
   ],
   "source": [
    "# missing values representation in percentage\n",
    "round(combinedf.isnull().sum().sort_values(ascending=False)*100/combinedf.shape[0],2)"
   ]
  },
  {
   "cell_type": "code",
   "execution_count": 25,
   "id": "a5429df1",
   "metadata": {},
   "outputs": [
    {
     "name": "stdout",
     "output_type": "stream",
     "text": [
      "employee_id 78298 [65438 65141  7513 ... 45409  1186  5973] \n",
      "\n",
      "\n",
      "department 9 ['Sales & Marketing' 'Operations' 'Technology' 'Analytics' 'R&D'\n",
      " 'Procurement' 'Finance' 'HR' 'Legal'] \n",
      "\n",
      "\n",
      "region 34 ['region_7' 'region_22' 'region_19' 'region_23' 'region_26' 'region_2'\n",
      " 'region_20' 'region_34' 'region_1' 'region_4' 'region_29' 'region_31'\n",
      " 'region_15' 'region_14' 'region_11' 'region_5' 'region_28' 'region_17'\n",
      " 'region_13' 'region_16' 'region_25' 'region_10' 'region_27' 'region_30'\n",
      " 'region_12' 'region_21' 'region_8' 'region_32' 'region_6' 'region_33'\n",
      " 'region_24' 'region_3' 'region_9' 'region_18'] \n",
      "\n",
      "\n",
      "education 4 [\"Master's & above\" \"Bachelor's\" nan 'Below Secondary'] \n",
      "\n",
      "\n",
      "gender 2 ['f' 'm'] \n",
      "\n",
      "\n",
      "recruitment_channel 3 ['sourcing' 'other' 'referred'] \n",
      "\n",
      "\n",
      "no_of_trainings 10 [ 1  2  3  4  7  5  6  8 10  9] \n",
      "\n",
      "\n",
      "age 41 [35 30 34 39 45 31 33 28 32 49 37 38 41 27 29 26 24 57 40 42 23 59 44 50\n",
      " 56 20 25 47 36 46 60 43 22 54 58 48 53 55 51 52 21] \n",
      "\n",
      "\n",
      "previous_year_rating 6 [ 5.  3.  1.  4. nan  2.] \n",
      "\n",
      "\n",
      "length_of_service 35 [ 8  4  7 10  2  5  6  1  3 16  9 11 26 12 17 14 13 19 15 23 18 20 22 25\n",
      " 28 24 31 21 29 30 34 27 33 32 37] \n",
      "\n",
      "\n",
      "KPIs_met >80% 2 [1 0] \n",
      "\n",
      "\n",
      "awards_won? 2 [0 1] \n",
      "\n",
      "\n",
      "avg_training_score 61 [49 60 50 73 85 59 63 83 54 77 80 84 51 46 75 57 70 68 79 44 72 61 48 58\n",
      " 87 47 52 88 71 65 62 53 78 91 82 69 55 74 86 90 92 67 89 56 76 81 45 64\n",
      " 39 94 93 66 95 42 96 40 99 43 97 41 98] \n",
      "\n",
      "\n",
      "is_promoted 3 [0 1 'test'] \n",
      "\n",
      "\n"
     ]
    }
   ],
   "source": [
    "# display all columns, no of unique values and display all unique values for each column\n",
    "for col in combinedf.columns:\n",
    "    print(col,len(combinedf[col].unique()),combinedf[col].unique(),'\\n\\n')"
   ]
  },
  {
   "cell_type": "code",
   "execution_count": 26,
   "id": "6353a13d",
   "metadata": {},
   "outputs": [
    {
     "data": {
      "text/plain": [
       "(78298, 14)"
      ]
     },
     "execution_count": 26,
     "metadata": {},
     "output_type": "execute_result"
    }
   ],
   "source": [
    "combinedf.shape"
   ]
  },
  {
   "cell_type": "code",
   "execution_count": 27,
   "id": "2a317425",
   "metadata": {},
   "outputs": [],
   "source": [
    "# Treating missing values\n",
    "\n",
    "from sklearn.impute import SimpleImputer"
   ]
  },
  {
   "cell_type": "code",
   "execution_count": 28,
   "id": "b2a3771e",
   "metadata": {},
   "outputs": [],
   "source": [
    "# Since both the missing values columns are categorical in nature, replacing the null values with most frequent value\n",
    "imp=SimpleImputer(strategy='most_frequent')"
   ]
  },
  {
   "cell_type": "code",
   "execution_count": 29,
   "id": "552f6ac9",
   "metadata": {},
   "outputs": [],
   "source": [
    "miss_cols=['education','previous_year_rating']"
   ]
  },
  {
   "cell_type": "code",
   "execution_count": 30,
   "id": "78976ca1",
   "metadata": {},
   "outputs": [],
   "source": [
    "combinedf[miss_cols]=imp.fit_transform(combinedf[miss_cols])"
   ]
  },
  {
   "cell_type": "code",
   "execution_count": 31,
   "id": "fcb69fd0",
   "metadata": {},
   "outputs": [
    {
     "data": {
      "text/plain": [
       "employee_id             0\n",
       "department              0\n",
       "region                  0\n",
       "education               0\n",
       "gender                  0\n",
       "recruitment_channel     0\n",
       "no_of_trainings         0\n",
       "age                     0\n",
       "previous_year_rating    0\n",
       "length_of_service       0\n",
       "KPIs_met >80%           0\n",
       "awards_won?             0\n",
       "avg_training_score      0\n",
       "is_promoted             0\n",
       "dtype: int64"
      ]
     },
     "execution_count": 31,
     "metadata": {},
     "output_type": "execute_result"
    }
   ],
   "source": [
    "combinedf.isnull().sum()\n",
    "# Missing values have been treated"
   ]
  },
  {
   "cell_type": "code",
   "execution_count": 32,
   "id": "66ecffa0",
   "metadata": {},
   "outputs": [],
   "source": [
    "# Encoding categorical columns"
   ]
  },
  {
   "cell_type": "code",
   "execution_count": 33,
   "id": "06b8b46c",
   "metadata": {},
   "outputs": [],
   "source": [
    "combinedf.gender=combinedf.gender.map({'f':0,'m':1})"
   ]
  },
  {
   "cell_type": "code",
   "execution_count": 34,
   "id": "12172d64",
   "metadata": {},
   "outputs": [],
   "source": [
    "multi_cat_cols=['department','region','education','recruitment_channel']"
   ]
  },
  {
   "cell_type": "code",
   "execution_count": 35,
   "id": "7ac4bb27",
   "metadata": {},
   "outputs": [],
   "source": [
    "other_cols=list(set(hrtrain.columns)-set(multi_cat_cols))"
   ]
  },
  {
   "cell_type": "code",
   "execution_count": 36,
   "id": "9d086d57",
   "metadata": {},
   "outputs": [
    {
     "name": "stdout",
     "output_type": "stream",
     "text": [
      "4\n",
      "10\n"
     ]
    }
   ],
   "source": [
    "print(len(multi_cat_cols))\n",
    "print(len(other_cols))"
   ]
  },
  {
   "cell_type": "code",
   "execution_count": 279,
   "id": "4fcd531a",
   "metadata": {},
   "outputs": [],
   "source": [
    "multi_dummy=pd.get_dummies(combinedf[multi_cat_cols])"
   ]
  },
  {
   "cell_type": "code",
   "execution_count": 281,
   "id": "696df096",
   "metadata": {},
   "outputs": [
    {
     "data": {
      "text/html": [
       "<div>\n",
       "<style scoped>\n",
       "    .dataframe tbody tr th:only-of-type {\n",
       "        vertical-align: middle;\n",
       "    }\n",
       "\n",
       "    .dataframe tbody tr th {\n",
       "        vertical-align: top;\n",
       "    }\n",
       "\n",
       "    .dataframe thead th {\n",
       "        text-align: right;\n",
       "    }\n",
       "</style>\n",
       "<table border=\"1\" class=\"dataframe\">\n",
       "  <thead>\n",
       "    <tr style=\"text-align: right;\">\n",
       "      <th></th>\n",
       "      <th>department_Analytics</th>\n",
       "      <th>department_Finance</th>\n",
       "      <th>department_HR</th>\n",
       "      <th>department_Legal</th>\n",
       "      <th>department_Operations</th>\n",
       "      <th>department_Procurement</th>\n",
       "      <th>department_R&amp;D</th>\n",
       "      <th>department_Sales &amp; Marketing</th>\n",
       "      <th>department_Technology</th>\n",
       "      <th>region_region_1</th>\n",
       "      <th>...</th>\n",
       "      <th>region_region_6</th>\n",
       "      <th>region_region_7</th>\n",
       "      <th>region_region_8</th>\n",
       "      <th>region_region_9</th>\n",
       "      <th>education_Bachelor's</th>\n",
       "      <th>education_Below Secondary</th>\n",
       "      <th>education_Master's &amp; above</th>\n",
       "      <th>recruitment_channel_other</th>\n",
       "      <th>recruitment_channel_referred</th>\n",
       "      <th>recruitment_channel_sourcing</th>\n",
       "    </tr>\n",
       "  </thead>\n",
       "  <tbody>\n",
       "    <tr>\n",
       "      <th>0</th>\n",
       "      <td>0</td>\n",
       "      <td>0</td>\n",
       "      <td>0</td>\n",
       "      <td>0</td>\n",
       "      <td>0</td>\n",
       "      <td>0</td>\n",
       "      <td>0</td>\n",
       "      <td>1</td>\n",
       "      <td>0</td>\n",
       "      <td>0</td>\n",
       "      <td>...</td>\n",
       "      <td>0</td>\n",
       "      <td>1</td>\n",
       "      <td>0</td>\n",
       "      <td>0</td>\n",
       "      <td>0</td>\n",
       "      <td>0</td>\n",
       "      <td>1</td>\n",
       "      <td>0</td>\n",
       "      <td>0</td>\n",
       "      <td>1</td>\n",
       "    </tr>\n",
       "    <tr>\n",
       "      <th>1</th>\n",
       "      <td>0</td>\n",
       "      <td>0</td>\n",
       "      <td>0</td>\n",
       "      <td>0</td>\n",
       "      <td>1</td>\n",
       "      <td>0</td>\n",
       "      <td>0</td>\n",
       "      <td>0</td>\n",
       "      <td>0</td>\n",
       "      <td>0</td>\n",
       "      <td>...</td>\n",
       "      <td>0</td>\n",
       "      <td>0</td>\n",
       "      <td>0</td>\n",
       "      <td>0</td>\n",
       "      <td>1</td>\n",
       "      <td>0</td>\n",
       "      <td>0</td>\n",
       "      <td>1</td>\n",
       "      <td>0</td>\n",
       "      <td>0</td>\n",
       "    </tr>\n",
       "    <tr>\n",
       "      <th>2</th>\n",
       "      <td>0</td>\n",
       "      <td>0</td>\n",
       "      <td>0</td>\n",
       "      <td>0</td>\n",
       "      <td>0</td>\n",
       "      <td>0</td>\n",
       "      <td>0</td>\n",
       "      <td>1</td>\n",
       "      <td>0</td>\n",
       "      <td>0</td>\n",
       "      <td>...</td>\n",
       "      <td>0</td>\n",
       "      <td>0</td>\n",
       "      <td>0</td>\n",
       "      <td>0</td>\n",
       "      <td>1</td>\n",
       "      <td>0</td>\n",
       "      <td>0</td>\n",
       "      <td>0</td>\n",
       "      <td>0</td>\n",
       "      <td>1</td>\n",
       "    </tr>\n",
       "    <tr>\n",
       "      <th>3</th>\n",
       "      <td>0</td>\n",
       "      <td>0</td>\n",
       "      <td>0</td>\n",
       "      <td>0</td>\n",
       "      <td>0</td>\n",
       "      <td>0</td>\n",
       "      <td>0</td>\n",
       "      <td>1</td>\n",
       "      <td>0</td>\n",
       "      <td>0</td>\n",
       "      <td>...</td>\n",
       "      <td>0</td>\n",
       "      <td>0</td>\n",
       "      <td>0</td>\n",
       "      <td>0</td>\n",
       "      <td>1</td>\n",
       "      <td>0</td>\n",
       "      <td>0</td>\n",
       "      <td>1</td>\n",
       "      <td>0</td>\n",
       "      <td>0</td>\n",
       "    </tr>\n",
       "    <tr>\n",
       "      <th>4</th>\n",
       "      <td>0</td>\n",
       "      <td>0</td>\n",
       "      <td>0</td>\n",
       "      <td>0</td>\n",
       "      <td>0</td>\n",
       "      <td>0</td>\n",
       "      <td>0</td>\n",
       "      <td>0</td>\n",
       "      <td>1</td>\n",
       "      <td>0</td>\n",
       "      <td>...</td>\n",
       "      <td>0</td>\n",
       "      <td>0</td>\n",
       "      <td>0</td>\n",
       "      <td>0</td>\n",
       "      <td>1</td>\n",
       "      <td>0</td>\n",
       "      <td>0</td>\n",
       "      <td>1</td>\n",
       "      <td>0</td>\n",
       "      <td>0</td>\n",
       "    </tr>\n",
       "  </tbody>\n",
       "</table>\n",
       "<p>5 rows × 49 columns</p>\n",
       "</div>"
      ],
      "text/plain": [
       "   department_Analytics  department_Finance  department_HR  department_Legal  \\\n",
       "0                     0                   0              0                 0   \n",
       "1                     0                   0              0                 0   \n",
       "2                     0                   0              0                 0   \n",
       "3                     0                   0              0                 0   \n",
       "4                     0                   0              0                 0   \n",
       "\n",
       "   department_Operations  department_Procurement  department_R&D  \\\n",
       "0                      0                       0               0   \n",
       "1                      1                       0               0   \n",
       "2                      0                       0               0   \n",
       "3                      0                       0               0   \n",
       "4                      0                       0               0   \n",
       "\n",
       "   department_Sales & Marketing  department_Technology  region_region_1  ...  \\\n",
       "0                             1                      0                0  ...   \n",
       "1                             0                      0                0  ...   \n",
       "2                             1                      0                0  ...   \n",
       "3                             1                      0                0  ...   \n",
       "4                             0                      1                0  ...   \n",
       "\n",
       "   region_region_6  region_region_7  region_region_8  region_region_9  \\\n",
       "0                0                1                0                0   \n",
       "1                0                0                0                0   \n",
       "2                0                0                0                0   \n",
       "3                0                0                0                0   \n",
       "4                0                0                0                0   \n",
       "\n",
       "   education_Bachelor's  education_Below Secondary  \\\n",
       "0                     0                          0   \n",
       "1                     1                          0   \n",
       "2                     1                          0   \n",
       "3                     1                          0   \n",
       "4                     1                          0   \n",
       "\n",
       "   education_Master's & above  recruitment_channel_other  \\\n",
       "0                           1                          0   \n",
       "1                           0                          1   \n",
       "2                           0                          0   \n",
       "3                           0                          1   \n",
       "4                           0                          1   \n",
       "\n",
       "   recruitment_channel_referred  recruitment_channel_sourcing  \n",
       "0                             0                             1  \n",
       "1                             0                             0  \n",
       "2                             0                             1  \n",
       "3                             0                             0  \n",
       "4                             0                             0  \n",
       "\n",
       "[5 rows x 49 columns]"
      ]
     },
     "execution_count": 281,
     "metadata": {},
     "output_type": "execute_result"
    }
   ],
   "source": [
    "multi_dummy.head()"
   ]
  },
  {
   "cell_type": "code",
   "execution_count": 282,
   "id": "9bc8ad03",
   "metadata": {},
   "outputs": [],
   "source": [
    "# reseting the index to concatenate\n",
    "combinedf=combinedf.reset_index()"
   ]
  },
  {
   "cell_type": "code",
   "execution_count": 283,
   "id": "6d03097b",
   "metadata": {},
   "outputs": [],
   "source": [
    "multi_dummy=multi_dummy.reset_index()"
   ]
  },
  {
   "cell_type": "code",
   "execution_count": 284,
   "id": "c14950e6",
   "metadata": {},
   "outputs": [],
   "source": [
    "cleandf=pd.concat([multi_dummy,combinedf[other_cols]],axis=1)"
   ]
  },
  {
   "cell_type": "code",
   "execution_count": 285,
   "id": "786f6c4d",
   "metadata": {},
   "outputs": [
    {
     "data": {
      "text/plain": [
       "Index(['index', 'department_Analytics', 'department_Finance', 'department_HR',\n",
       "       'department_Legal', 'department_Operations', 'department_Procurement',\n",
       "       'department_R&D', 'department_Sales & Marketing',\n",
       "       'department_Technology', 'region_region_1', 'region_region_10',\n",
       "       'region_region_11', 'region_region_12', 'region_region_13',\n",
       "       'region_region_14', 'region_region_15', 'region_region_16',\n",
       "       'region_region_17', 'region_region_18', 'region_region_19',\n",
       "       'region_region_2', 'region_region_20', 'region_region_21',\n",
       "       'region_region_22', 'region_region_23', 'region_region_24',\n",
       "       'region_region_25', 'region_region_26', 'region_region_27',\n",
       "       'region_region_28', 'region_region_29', 'region_region_3',\n",
       "       'region_region_30', 'region_region_31', 'region_region_32',\n",
       "       'region_region_33', 'region_region_34', 'region_region_4',\n",
       "       'region_region_5', 'region_region_6', 'region_region_7',\n",
       "       'region_region_8', 'region_region_9', 'education_Bachelor's',\n",
       "       'education_Below Secondary', 'education_Master's & above',\n",
       "       'recruitment_channel_other', 'recruitment_channel_referred',\n",
       "       'recruitment_channel_sourcing', 'employee_id', 'age', 'KPIs_met >80%',\n",
       "       'no_of_trainings', 'length_of_service', 'awards_won?',\n",
       "       'avg_training_score', 'previous_year_rating', 'is_promoted', 'gender'],\n",
       "      dtype='object')"
      ]
     },
     "execution_count": 285,
     "metadata": {},
     "output_type": "execute_result"
    }
   ],
   "source": [
    "cleandf.columns"
   ]
  },
  {
   "cell_type": "code",
   "execution_count": 286,
   "id": "6ecf99bd",
   "metadata": {},
   "outputs": [],
   "source": [
    "# Dropping index column as the index has been reset\n",
    "# Dropping employee_id as all the values are unique\n",
    "# Drooping department_Sales & Marketing, region_region_34, education_Master's & above and recruitment_channel_sourcing\n",
    "# to avoid dummy variable trap\n",
    "cleandf.drop(['index', 'employee_id', 'department_Sales & Marketing', 'region_region_34', \"education_Master's & above\",\n",
    "              'recruitment_channel_sourcing'],axis=1,inplace=True)"
   ]
  },
  {
   "cell_type": "code",
   "execution_count": 287,
   "id": "31f8efbe",
   "metadata": {},
   "outputs": [
    {
     "data": {
      "text/plain": [
       "(78298, 54)"
      ]
     },
     "execution_count": 287,
     "metadata": {},
     "output_type": "execute_result"
    }
   ],
   "source": [
    "cleandf.shape"
   ]
  },
  {
   "cell_type": "code",
   "execution_count": 288,
   "id": "94156625",
   "metadata": {},
   "outputs": [],
   "source": [
    "# Splitting the cleaned dataset back to train and test data\n",
    "hrtraindf=cleandf[cleandf.is_promoted!='test']\n",
    "hrtestdf=cleandf[cleandf.is_promoted=='test']"
   ]
  },
  {
   "cell_type": "code",
   "execution_count": 289,
   "id": "c2889651",
   "metadata": {},
   "outputs": [
    {
     "name": "stdout",
     "output_type": "stream",
     "text": [
      "(54808, 54)\n",
      "(23490, 54)\n"
     ]
    }
   ],
   "source": [
    "print(hrtraindf.shape)\n",
    "print(hrtestdf.shape)"
   ]
  },
  {
   "cell_type": "code",
   "execution_count": 290,
   "id": "42b77478",
   "metadata": {},
   "outputs": [
    {
     "data": {
      "text/plain": [
       "Index(['department_Analytics', 'department_Finance', 'department_HR',\n",
       "       'department_Legal', 'department_Operations', 'department_Procurement',\n",
       "       'department_R&D', 'department_Technology', 'region_region_1',\n",
       "       'region_region_10', 'region_region_11', 'region_region_12',\n",
       "       'region_region_13', 'region_region_14', 'region_region_15',\n",
       "       'region_region_16', 'region_region_17', 'region_region_18',\n",
       "       'region_region_19', 'region_region_2', 'region_region_20',\n",
       "       'region_region_21', 'region_region_22', 'region_region_23',\n",
       "       'region_region_24', 'region_region_25', 'region_region_26',\n",
       "       'region_region_27', 'region_region_28', 'region_region_29',\n",
       "       'region_region_3', 'region_region_30', 'region_region_31',\n",
       "       'region_region_32', 'region_region_33', 'region_region_4',\n",
       "       'region_region_5', 'region_region_6', 'region_region_7',\n",
       "       'region_region_8', 'region_region_9', 'education_Bachelor's',\n",
       "       'education_Below Secondary', 'recruitment_channel_other',\n",
       "       'recruitment_channel_referred', 'age', 'KPIs_met >80%',\n",
       "       'no_of_trainings', 'length_of_service', 'awards_won?',\n",
       "       'avg_training_score', 'previous_year_rating', 'is_promoted', 'gender'],\n",
       "      dtype='object')"
      ]
     },
     "execution_count": 290,
     "metadata": {},
     "output_type": "execute_result"
    }
   ],
   "source": [
    "hrtraindf.columns"
   ]
  },
  {
   "cell_type": "code",
   "execution_count": 291,
   "id": "6c0d9f5d",
   "metadata": {},
   "outputs": [],
   "source": [
    "# dropping the dependent variable from test data\n",
    "hrtestdf.drop('is_promoted',axis=1,inplace=True)"
   ]
  },
  {
   "cell_type": "code",
   "execution_count": 49,
   "id": "a40780d8",
   "metadata": {},
   "outputs": [],
   "source": [
    "# 1. Test null average of avg_training_score of is_promoted is equal?"
   ]
  },
  {
   "cell_type": "code",
   "execution_count": 50,
   "id": "0b1ee54d",
   "metadata": {},
   "outputs": [
    {
     "data": {
      "text/plain": [
       "is_promoted\n",
       "0    62.647686\n",
       "1    71.325193\n",
       "Name: avg_training_score, dtype: float64"
      ]
     },
     "execution_count": 50,
     "metadata": {},
     "output_type": "execute_result"
    }
   ],
   "source": [
    "hrtraindf.avg_training_score.groupby(hrtraindf.is_promoted).mean()"
   ]
  },
  {
   "cell_type": "code",
   "execution_count": 51,
   "id": "d258e13b",
   "metadata": {},
   "outputs": [
    {
     "data": {
      "text/plain": [
       "is_promoted\n",
       "0    168.791268\n",
       "1    217.448116\n",
       "Name: avg_training_score, dtype: float64"
      ]
     },
     "execution_count": 51,
     "metadata": {},
     "output_type": "execute_result"
    }
   ],
   "source": [
    "hrtraindf.avg_training_score.groupby(hrtraindf.is_promoted).var()"
   ]
  },
  {
   "cell_type": "code",
   "execution_count": 52,
   "id": "5379b2a4",
   "metadata": {},
   "outputs": [],
   "source": [
    "# Null - There is no significant difference in average of avg_training_score of is_promoted (0 & 1)\n",
    "# Alt - There is a significant difference in average of avg_training_score of is_promoted (0 & 1)"
   ]
  },
  {
   "cell_type": "code",
   "execution_count": 53,
   "id": "38a38dc5",
   "metadata": {},
   "outputs": [],
   "source": [
    "# splitting promoted and non-promoted records\n",
    "promotedyes=hrtraindf[hrtraindf.is_promoted==1]\n",
    "promotedno=hrtraindf[hrtraindf.is_promoted==0]"
   ]
  },
  {
   "cell_type": "code",
   "execution_count": 54,
   "id": "853ea8a7",
   "metadata": {},
   "outputs": [],
   "source": [
    "from scipy.stats import ttest_ind"
   ]
  },
  {
   "cell_type": "code",
   "execution_count": 55,
   "id": "55ed1549",
   "metadata": {},
   "outputs": [
    {
     "data": {
      "text/plain": [
       "Ttest_indResult(statistic=38.82675007357188, pvalue=7.662329172468838e-291)"
      ]
     },
     "execution_count": 55,
     "metadata": {},
     "output_type": "execute_result"
    }
   ],
   "source": [
    "ttest_ind(promotedyes.avg_training_score,promotedno.avg_training_score,equal_var=False)\n",
    "\n",
    "# since pvalue=7.662329172468838e-291<0.05, reject Null hypothesis"
   ]
  },
  {
   "cell_type": "code",
   "execution_count": 56,
   "id": "1f61be1e",
   "metadata": {},
   "outputs": [],
   "source": [
    "# 2. Test null average of length_of_service of is_promoted is equal?"
   ]
  },
  {
   "cell_type": "code",
   "execution_count": 57,
   "id": "7cc9f01b",
   "metadata": {},
   "outputs": [
    {
     "data": {
      "text/plain": [
       "is_promoted\n",
       "0    5.879398\n",
       "1    5.716367\n",
       "Name: length_of_service, dtype: float64"
      ]
     },
     "execution_count": 57,
     "metadata": {},
     "output_type": "execute_result"
    }
   ],
   "source": [
    "hrtraindf.length_of_service.groupby(hrtraindf.is_promoted).mean()"
   ]
  },
  {
   "cell_type": "code",
   "execution_count": 58,
   "id": "89054327",
   "metadata": {},
   "outputs": [
    {
     "data": {
      "text/plain": [
       "is_promoted\n",
       "0    18.387278\n",
       "1    16.062239\n",
       "Name: length_of_service, dtype: float64"
      ]
     },
     "execution_count": 58,
     "metadata": {},
     "output_type": "execute_result"
    }
   ],
   "source": [
    "hrtraindf.length_of_service.groupby(hrtraindf.is_promoted).var()"
   ]
  },
  {
   "cell_type": "code",
   "execution_count": 59,
   "id": "5cc211cc",
   "metadata": {},
   "outputs": [],
   "source": [
    "# Null - There is no significant difference in average of avg_training_score of is_promoted 0 & 1\n",
    "# Alt - There is q significant difference in average of avg_training_score of is_promoted 0 & 1"
   ]
  },
  {
   "cell_type": "code",
   "execution_count": 60,
   "id": "042a58f1",
   "metadata": {},
   "outputs": [
    {
     "data": {
      "text/plain": [
       "Ttest_indResult(statistic=-2.6420549711884886, pvalue=0.008262946987836755)"
      ]
     },
     "execution_count": 60,
     "metadata": {},
     "output_type": "execute_result"
    }
   ],
   "source": [
    "ttest_ind(promotedyes.length_of_service,promotedno.length_of_service,equal_var=False)\n",
    "\n",
    "# since pvalue=0.008262946987836755<0.05, reject Null hypothesis"
   ]
  },
  {
   "cell_type": "code",
   "execution_count": 61,
   "id": "7c7cf370",
   "metadata": {},
   "outputs": [],
   "source": [
    "# 3. Test null average of avg_training_score of previous_year_rating is equal?"
   ]
  },
  {
   "cell_type": "code",
   "execution_count": 62,
   "id": "97f0672c",
   "metadata": {},
   "outputs": [
    {
     "data": {
      "text/plain": [
       "previous_year_rating\n",
       "1.0    60.064760\n",
       "2.0    61.924024\n",
       "3.0    64.045423\n",
       "4.0    64.119773\n",
       "5.0    63.781364\n",
       "Name: avg_training_score, dtype: float64"
      ]
     },
     "execution_count": 62,
     "metadata": {},
     "output_type": "execute_result"
    }
   ],
   "source": [
    "hrtraindf.avg_training_score.groupby(hrtraindf.previous_year_rating).mean()"
   ]
  },
  {
   "cell_type": "code",
   "execution_count": 63,
   "id": "40dda235",
   "metadata": {},
   "outputs": [],
   "source": [
    "# Null - There is no significant difference in average of avg_training_score of previous_year_rating\n",
    "# Alt - There is a significant difference in average of avg_training_score of previous_year_rating"
   ]
  },
  {
   "cell_type": "code",
   "execution_count": 64,
   "id": "fa0aefb2",
   "metadata": {},
   "outputs": [],
   "source": [
    "rating1=hrtrain[hrtrain.previous_year_rating==1]\n",
    "rating2=hrtrain[hrtrain.previous_year_rating==2]\n",
    "rating3=hrtrain[hrtrain.previous_year_rating==3]\n",
    "rating4=hrtrain[hrtrain.previous_year_rating==4]\n",
    "rating5=hrtrain[hrtrain.previous_year_rating==5]"
   ]
  },
  {
   "cell_type": "code",
   "execution_count": 65,
   "id": "c71061ea",
   "metadata": {},
   "outputs": [],
   "source": [
    "from scipy.stats import f_oneway"
   ]
  },
  {
   "cell_type": "code",
   "execution_count": 66,
   "id": "af422d0c",
   "metadata": {},
   "outputs": [
    {
     "data": {
      "text/plain": [
       "F_onewayResult(statistic=137.9606813012624, pvalue=1.7958355662933346e-117)"
      ]
     },
     "execution_count": 66,
     "metadata": {},
     "output_type": "execute_result"
    }
   ],
   "source": [
    "f_oneway(rating1.avg_training_score,rating2.avg_training_score,rating3.avg_training_score,\n",
    "         rating4.avg_training_score,rating5.avg_training_score)\n",
    "\n",
    "# since pvalue=1.7958355662933346e-117<0.05, reject Null hypothesis"
   ]
  },
  {
   "cell_type": "code",
   "execution_count": 67,
   "id": "a884bba0",
   "metadata": {},
   "outputs": [],
   "source": [
    "# 4. Test null average of length_of_service of previous_year_rating is equal?"
   ]
  },
  {
   "cell_type": "code",
   "execution_count": 68,
   "id": "88c92884",
   "metadata": {},
   "outputs": [
    {
     "data": {
      "text/plain": [
       "previous_year_rating\n",
       "1.0    6.223686\n",
       "2.0    6.241893\n",
       "3.0    5.346539\n",
       "4.0    6.193986\n",
       "5.0    6.269142\n",
       "Name: length_of_service, dtype: float64"
      ]
     },
     "execution_count": 68,
     "metadata": {},
     "output_type": "execute_result"
    }
   ],
   "source": [
    "hrtraindf.length_of_service.groupby(hrtraindf.previous_year_rating).mean()"
   ]
  },
  {
   "cell_type": "code",
   "execution_count": 69,
   "id": "ce9a5d90",
   "metadata": {},
   "outputs": [],
   "source": [
    "# Null - There is no significant difference in average of length_of_service of previous_year_rating\n",
    "# Alt - There is a significant difference in average of length_of_service of previous_year_rating"
   ]
  },
  {
   "cell_type": "code",
   "execution_count": 70,
   "id": "a91c4afe",
   "metadata": {},
   "outputs": [
    {
     "data": {
      "text/plain": [
       "F_onewayResult(statistic=1.4045457184008736, pvalue=0.22955174669633055)"
      ]
     },
     "execution_count": 70,
     "metadata": {},
     "output_type": "execute_result"
    }
   ],
   "source": [
    "f_oneway(rating1.length_of_service,rating2.length_of_service,rating3.length_of_service,\n",
    "         rating4.length_of_service,rating5.length_of_service)\n",
    "\n",
    "# since pvalue=pvalue=0.22955174669633055>0.05, we fail to reject Null hypothesis"
   ]
  },
  {
   "cell_type": "code",
   "execution_count": 71,
   "id": "c9c4350a",
   "metadata": {},
   "outputs": [],
   "source": [
    "# 5. Test null no association between gender and is_promoted"
   ]
  },
  {
   "cell_type": "code",
   "execution_count": 72,
   "id": "abbec1c0",
   "metadata": {},
   "outputs": [
    {
     "data": {
      "text/html": [
       "<div>\n",
       "<style scoped>\n",
       "    .dataframe tbody tr th:only-of-type {\n",
       "        vertical-align: middle;\n",
       "    }\n",
       "\n",
       "    .dataframe tbody tr th {\n",
       "        vertical-align: top;\n",
       "    }\n",
       "\n",
       "    .dataframe thead th {\n",
       "        text-align: right;\n",
       "    }\n",
       "</style>\n",
       "<table border=\"1\" class=\"dataframe\">\n",
       "  <thead>\n",
       "    <tr style=\"text-align: right;\">\n",
       "      <th>is_promoted</th>\n",
       "      <th>0</th>\n",
       "      <th>1</th>\n",
       "    </tr>\n",
       "    <tr>\n",
       "      <th>gender</th>\n",
       "      <th></th>\n",
       "      <th></th>\n",
       "    </tr>\n",
       "  </thead>\n",
       "  <tbody>\n",
       "    <tr>\n",
       "      <th>0</th>\n",
       "      <td>14845</td>\n",
       "      <td>1467</td>\n",
       "    </tr>\n",
       "    <tr>\n",
       "      <th>1</th>\n",
       "      <td>35295</td>\n",
       "      <td>3201</td>\n",
       "    </tr>\n",
       "  </tbody>\n",
       "</table>\n",
       "</div>"
      ],
      "text/plain": [
       "is_promoted      0     1\n",
       "gender                  \n",
       "0            14845  1467\n",
       "1            35295  3201"
      ]
     },
     "execution_count": 72,
     "metadata": {},
     "output_type": "execute_result"
    }
   ],
   "source": [
    "pd.crosstab(hrtraindf.gender,hrtraindf.is_promoted)"
   ]
  },
  {
   "cell_type": "code",
   "execution_count": 73,
   "id": "4892ee5c",
   "metadata": {},
   "outputs": [],
   "source": [
    "# Null - There is no association between gender and is_promoted\n",
    "# Alt - There is an association between gender and is_promoted"
   ]
  },
  {
   "cell_type": "code",
   "execution_count": 74,
   "id": "b9d11f52",
   "metadata": {},
   "outputs": [],
   "source": [
    "from scipy.stats import chi2_contingency"
   ]
  },
  {
   "cell_type": "code",
   "execution_count": 75,
   "id": "100c38c3",
   "metadata": {},
   "outputs": [
    {
     "data": {
      "text/plain": [
       "(6.677254566546107,\n",
       " 0.009765091521176657,\n",
       " 1,\n",
       " array([[14922.70617428,  1389.29382572],\n",
       "        [35217.29382572,  3278.70617428]]))"
      ]
     },
     "execution_count": 75,
     "metadata": {},
     "output_type": "execute_result"
    }
   ],
   "source": [
    "chi2_contingency(pd.crosstab(hrtraindf.gender,hrtraindf.is_promoted))\n",
    "# Since P-value=0.009765091521176657<0.05, we reject null hypothesis"
   ]
  },
  {
   "cell_type": "code",
   "execution_count": 76,
   "id": "3f765eb5",
   "metadata": {},
   "outputs": [],
   "source": [
    "# 6. Test null no association between recruitment_channel and is_promoted"
   ]
  },
  {
   "cell_type": "code",
   "execution_count": 77,
   "id": "9a700a09",
   "metadata": {},
   "outputs": [
    {
     "data": {
      "text/html": [
       "<div>\n",
       "<style scoped>\n",
       "    .dataframe tbody tr th:only-of-type {\n",
       "        vertical-align: middle;\n",
       "    }\n",
       "\n",
       "    .dataframe tbody tr th {\n",
       "        vertical-align: top;\n",
       "    }\n",
       "\n",
       "    .dataframe thead th {\n",
       "        text-align: right;\n",
       "    }\n",
       "</style>\n",
       "<table border=\"1\" class=\"dataframe\">\n",
       "  <thead>\n",
       "    <tr style=\"text-align: right;\">\n",
       "      <th>is_promoted</th>\n",
       "      <th>0</th>\n",
       "      <th>1</th>\n",
       "    </tr>\n",
       "    <tr>\n",
       "      <th>recruitment_channel</th>\n",
       "      <th></th>\n",
       "      <th></th>\n",
       "    </tr>\n",
       "  </thead>\n",
       "  <tbody>\n",
       "    <tr>\n",
       "      <th>other</th>\n",
       "      <td>27890</td>\n",
       "      <td>2556</td>\n",
       "    </tr>\n",
       "    <tr>\n",
       "      <th>referred</th>\n",
       "      <td>1004</td>\n",
       "      <td>138</td>\n",
       "    </tr>\n",
       "    <tr>\n",
       "      <th>sourcing</th>\n",
       "      <td>21246</td>\n",
       "      <td>1974</td>\n",
       "    </tr>\n",
       "  </tbody>\n",
       "</table>\n",
       "</div>"
      ],
      "text/plain": [
       "is_promoted              0     1\n",
       "recruitment_channel             \n",
       "other                27890  2556\n",
       "referred              1004   138\n",
       "sourcing             21246  1974"
      ]
     },
     "execution_count": 77,
     "metadata": {},
     "output_type": "execute_result"
    }
   ],
   "source": [
    "pd.crosstab(hrtrain.recruitment_channel,hrtrain.is_promoted)"
   ]
  },
  {
   "cell_type": "code",
   "execution_count": 78,
   "id": "78d980dc",
   "metadata": {},
   "outputs": [
    {
     "data": {
      "text/plain": [
       "(19.23633518768639,\n",
       " 6.650937825577018e-05,\n",
       " 2,\n",
       " array([[27852.91271347,  2593.08728653],\n",
       "        [ 1044.73580499,    97.26419501],\n",
       "        [21242.35148154,  1977.64851846]]))"
      ]
     },
     "execution_count": 78,
     "metadata": {},
     "output_type": "execute_result"
    }
   ],
   "source": [
    "chi2_contingency(pd.crosstab(hrtrain.recruitment_channel,hrtrain.is_promoted))\n",
    "# Since P-value=6.650937825577018e-05<0.05, we reject null hypothesis"
   ]
  },
  {
   "cell_type": "code",
   "execution_count": 79,
   "id": "03dd5821",
   "metadata": {},
   "outputs": [
    {
     "data": {
      "text/plain": [
       "0    50140\n",
       "1     4668\n",
       "Name: is_promoted, dtype: int64"
      ]
     },
     "execution_count": 79,
     "metadata": {},
     "output_type": "execute_result"
    }
   ],
   "source": [
    "hrtraindf.is_promoted.value_counts()\n",
    "# train data is heavily imbalanced, class '1' has very few records"
   ]
  },
  {
   "cell_type": "code",
   "execution_count": 80,
   "id": "d511e735",
   "metadata": {},
   "outputs": [],
   "source": [
    "X=hrtraindf.drop('is_promoted',axis=1)\n",
    "y=hrtraindf.is_promoted"
   ]
  },
  {
   "cell_type": "code",
   "execution_count": 81,
   "id": "0e6a17c1",
   "metadata": {},
   "outputs": [
    {
     "data": {
      "image/png": "[encoded data removed]",
      "text/plain": [
       "<Figure size 1440x1080 with 2 Axes>"
      ]
     },
     "metadata": {
      "needs_background": "light"
     },
     "output_type": "display_data"
    }
   ],
   "source": [
    "plt.figure(figsize=(20,15))\n",
    "sns.heatmap(X.corr())\n",
    "plt.show()"
   ]
  },
  {
   "cell_type": "code",
   "execution_count": 82,
   "id": "41022658",
   "metadata": {},
   "outputs": [],
   "source": [
    "from sklearn.preprocessing import LabelEncoder"
   ]
  },
  {
   "cell_type": "code",
   "execution_count": 83,
   "id": "f81325c1",
   "metadata": {},
   "outputs": [],
   "source": [
    "y=LabelEncoder().fit_transform(y)"
   ]
  },
  {
   "cell_type": "code",
   "execution_count": 84,
   "id": "c26d07a9",
   "metadata": {},
   "outputs": [],
   "source": [
    "from sklearn.linear_model import LogisticRegression"
   ]
  },
  {
   "cell_type": "code",
   "execution_count": 85,
   "id": "79f7b98f",
   "metadata": {},
   "outputs": [],
   "source": [
    "logit=LogisticRegression(max_iter=3000)"
   ]
  },
  {
   "cell_type": "code",
   "execution_count": 86,
   "id": "791a968f",
   "metadata": {},
   "outputs": [],
   "source": [
    "logitmodel=logit.fit(X,y)"
   ]
  },
  {
   "cell_type": "code",
   "execution_count": 87,
   "id": "4f82248e",
   "metadata": {},
   "outputs": [
    {
     "data": {
      "text/plain": [
       "0.9319259962049335"
      ]
     },
     "execution_count": 87,
     "metadata": {},
     "output_type": "execute_result"
    }
   ],
   "source": [
    "logitmodel.score(X,y)"
   ]
  },
  {
   "cell_type": "code",
   "execution_count": 88,
   "id": "39d30a3a",
   "metadata": {},
   "outputs": [],
   "source": [
    "logit_predict=logitmodel.predict(X)"
   ]
  },
  {
   "cell_type": "code",
   "execution_count": 180,
   "id": "e0b3ab03",
   "metadata": {},
   "outputs": [],
   "source": [
    "from sklearn.metrics import classification_report,plot_confusion_matrix,plot_roc_curve\n",
    "from sklearn.metrics import precision_score,recall_score,f1_score,accuracy_score"
   ]
  },
  {
   "cell_type": "code",
   "execution_count": 90,
   "id": "940cc81f",
   "metadata": {},
   "outputs": [
    {
     "name": "stdout",
     "output_type": "stream",
     "text": [
      "              precision    recall  f1-score   support\n",
      "\n",
      "           0       0.93      1.00      0.96     50140\n",
      "           1       0.83      0.25      0.39      4668\n",
      "\n",
      "    accuracy                           0.93     54808\n",
      "   macro avg       0.88      0.62      0.68     54808\n",
      "weighted avg       0.93      0.93      0.91     54808\n",
      "\n"
     ]
    }
   ],
   "source": [
    "print(classification_report(y,logit_predict))\n",
    "# Precision, Recall and F1-score are very poor for minority class (1)"
   ]
  },
  {
   "cell_type": "code",
   "execution_count": 91,
   "id": "3a429ae8",
   "metadata": {},
   "outputs": [
    {
     "data": {
      "text/plain": [
       "<sklearn.metrics._plot.roc_curve.RocCurveDisplay at 0x27d914fc340>"
      ]
     },
     "execution_count": 91,
     "metadata": {},
     "output_type": "execute_result"
    },
    {
     "data": {
      "image/png": "[encoded data removed]",
      "text/plain": [
       "<Figure size 432x288 with 1 Axes>"
      ]
     },
     "metadata": {
      "needs_background": "light"
     },
     "output_type": "display_data"
    }
   ],
   "source": [
    "plot_roc_curve(logit,X,y) # AUC - 0.88"
   ]
  },
  {
   "cell_type": "code",
   "execution_count": 92,
   "id": "165047f4",
   "metadata": {},
   "outputs": [
    {
     "data": {
      "text/plain": [
       "<sklearn.metrics._plot.confusion_matrix.ConfusionMatrixDisplay at 0x27d900409d0>"
      ]
     },
     "execution_count": 92,
     "metadata": {},
     "output_type": "execute_result"
    },
    {
     "data": {
      "image/png": "[encoded data removed]",
      "text/plain": [
       "<Figure size 432x288 with 2 Axes>"
      ]
     },
     "metadata": {
      "needs_background": "light"
     },
     "output_type": "display_data"
    }
   ],
   "source": [
    "plot_confusion_matrix(logit,X,y)\n",
    "# Most of the minority class records are wrongly predicted, this is due to imbalance in data"
   ]
  },
  {
   "cell_type": "code",
   "execution_count": 93,
   "id": "7d73e55d",
   "metadata": {},
   "outputs": [],
   "source": [
    "# UnderSampling/OverSampling is used to overcome the imbalanced data problem\n",
    "#SMOTE is an oversampling technique\n",
    "\n",
    "from imblearn.over_sampling import SMOTE"
   ]
  },
  {
   "cell_type": "code",
   "execution_count": 94,
   "id": "3ff558d7",
   "metadata": {},
   "outputs": [],
   "source": [
    "smote=SMOTE()"
   ]
  },
  {
   "cell_type": "code",
   "execution_count": 95,
   "id": "7f73f9ee",
   "metadata": {},
   "outputs": [],
   "source": [
    "x_smote,y_smote=smote.fit_resample(X,y)"
   ]
  },
  {
   "cell_type": "code",
   "execution_count": 96,
   "id": "d2ec5d95",
   "metadata": {},
   "outputs": [
    {
     "name": "stdout",
     "output_type": "stream",
     "text": [
      "(54808, 53) (54808,)\n",
      "(100280, 53) (100280,)\n"
     ]
    }
   ],
   "source": [
    "print(X.shape,y.shape)\n",
    "print(x_smote.shape,y_smote.shape)\n",
    "# no of records have increased"
   ]
  },
  {
   "cell_type": "code",
   "execution_count": 97,
   "id": "dc7c90c4",
   "metadata": {},
   "outputs": [
    {
     "data": {
      "text/plain": [
       "0    50140\n",
       "1    50140\n",
       "dtype: int64"
      ]
     },
     "execution_count": 97,
     "metadata": {},
     "output_type": "execute_result"
    }
   ],
   "source": [
    "pd.DataFrame(y_smote).value_counts()\n",
    "# Both the classes have equal no records"
   ]
  },
  {
   "cell_type": "code",
   "execution_count": 98,
   "id": "d5d19e6f",
   "metadata": {},
   "outputs": [],
   "source": [
    "from sklearn.model_selection import train_test_split"
   ]
  },
  {
   "cell_type": "code",
   "execution_count": 99,
   "id": "03dfcabd",
   "metadata": {},
   "outputs": [],
   "source": [
    "x_train,x_test,y_train,y_test=train_test_split(x_smote,y_smote,test_size=0.3,stratify=y_smote,random_state=27)"
   ]
  },
  {
   "cell_type": "code",
   "execution_count": 100,
   "id": "c28f4a0e",
   "metadata": {},
   "outputs": [],
   "source": [
    "smote_lm=logit.fit(x_train,y_train)"
   ]
  },
  {
   "cell_type": "code",
   "execution_count": 101,
   "id": "59c76b68",
   "metadata": {},
   "outputs": [
    {
     "data": {
      "text/plain": [
       "0.7819106501794975"
      ]
     },
     "execution_count": 101,
     "metadata": {},
     "output_type": "execute_result"
    }
   ],
   "source": [
    "smote_lm.score(x_train,y_train)"
   ]
  },
  {
   "cell_type": "code",
   "execution_count": 102,
   "id": "5165b3ed",
   "metadata": {},
   "outputs": [
    {
     "name": "stdout",
     "output_type": "stream",
     "text": [
      "0.778586624119133\n"
     ]
    }
   ],
   "source": [
    "smote_lm.score(x_test,y_test)"
   ]
  },
  {
   "cell_type": "code",
   "execution_count": 103,
   "id": "c5984cf2",
   "metadata": {},
   "outputs": [],
   "source": [
    "slm_predict=smote_lm.predict(x_test)"
   ]
  },
  {
   "cell_type": "code",
   "execution_count": 104,
   "id": "5a581450",
   "metadata": {},
   "outputs": [
    {
     "name": "stdout",
     "output_type": "stream",
     "text": [
      "              precision    recall  f1-score   support\n",
      "\n",
      "           0       0.78      0.77      0.78     15042\n",
      "           1       0.78      0.78      0.78     15042\n",
      "\n",
      "    accuracy                           0.78     30084\n",
      "   macro avg       0.78      0.78      0.78     30084\n",
      "weighted avg       0.78      0.78      0.78     30084\n",
      "\n"
     ]
    }
   ],
   "source": [
    "print(classification_report(y_test,slm_predict))\n",
    "# Precision, Recall and F1-score have improved after oversampling records"
   ]
  },
  {
   "cell_type": "code",
   "execution_count": 105,
   "id": "84d3eb33",
   "metadata": {},
   "outputs": [
    {
     "data": {
      "text/plain": [
       "<sklearn.metrics._plot.roc_curve.RocCurveDisplay at 0x27d998fedf0>"
      ]
     },
     "execution_count": 105,
     "metadata": {},
     "output_type": "execute_result"
    },
    {
     "data": {
      "image/png": "[encoded data removed]",
      "text/plain": [
       "<Figure size 432x288 with 1 Axes>"
      ]
     },
     "metadata": {
      "needs_background": "light"
     },
     "output_type": "display_data"
    }
   ],
   "source": [
    "plot_roc_curve(smote_lm,x_test,y_test) # AUC - 0.87"
   ]
  },
  {
   "cell_type": "code",
   "execution_count": 106,
   "id": "14a80eb1",
   "metadata": {},
   "outputs": [
    {
     "data": {
      "text/plain": [
       "<sklearn.metrics._plot.confusion_matrix.ConfusionMatrixDisplay at 0x27d9afe9100>"
      ]
     },
     "execution_count": 106,
     "metadata": {},
     "output_type": "execute_result"
    },
    {
     "data": {
      "image/png": "[encoded data removed]",
      "text/plain": [
       "<Figure size 432x288 with 2 Axes>"
      ]
     },
     "metadata": {
      "needs_background": "light"
     },
     "output_type": "display_data"
    }
   ],
   "source": [
    "plot_confusion_matrix(smote_lm,x_test,y_test)\n",
    "# False identification has been reduced"
   ]
  },
  {
   "cell_type": "code",
   "execution_count": 179,
   "id": "27ce65f2",
   "metadata": {},
   "outputs": [],
   "source": [
    "Model_metrics=pd.DataFrame(columns=['Model','AUC','Precision','Recall','F1-score','Accuracy'])"
   ]
  },
  {
   "cell_type": "code",
   "execution_count": 181,
   "id": "6bcf60ff",
   "metadata": {},
   "outputs": [],
   "source": [
    "Model_metrics.loc[0]=['Logistic Regression',0.87,precision_score(slm_predict,y_test),recall_score(slm_predict,y_test),\n",
    "                      f1_score(slm_predict,y_test),accuracy_score(slm_predict,y_test)]"
   ]
  },
  {
   "cell_type": "code",
   "execution_count": 109,
   "id": "3ea99e2b",
   "metadata": {},
   "outputs": [],
   "source": [
    "from sklearn.tree import DecisionTreeClassifier"
   ]
  },
  {
   "cell_type": "code",
   "execution_count": 110,
   "id": "9ebbd73c",
   "metadata": {},
   "outputs": [],
   "source": [
    "tree=DecisionTreeClassifier(max_depth=14)"
   ]
  },
  {
   "cell_type": "code",
   "execution_count": 111,
   "id": "b73c5639",
   "metadata": {},
   "outputs": [],
   "source": [
    "treemodel=tree.fit(x_train,y_train)"
   ]
  },
  {
   "cell_type": "code",
   "execution_count": 112,
   "id": "60e76a11",
   "metadata": {},
   "outputs": [
    {
     "data": {
      "text/plain": [
       "0.9365490911163029"
      ]
     },
     "execution_count": 112,
     "metadata": {},
     "output_type": "execute_result"
    }
   ],
   "source": [
    "treemodel.score(x_train,y_train)"
   ]
  },
  {
   "cell_type": "code",
   "execution_count": 113,
   "id": "c238a9c4",
   "metadata": {},
   "outputs": [
    {
     "name": "stdout",
     "output_type": "stream",
     "text": [
      "0.9190267251695253\n"
     ]
    }
   ],
   "source": [
    "treemodel.score(x_test,y_test)"
   ]
  },
  {
   "cell_type": "code",
   "execution_count": 114,
   "id": "07d94eb3",
   "metadata": {},
   "outputs": [],
   "source": [
    "tree_predict=treemodel.predict(x_test)"
   ]
  },
  {
   "cell_type": "code",
   "execution_count": 115,
   "id": "9535ef85",
   "metadata": {},
   "outputs": [
    {
     "name": "stdout",
     "output_type": "stream",
     "text": [
      "              precision    recall  f1-score   support\n",
      "\n",
      "           0       0.90      0.94      0.92     15042\n",
      "           1       0.94      0.90      0.92     15042\n",
      "\n",
      "    accuracy                           0.92     30084\n",
      "   macro avg       0.92      0.92      0.92     30084\n",
      "weighted avg       0.92      0.92      0.92     30084\n",
      "\n"
     ]
    }
   ],
   "source": [
    "print(classification_report(y_test,tree_predict))"
   ]
  },
  {
   "cell_type": "code",
   "execution_count": 116,
   "id": "10efd59a",
   "metadata": {},
   "outputs": [
    {
     "data": {
      "text/plain": [
       "<sklearn.metrics._plot.roc_curve.RocCurveDisplay at 0x27d9b096f40>"
      ]
     },
     "execution_count": 116,
     "metadata": {},
     "output_type": "execute_result"
    },
    {
     "data": {
      "image/png": "[encoded data removed]",
      "text/plain": [
       "<Figure size 432x288 with 1 Axes>"
      ]
     },
     "metadata": {
      "needs_background": "light"
     },
     "output_type": "display_data"
    }
   ],
   "source": [
    "plot_roc_curve(tree,x_test,y_test) # AUC - 0.97"
   ]
  },
  {
   "cell_type": "code",
   "execution_count": 117,
   "id": "c1837f3e",
   "metadata": {},
   "outputs": [
    {
     "data": {
      "text/plain": [
       "<sklearn.metrics._plot.confusion_matrix.ConfusionMatrixDisplay at 0x27d9b0d4bb0>"
      ]
     },
     "execution_count": 117,
     "metadata": {},
     "output_type": "execute_result"
    },
    {
     "data": {
      "image/png": "[encoded data removed]",
      "text/plain": [
       "<Figure size 432x288 with 2 Axes>"
      ]
     },
     "metadata": {
      "needs_background": "light"
     },
     "output_type": "display_data"
    }
   ],
   "source": [
    "plot_confusion_matrix(tree,x_test,y_test)\n",
    "# False identification has been reduced compared to Logistic regression model"
   ]
  },
  {
   "cell_type": "code",
   "execution_count": 182,
   "id": "bf50f8dc",
   "metadata": {},
   "outputs": [],
   "source": [
    "Model_metrics.loc[1]=['Decision Tree',0.97,precision_score(tree_predict,y_test),recall_score(tree_predict,y_test),\n",
    "                      f1_score(tree_predict,y_test),accuracy_score(tree_predict,y_test)]"
   ]
  },
  {
   "cell_type": "code",
   "execution_count": 119,
   "id": "696d7301",
   "metadata": {},
   "outputs": [],
   "source": [
    "from sklearn.ensemble import RandomForestClassifier"
   ]
  },
  {
   "cell_type": "code",
   "execution_count": 120,
   "id": "342084a7",
   "metadata": {},
   "outputs": [],
   "source": [
    "rf=RandomForestClassifier(max_depth=13)"
   ]
  },
  {
   "cell_type": "code",
   "execution_count": 348,
   "id": "ca04213d",
   "metadata": {},
   "outputs": [],
   "source": [
    "rf_model=rf.fit(x_train,y_train)"
   ]
  },
  {
   "cell_type": "code",
   "execution_count": 122,
   "id": "f7765907",
   "metadata": {},
   "outputs": [
    {
     "data": {
      "text/plain": [
       "0.9434013334093111"
      ]
     },
     "execution_count": 122,
     "metadata": {},
     "output_type": "execute_result"
    }
   ],
   "source": [
    "rf_model.score(x_train,y_train)"
   ]
  },
  {
   "cell_type": "code",
   "execution_count": 349,
   "id": "3eae1128",
   "metadata": {},
   "outputs": [
    {
     "data": {
      "text/plain": [
       "0.9342175242653903"
      ]
     },
     "execution_count": 349,
     "metadata": {},
     "output_type": "execute_result"
    }
   ],
   "source": [
    "rf_model.score(x_test,y_test)"
   ]
  },
  {
   "cell_type": "code",
   "execution_count": 124,
   "id": "e3779b4e",
   "metadata": {},
   "outputs": [],
   "source": [
    "rf_predict=rf_model.predict(x_test)"
   ]
  },
  {
   "cell_type": "code",
   "execution_count": 125,
   "id": "61b97863",
   "metadata": {},
   "outputs": [
    {
     "name": "stdout",
     "output_type": "stream",
     "text": [
      "              precision    recall  f1-score   support\n",
      "\n",
      "           0       0.94      0.92      0.93     15337\n",
      "           1       0.92      0.94      0.93     14747\n",
      "\n",
      "    accuracy                           0.93     30084\n",
      "   macro avg       0.93      0.93      0.93     30084\n",
      "weighted avg       0.93      0.93      0.93     30084\n",
      "\n"
     ]
    }
   ],
   "source": [
    "print(classification_report(rf_predict,y_test))"
   ]
  },
  {
   "cell_type": "code",
   "execution_count": 126,
   "id": "ecf79593",
   "metadata": {},
   "outputs": [
    {
     "data": {
      "text/plain": [
       "<sklearn.metrics._plot.roc_curve.RocCurveDisplay at 0x27d9b038970>"
      ]
     },
     "execution_count": 126,
     "metadata": {},
     "output_type": "execute_result"
    },
    {
     "data": {
      "image/png": "[encoded data removed]",
      "text/plain": [
       "<Figure size 432x288 with 1 Axes>"
      ]
     },
     "metadata": {
      "needs_background": "light"
     },
     "output_type": "display_data"
    }
   ],
   "source": [
    "plot_roc_curve(rf,x_test,y_test)"
   ]
  },
  {
   "cell_type": "code",
   "execution_count": 127,
   "id": "b1d10686",
   "metadata": {},
   "outputs": [
    {
     "data": {
      "text/plain": [
       "<sklearn.metrics._plot.confusion_matrix.ConfusionMatrixDisplay at 0x27d8eb14a60>"
      ]
     },
     "execution_count": 127,
     "metadata": {},
     "output_type": "execute_result"
    },
    {
     "data": {
      "image/png": "[encoded data removed]",
      "text/plain": [
       "<Figure size 432x288 with 2 Axes>"
      ]
     },
     "metadata": {
      "needs_background": "light"
     },
     "output_type": "display_data"
    }
   ],
   "source": [
    "plot_confusion_matrix(rf,x_test,y_test)\n",
    "# False identification has been reduced compared to all previous models"
   ]
  },
  {
   "cell_type": "code",
   "execution_count": 183,
   "id": "34c3cbe3",
   "metadata": {},
   "outputs": [],
   "source": [
    "Model_metrics.loc[2]=['Random Forest',0.97,precision_score(rf_predict,y_test),recall_score(rf_predict,y_test),\n",
    "                      f1_score(rf_predict,y_test),accuracy_score(rf_predict,y_test)]"
   ]
  },
  {
   "cell_type": "code",
   "execution_count": 129,
   "id": "dbc15c5a",
   "metadata": {},
   "outputs": [],
   "source": [
    "from sklearn.ensemble import GradientBoostingClassifier"
   ]
  },
  {
   "cell_type": "code",
   "execution_count": 130,
   "id": "c8fceedd",
   "metadata": {},
   "outputs": [],
   "source": [
    "gbm=GradientBoostingClassifier()"
   ]
  },
  {
   "cell_type": "code",
   "execution_count": 131,
   "id": "46a50460",
   "metadata": {},
   "outputs": [],
   "source": [
    "gbm_model=gbm.fit(x_train,y_train)"
   ]
  },
  {
   "cell_type": "code",
   "execution_count": 132,
   "id": "b0c9e049",
   "metadata": {},
   "outputs": [
    {
     "data": {
      "text/plain": [
       "0.9334719927061371"
      ]
     },
     "execution_count": 132,
     "metadata": {},
     "output_type": "execute_result"
    }
   ],
   "source": [
    "gbm_model.score(x_train,y_train)"
   ]
  },
  {
   "cell_type": "code",
   "execution_count": 133,
   "id": "4cbff4ba",
   "metadata": {},
   "outputs": [
    {
     "name": "stdout",
     "output_type": "stream",
     "text": [
      "0.932289589150379\n"
     ]
    }
   ],
   "source": [
    "gbm_model.score(x_test,y_test)"
   ]
  },
  {
   "cell_type": "code",
   "execution_count": 134,
   "id": "cfbe6486",
   "metadata": {},
   "outputs": [],
   "source": [
    "gbm_predict=gbm_model.predict(x_test)"
   ]
  },
  {
   "cell_type": "code",
   "execution_count": 135,
   "id": "5f02f284",
   "metadata": {},
   "outputs": [
    {
     "name": "stdout",
     "output_type": "stream",
     "text": [
      "              precision    recall  f1-score   support\n",
      "\n",
      "           0       0.97      0.90      0.94     16319\n",
      "           1       0.89      0.97      0.93     13765\n",
      "\n",
      "    accuracy                           0.93     30084\n",
      "   macro avg       0.93      0.94      0.93     30084\n",
      "weighted avg       0.94      0.93      0.93     30084\n",
      "\n"
     ]
    }
   ],
   "source": [
    "print(classification_report(gbm_predict,y_test))"
   ]
  },
  {
   "cell_type": "code",
   "execution_count": 136,
   "id": "362cd6be",
   "metadata": {},
   "outputs": [
    {
     "data": {
      "text/plain": [
       "<sklearn.metrics._plot.roc_curve.RocCurveDisplay at 0x27d914f3490>"
      ]
     },
     "execution_count": 136,
     "metadata": {},
     "output_type": "execute_result"
    },
    {
     "data": {
      "image/png": "[encoded data removed]",
      "text/plain": [
       "<Figure size 432x288 with 1 Axes>"
      ]
     },
     "metadata": {
      "needs_background": "light"
     },
     "output_type": "display_data"
    }
   ],
   "source": [
    "plot_roc_curve(gbm,x_test,y_test) "
   ]
  },
  {
   "cell_type": "code",
   "execution_count": 137,
   "id": "f4c4415a",
   "metadata": {},
   "outputs": [
    {
     "data": {
      "text/plain": [
       "<sklearn.metrics._plot.confusion_matrix.ConfusionMatrixDisplay at 0x27d90372100>"
      ]
     },
     "execution_count": 137,
     "metadata": {},
     "output_type": "execute_result"
    },
    {
     "data": {
      "image/png": "[encoded data removed]",
      "text/plain": [
       "<Figure size 432x288 with 2 Axes>"
      ]
     },
     "metadata": {
      "needs_background": "light"
     },
     "output_type": "display_data"
    }
   ],
   "source": [
    "plot_confusion_matrix(gbm,x_test,y_test)\n",
    "# False identification have decreased for class 0 and increased for class 1"
   ]
  },
  {
   "cell_type": "code",
   "execution_count": 184,
   "id": "dc790978",
   "metadata": {},
   "outputs": [],
   "source": [
    "Model_metrics.loc[3]=['Gradient Boosting Machine',0.98,precision_score(gbm_predict,y_test),recall_score(gbm_predict,y_test),\n",
    "                      f1_score(gbm_predict,y_test),accuracy_score(gbm_predict,y_test)]"
   ]
  },
  {
   "cell_type": "code",
   "execution_count": 190,
   "id": "7816e207",
   "metadata": {},
   "outputs": [],
   "source": [
    "from sklearn.ensemble import AdaBoostClassifier"
   ]
  },
  {
   "cell_type": "code",
   "execution_count": 198,
   "id": "2c67f500",
   "metadata": {},
   "outputs": [],
   "source": [
    "abc=AdaBoostClassifier(base_estimator=DecisionTreeClassifier(max_depth=10))"
   ]
  },
  {
   "cell_type": "code",
   "execution_count": 199,
   "id": "6bce175c",
   "metadata": {},
   "outputs": [],
   "source": [
    "abc_model=abc.fit(x_train,y_train)"
   ]
  },
  {
   "cell_type": "code",
   "execution_count": 200,
   "id": "34804d93",
   "metadata": {},
   "outputs": [
    {
     "data": {
      "text/plain": [
       "0.999886033392216"
      ]
     },
     "execution_count": 200,
     "metadata": {},
     "output_type": "execute_result"
    }
   ],
   "source": [
    "abc_model.score(x_train,y_train)"
   ]
  },
  {
   "cell_type": "code",
   "execution_count": 201,
   "id": "57b0d13f",
   "metadata": {},
   "outputs": [
    {
     "data": {
      "text/plain": [
       "0.9517019013429066"
      ]
     },
     "execution_count": 201,
     "metadata": {},
     "output_type": "execute_result"
    }
   ],
   "source": [
    "abc_model.score(x_test,y_test)"
   ]
  },
  {
   "cell_type": "code",
   "execution_count": 202,
   "id": "89c5ee28",
   "metadata": {},
   "outputs": [],
   "source": [
    "abc_pred=abc_model.predict(x_test)"
   ]
  },
  {
   "cell_type": "code",
   "execution_count": 203,
   "id": "b221487a",
   "metadata": {},
   "outputs": [
    {
     "name": "stdout",
     "output_type": "stream",
     "text": [
      "              precision    recall  f1-score   support\n",
      "\n",
      "           0       0.96      0.94      0.95     15369\n",
      "           1       0.94      0.96      0.95     14715\n",
      "\n",
      "    accuracy                           0.95     30084\n",
      "   macro avg       0.95      0.95      0.95     30084\n",
      "weighted avg       0.95      0.95      0.95     30084\n",
      "\n"
     ]
    }
   ],
   "source": [
    "print(classification_report(abc_pred,y_test))"
   ]
  },
  {
   "cell_type": "code",
   "execution_count": 204,
   "id": "c5cc02c3",
   "metadata": {},
   "outputs": [
    {
     "data": {
      "text/plain": [
       "<sklearn.metrics._plot.roc_curve.RocCurveDisplay at 0x27d9b09ef70>"
      ]
     },
     "execution_count": 204,
     "metadata": {},
     "output_type": "execute_result"
    },
    {
     "data": {
      "image/png": "[encoded data removed]",
      "text/plain": [
       "<Figure size 432x288 with 1 Axes>"
      ]
     },
     "metadata": {
      "needs_background": "light"
     },
     "output_type": "display_data"
    }
   ],
   "source": [
    "plot_roc_curve(abc,x_test,y_test)"
   ]
  },
  {
   "cell_type": "code",
   "execution_count": 205,
   "id": "e1e75b21",
   "metadata": {},
   "outputs": [
    {
     "data": {
      "text/plain": [
       "<sklearn.metrics._plot.confusion_matrix.ConfusionMatrixDisplay at 0x27d90057be0>"
      ]
     },
     "execution_count": 205,
     "metadata": {},
     "output_type": "execute_result"
    },
    {
     "data": {
      "image/png": "[encoded data removed]",
      "text/plain": [
       "<Figure size 432x288 with 2 Axes>"
      ]
     },
     "metadata": {
      "needs_background": "light"
     },
     "output_type": "display_data"
    }
   ],
   "source": [
    "plot_confusion_matrix(abc,x_test,y_test)"
   ]
  },
  {
   "cell_type": "code",
   "execution_count": 208,
   "id": "b6970404",
   "metadata": {},
   "outputs": [],
   "source": [
    "Model_metrics.loc[4]=['Ada Boost',0.99,precision_score(abc_pred,y_test),recall_score(abc_pred,y_test),\n",
    "                      f1_score(abc_pred,y_test),accuracy_score(abc_pred,y_test)]"
   ]
  },
  {
   "cell_type": "code",
   "execution_count": 210,
   "id": "f0e59fd7",
   "metadata": {},
   "outputs": [],
   "source": [
    "from xgboost import XGBClassifier"
   ]
  },
  {
   "cell_type": "code",
   "execution_count": 351,
   "id": "42a3a5a9",
   "metadata": {},
   "outputs": [],
   "source": [
    "xgb=XGBClassifier(eval_metric='error')"
   ]
  },
  {
   "cell_type": "code",
   "execution_count": 352,
   "id": "af1bfecd",
   "metadata": {},
   "outputs": [],
   "source": [
    "xgb_model=xgb.fit(x_train,y_train)"
   ]
  },
  {
   "cell_type": "code",
   "execution_count": 353,
   "id": "a9e4b188",
   "metadata": {},
   "outputs": [
    {
     "data": {
      "text/plain": [
       "0.963274260641632"
      ]
     },
     "execution_count": 353,
     "metadata": {},
     "output_type": "execute_result"
    }
   ],
   "source": [
    "xgb_model.score(x_train,y_train)"
   ]
  },
  {
   "cell_type": "code",
   "execution_count": 354,
   "id": "ee19f43d",
   "metadata": {},
   "outputs": [
    {
     "data": {
      "text/plain": [
       "0.9589150378938971"
      ]
     },
     "execution_count": 354,
     "metadata": {},
     "output_type": "execute_result"
    }
   ],
   "source": [
    "xgb_model.score(x_test,y_test)"
   ]
  },
  {
   "cell_type": "code",
   "execution_count": 215,
   "id": "cbb42042",
   "metadata": {},
   "outputs": [],
   "source": [
    "xgb_predict=xgb_model.predict(x_test)"
   ]
  },
  {
   "cell_type": "code",
   "execution_count": 216,
   "id": "294742a4",
   "metadata": {},
   "outputs": [
    {
     "name": "stdout",
     "output_type": "stream",
     "text": [
      "              precision    recall  f1-score   support\n",
      "\n",
      "           0       0.99      0.93      0.96     15962\n",
      "           1       0.93      0.99      0.96     14122\n",
      "\n",
      "    accuracy                           0.96     30084\n",
      "   macro avg       0.96      0.96      0.96     30084\n",
      "weighted avg       0.96      0.96      0.96     30084\n",
      "\n"
     ]
    }
   ],
   "source": [
    "print(classification_report(xgb_predict,y_test))"
   ]
  },
  {
   "cell_type": "code",
   "execution_count": 217,
   "id": "a3c48577",
   "metadata": {},
   "outputs": [
    {
     "data": {
      "text/plain": [
       "<sklearn.metrics._plot.roc_curve.RocCurveDisplay at 0x27da62fad30>"
      ]
     },
     "execution_count": 217,
     "metadata": {},
     "output_type": "execute_result"
    },
    {
     "data": {
      "image/png": "[encoded data removed]",
      "text/plain": [
       "<Figure size 432x288 with 1 Axes>"
      ]
     },
     "metadata": {
      "needs_background": "light"
     },
     "output_type": "display_data"
    }
   ],
   "source": [
    "plot_roc_curve(xgb,x_test,y_test)"
   ]
  },
  {
   "cell_type": "code",
   "execution_count": 218,
   "id": "8ef7223a",
   "metadata": {},
   "outputs": [
    {
     "data": {
      "text/plain": [
       "<sklearn.metrics._plot.confusion_matrix.ConfusionMatrixDisplay at 0x27da7527730>"
      ]
     },
     "execution_count": 218,
     "metadata": {},
     "output_type": "execute_result"
    },
    {
     "data": {
      "image/png": "[encoded data removed]",
      "text/plain": [
       "<Figure size 432x288 with 2 Axes>"
      ]
     },
     "metadata": {
      "needs_background": "light"
     },
     "output_type": "display_data"
    }
   ],
   "source": [
    "plot_confusion_matrix(xgb,x_test,y_test)"
   ]
  },
  {
   "cell_type": "code",
   "execution_count": 224,
   "id": "d8b160a4",
   "metadata": {},
   "outputs": [],
   "source": [
    "Model_metrics.loc[5]=['XGBoost',0.99,precision_score(xgb_predict,y_test),recall_score(xgb_predict,y_test),\n",
    "                      f1_score(xgb_predict,y_test),accuracy_score(xgb_predict,y_test)]"
   ]
  },
  {
   "cell_type": "code",
   "execution_count": 139,
   "id": "91305f62",
   "metadata": {},
   "outputs": [],
   "source": [
    "from sklearn.neighbors import KNeighborsClassifier"
   ]
  },
  {
   "cell_type": "code",
   "execution_count": 140,
   "id": "d85d3f7d",
   "metadata": {},
   "outputs": [],
   "source": [
    "knn=KNeighborsClassifier(n_neighbors=3,weights='distance')"
   ]
  },
  {
   "cell_type": "code",
   "execution_count": 141,
   "id": "8d46eac3",
   "metadata": {},
   "outputs": [],
   "source": [
    "knn_model=knn.fit(x_train,y_train)"
   ]
  },
  {
   "cell_type": "code",
   "execution_count": 142,
   "id": "47995448",
   "metadata": {},
   "outputs": [
    {
     "data": {
      "text/plain": [
       "0.999886033392216"
      ]
     },
     "execution_count": 142,
     "metadata": {},
     "output_type": "execute_result"
    }
   ],
   "source": [
    "knn_model.score(x_train,y_train)"
   ]
  },
  {
   "cell_type": "code",
   "execution_count": 143,
   "id": "ffb7ecfb",
   "metadata": {},
   "outputs": [
    {
     "name": "stdout",
     "output_type": "stream",
     "text": [
      "0.8551057040287195\n"
     ]
    }
   ],
   "source": [
    "knn_model.score(x_test,y_test)"
   ]
  },
  {
   "cell_type": "code",
   "execution_count": 144,
   "id": "72963d00",
   "metadata": {},
   "outputs": [],
   "source": [
    "knn_predict=knn_model.predict(x_test)"
   ]
  },
  {
   "cell_type": "code",
   "execution_count": 145,
   "id": "fefce549",
   "metadata": {},
   "outputs": [
    {
     "name": "stdout",
     "output_type": "stream",
     "text": [
      "              precision    recall  f1-score   support\n",
      "\n",
      "           0       0.71      0.99      0.83     10793\n",
      "           1       1.00      0.78      0.87     19291\n",
      "\n",
      "    accuracy                           0.86     30084\n",
      "   macro avg       0.86      0.89      0.85     30084\n",
      "weighted avg       0.90      0.86      0.86     30084\n",
      "\n"
     ]
    }
   ],
   "source": [
    "print(classification_report(knn_predict,y_test))"
   ]
  },
  {
   "cell_type": "code",
   "execution_count": 146,
   "id": "ba313d1c",
   "metadata": {},
   "outputs": [
    {
     "data": {
      "text/plain": [
       "<sklearn.metrics._plot.roc_curve.RocCurveDisplay at 0x27da5dc96a0>"
      ]
     },
     "execution_count": 146,
     "metadata": {},
     "output_type": "execute_result"
    },
    {
     "data": {
      "image/png": "[encoded data removed]",
      "text/plain": [
       "<Figure size 432x288 with 1 Axes>"
      ]
     },
     "metadata": {
      "needs_background": "light"
     },
     "output_type": "display_data"
    }
   ],
   "source": [
    "plot_roc_curve(knn,x_test,y_test)"
   ]
  },
  {
   "cell_type": "code",
   "execution_count": 147,
   "id": "47727a41",
   "metadata": {},
   "outputs": [
    {
     "data": {
      "text/plain": [
       "<sklearn.metrics._plot.confusion_matrix.ConfusionMatrixDisplay at 0x27d902f66d0>"
      ]
     },
     "execution_count": 147,
     "metadata": {},
     "output_type": "execute_result"
    },
    {
     "data": {
      "image/png": "[encoded data removed]",
      "text/plain": [
       "<Figure size 432x288 with 2 Axes>"
      ]
     },
     "metadata": {
      "needs_background": "light"
     },
     "output_type": "display_data"
    }
   ],
   "source": [
    "plot_confusion_matrix(knn,x_test,y_test)\n",
    "# False identification have increased for class 0 and decreased for class 1"
   ]
  },
  {
   "cell_type": "code",
   "execution_count": 220,
   "id": "133db302",
   "metadata": {},
   "outputs": [],
   "source": [
    "Model_metrics.loc[6]=['K Nearest Neighbors',0.93,precision_score(knn_predict,y_test),recall_score(knn_predict,y_test),\n",
    "                      f1_score(knn_predict,y_test),accuracy_score(knn_predict,y_test)]"
   ]
  },
  {
   "cell_type": "code",
   "execution_count": 152,
   "id": "5a7a5876",
   "metadata": {},
   "outputs": [],
   "source": [
    "from sklearn.naive_bayes import GaussianNB"
   ]
  },
  {
   "cell_type": "code",
   "execution_count": 153,
   "id": "f97412b3",
   "metadata": {},
   "outputs": [],
   "source": [
    "nb=GaussianNB()"
   ]
  },
  {
   "cell_type": "code",
   "execution_count": 161,
   "id": "09d6f943",
   "metadata": {},
   "outputs": [],
   "source": [
    "nb_model=nb.fit(x_train,y_train)"
   ]
  },
  {
   "cell_type": "code",
   "execution_count": 162,
   "id": "20353265",
   "metadata": {},
   "outputs": [
    {
     "data": {
      "text/plain": [
       "0.6262465097726366"
      ]
     },
     "execution_count": 162,
     "metadata": {},
     "output_type": "execute_result"
    }
   ],
   "source": [
    "nb_model.score(x_train,y_train)"
   ]
  },
  {
   "cell_type": "code",
   "execution_count": 163,
   "id": "a1ce1176",
   "metadata": {},
   "outputs": [
    {
     "name": "stdout",
     "output_type": "stream",
     "text": [
      "0.6230554447546869\n"
     ]
    }
   ],
   "source": [
    "nb_model.score(x_test,y_test)"
   ]
  },
  {
   "cell_type": "code",
   "execution_count": 164,
   "id": "ed9a0281",
   "metadata": {},
   "outputs": [],
   "source": [
    "nb_predict=nb_model.predict(x_test)"
   ]
  },
  {
   "cell_type": "code",
   "execution_count": 165,
   "id": "549a8a30",
   "metadata": {},
   "outputs": [
    {
     "name": "stdout",
     "output_type": "stream",
     "text": [
      "              precision    recall  f1-score   support\n",
      "\n",
      "           0       0.71      0.99      0.83     10793\n",
      "           1       1.00      0.78      0.87     19291\n",
      "\n",
      "    accuracy                           0.86     30084\n",
      "   macro avg       0.86      0.89      0.85     30084\n",
      "weighted avg       0.90      0.86      0.86     30084\n",
      "\n"
     ]
    }
   ],
   "source": [
    "print(classification_report(knn_predict,y_test))"
   ]
  },
  {
   "cell_type": "code",
   "execution_count": 166,
   "id": "53cc9715",
   "metadata": {},
   "outputs": [
    {
     "data": {
      "text/plain": [
       "<sklearn.metrics._plot.roc_curve.RocCurveDisplay at 0x27d9b08ee80>"
      ]
     },
     "execution_count": 166,
     "metadata": {},
     "output_type": "execute_result"
    },
    {
     "data": {
      "image/png": "[encoded data removed]",
      "text/plain": [
       "<Figure size 432x288 with 1 Axes>"
      ]
     },
     "metadata": {
      "needs_background": "light"
     },
     "output_type": "display_data"
    }
   ],
   "source": [
    "plot_roc_curve(nb,x_test,y_test)"
   ]
  },
  {
   "cell_type": "code",
   "execution_count": 167,
   "id": "dcc9b300",
   "metadata": {},
   "outputs": [
    {
     "data": {
      "text/plain": [
       "<sklearn.metrics._plot.confusion_matrix.ConfusionMatrixDisplay at 0x27d8f849820>"
      ]
     },
     "execution_count": 167,
     "metadata": {},
     "output_type": "execute_result"
    },
    {
     "data": {
      "image/png": "[encoded data removed]",
      "text/plain": [
       "<Figure size 432x288 with 2 Axes>"
      ]
     },
     "metadata": {
      "needs_background": "light"
     },
     "output_type": "display_data"
    }
   ],
   "source": [
    "plot_confusion_matrix(nb,x_test,y_test)"
   ]
  },
  {
   "cell_type": "code",
   "execution_count": 221,
   "id": "d51926a1",
   "metadata": {},
   "outputs": [],
   "source": [
    "Model_metrics.loc[7]=['Naive baiyes',0.70,precision_score(nb_predict,y_test),recall_score(nb_predict,y_test),\n",
    "                      f1_score(nb_predict,y_test),accuracy_score(nb_predict,y_test)]"
   ]
  },
  {
   "cell_type": "code",
   "execution_count": 169,
   "id": "4d45fd15",
   "metadata": {},
   "outputs": [],
   "source": [
    "from sklearn.svm import SVC"
   ]
  },
  {
   "cell_type": "code",
   "execution_count": 170,
   "id": "61155536",
   "metadata": {},
   "outputs": [],
   "source": [
    "svc=SVC()"
   ]
  },
  {
   "cell_type": "code",
   "execution_count": 172,
   "id": "8b3da209",
   "metadata": {},
   "outputs": [],
   "source": [
    "svc_model=svc.fit(x_train,y_train)"
   ]
  },
  {
   "cell_type": "code",
   "execution_count": 173,
   "id": "29adc9b1",
   "metadata": {},
   "outputs": [
    {
     "data": {
      "text/plain": [
       "0.7284888027807852"
      ]
     },
     "execution_count": 173,
     "metadata": {},
     "output_type": "execute_result"
    }
   ],
   "source": [
    "svc_model.score(x_train,y_train)"
   ]
  },
  {
   "cell_type": "code",
   "execution_count": 174,
   "id": "2f5b5bdb",
   "metadata": {},
   "outputs": [
    {
     "name": "stdout",
     "output_type": "stream",
     "text": [
      "0.7295904799893631\n"
     ]
    }
   ],
   "source": [
    "svc_model.score(x_test,y_test)"
   ]
  },
  {
   "cell_type": "code",
   "execution_count": 175,
   "id": "b5e24654",
   "metadata": {},
   "outputs": [],
   "source": [
    "svc_predict=svc_model.predict(x_test)"
   ]
  },
  {
   "cell_type": "code",
   "execution_count": 176,
   "id": "f9bc5fc5",
   "metadata": {},
   "outputs": [
    {
     "name": "stdout",
     "output_type": "stream",
     "text": [
      "              precision    recall  f1-score   support\n",
      "\n",
      "           0       0.69      0.75      0.72     13771\n",
      "           1       0.77      0.71      0.74     16313\n",
      "\n",
      "    accuracy                           0.73     30084\n",
      "   macro avg       0.73      0.73      0.73     30084\n",
      "weighted avg       0.73      0.73      0.73     30084\n",
      "\n"
     ]
    }
   ],
   "source": [
    "print(classification_report(svc_predict,y_test))"
   ]
  },
  {
   "cell_type": "code",
   "execution_count": 177,
   "id": "f7d9633b",
   "metadata": {},
   "outputs": [
    {
     "data": {
      "text/plain": [
       "<sklearn.metrics._plot.roc_curve.RocCurveDisplay at 0x27da63110d0>"
      ]
     },
     "execution_count": 177,
     "metadata": {},
     "output_type": "execute_result"
    },
    {
     "data": {
      "image/png": "[encoded data removed]",
      "text/plain": [
       "<Figure size 432x288 with 1 Axes>"
      ]
     },
     "metadata": {
      "needs_background": "light"
     },
     "output_type": "display_data"
    }
   ],
   "source": [
    "plot_roc_curve(svc,x_test,y_test)"
   ]
  },
  {
   "cell_type": "code",
   "execution_count": 178,
   "id": "65927acb",
   "metadata": {},
   "outputs": [
    {
     "data": {
      "text/plain": [
       "<sklearn.metrics._plot.confusion_matrix.ConfusionMatrixDisplay at 0x27da641ca60>"
      ]
     },
     "execution_count": 178,
     "metadata": {},
     "output_type": "execute_result"
    },
    {
     "data": {
      "image/png": "[encoded data removed]",
      "text/plain": [
       "<Figure size 432x288 with 2 Axes>"
      ]
     },
     "metadata": {
      "needs_background": "light"
     },
     "output_type": "display_data"
    }
   ],
   "source": [
    "plot_confusion_matrix(svc,x_test,y_test)"
   ]
  },
  {
   "cell_type": "code",
   "execution_count": 222,
   "id": "30c0bbbb",
   "metadata": {},
   "outputs": [],
   "source": [
    "Model_metrics.loc[8]=['Support Vector Machine',0.81,precision_score(svc_predict,y_test),recall_score(svc_predict,y_test),\n",
    "                      f1_score(svc_predict,y_test),accuracy_score(svc_predict,y_test)]"
   ]
  },
  {
   "cell_type": "code",
   "execution_count": 225,
   "id": "9ef6ea3a",
   "metadata": {},
   "outputs": [
    {
     "data": {
      "text/html": [
       "<div>\n",
       "<style scoped>\n",
       "    .dataframe tbody tr th:only-of-type {\n",
       "        vertical-align: middle;\n",
       "    }\n",
       "\n",
       "    .dataframe tbody tr th {\n",
       "        vertical-align: top;\n",
       "    }\n",
       "\n",
       "    .dataframe thead th {\n",
       "        text-align: right;\n",
       "    }\n",
       "</style>\n",
       "<table border=\"1\" class=\"dataframe\">\n",
       "  <thead>\n",
       "    <tr style=\"text-align: right;\">\n",
       "      <th></th>\n",
       "      <th>Model</th>\n",
       "      <th>AUC</th>\n",
       "      <th>Precision</th>\n",
       "      <th>Recall</th>\n",
       "      <th>F1-score</th>\n",
       "      <th>Accuracy</th>\n",
       "    </tr>\n",
       "  </thead>\n",
       "  <tbody>\n",
       "    <tr>\n",
       "      <th>0</th>\n",
       "      <td>Logistic Regression</td>\n",
       "      <td>0.87</td>\n",
       "      <td>0.784138</td>\n",
       "      <td>0.775528</td>\n",
       "      <td>0.779809</td>\n",
       "      <td>0.778587</td>\n",
       "    </tr>\n",
       "    <tr>\n",
       "      <th>1</th>\n",
       "      <td>Decision Tree</td>\n",
       "      <td>0.97</td>\n",
       "      <td>0.896556</td>\n",
       "      <td>0.938744</td>\n",
       "      <td>0.917165</td>\n",
       "      <td>0.919027</td>\n",
       "    </tr>\n",
       "    <tr>\n",
       "      <th>2</th>\n",
       "      <td>Random Forest</td>\n",
       "      <td>0.97</td>\n",
       "      <td>0.923149</td>\n",
       "      <td>0.941615</td>\n",
       "      <td>0.932290</td>\n",
       "      <td>0.932954</td>\n",
       "    </tr>\n",
       "    <tr>\n",
       "      <th>3</th>\n",
       "      <td>Gradient Boosting Machine</td>\n",
       "      <td>0.98</td>\n",
       "      <td>0.889842</td>\n",
       "      <td>0.972394</td>\n",
       "      <td>0.929288</td>\n",
       "      <td>0.932290</td>\n",
       "    </tr>\n",
       "    <tr>\n",
       "      <th>4</th>\n",
       "      <td>Ada Boost</td>\n",
       "      <td>0.99</td>\n",
       "      <td>0.940832</td>\n",
       "      <td>0.961740</td>\n",
       "      <td>0.951171</td>\n",
       "      <td>0.951702</td>\n",
       "    </tr>\n",
       "    <tr>\n",
       "      <th>5</th>\n",
       "      <td>XGBoost</td>\n",
       "      <td>0.99</td>\n",
       "      <td>0.928334</td>\n",
       "      <td>0.988812</td>\n",
       "      <td>0.957619</td>\n",
       "      <td>0.958915</td>\n",
       "    </tr>\n",
       "    <tr>\n",
       "      <th>6</th>\n",
       "      <td>K Nearest Neighbors</td>\n",
       "      <td>0.93</td>\n",
       "      <td>0.996344</td>\n",
       "      <td>0.776891</td>\n",
       "      <td>0.873038</td>\n",
       "      <td>0.855106</td>\n",
       "    </tr>\n",
       "    <tr>\n",
       "      <th>7</th>\n",
       "      <td>Naive baiyes</td>\n",
       "      <td>0.70</td>\n",
       "      <td>0.825356</td>\n",
       "      <td>0.587609</td>\n",
       "      <td>0.686481</td>\n",
       "      <td>0.623055</td>\n",
       "    </tr>\n",
       "    <tr>\n",
       "      <th>8</th>\n",
       "      <td>Support Vector Machine</td>\n",
       "      <td>0.81</td>\n",
       "      <td>0.771839</td>\n",
       "      <td>0.711702</td>\n",
       "      <td>0.740552</td>\n",
       "      <td>0.729590</td>\n",
       "    </tr>\n",
       "  </tbody>\n",
       "</table>\n",
       "</div>"
      ],
      "text/plain": [
       "                       Model   AUC  Precision    Recall  F1-score  Accuracy\n",
       "0        Logistic Regression  0.87   0.784138  0.775528  0.779809  0.778587\n",
       "1              Decision Tree  0.97   0.896556  0.938744  0.917165  0.919027\n",
       "2              Random Forest  0.97   0.923149  0.941615  0.932290  0.932954\n",
       "3  Gradient Boosting Machine  0.98   0.889842  0.972394  0.929288  0.932290\n",
       "4                  Ada Boost  0.99   0.940832  0.961740  0.951171  0.951702\n",
       "5                    XGBoost  0.99   0.928334  0.988812  0.957619  0.958915\n",
       "6        K Nearest Neighbors  0.93   0.996344  0.776891  0.873038  0.855106\n",
       "7               Naive baiyes  0.70   0.825356  0.587609  0.686481  0.623055\n",
       "8     Support Vector Machine  0.81   0.771839  0.711702  0.740552  0.729590"
      ]
     },
     "execution_count": 225,
     "metadata": {},
     "output_type": "execute_result"
    }
   ],
   "source": [
    "Model_metrics"
   ]
  },
  {
   "cell_type": "code",
   "execution_count": 247,
   "id": "787d9f91",
   "metadata": {},
   "outputs": [],
   "source": [
    "# Ada Boost and XGBoost have performed equally well, lets run cross_val_score on both the models\n",
    "\n",
    "from sklearn.model_selection import cross_val_score"
   ]
  },
  {
   "cell_type": "code",
   "execution_count": 350,
   "id": "f1af12c4",
   "metadata": {},
   "outputs": [],
   "source": [
    "abc_score=cross_val_score(abc,x_test,y_test)"
   ]
  },
  {
   "cell_type": "code",
   "execution_count": 355,
   "id": "274a6102",
   "metadata": {},
   "outputs": [],
   "source": [
    "xgb_score=cross_val_score(xgb,x_test,y_test)"
   ]
  },
  {
   "cell_type": "code",
   "execution_count": 356,
   "id": "f22c5f6f",
   "metadata": {},
   "outputs": [
    {
     "name": "stdout",
     "output_type": "stream",
     "text": [
      "AdaBoost_scores:[0.94066811 0.94515539 0.94316104 0.93983713 0.94464761]\n",
      "AdaBoost_score_mean:0.9426938556625023\n"
     ]
    }
   ],
   "source": [
    "print('AdaBoost_scores:{0}\\nAdaBoost_score_mean:{1}'.format(abc_score,abc_score.mean()))"
   ]
  },
  {
   "cell_type": "code",
   "execution_count": 357,
   "id": "14b52549",
   "metadata": {},
   "outputs": [
    {
     "name": "stdout",
     "output_type": "stream",
     "text": [
      "xgb_scores:[0.95778627 0.95496094 0.95645671 0.95695529 0.95561835]\n",
      "xgb_score_mean:0.956355513323951\n"
     ]
    }
   ],
   "source": [
    "print('xgb_scores:{0}\\nxgb_score_mean:{1}'.format(xgb_score,xgb_score.mean()))\n",
    "# XGBoost have got good accuracy compared to AdaBoost"
   ]
  },
  {
   "cell_type": "code",
   "execution_count": 245,
   "id": "61e23d48",
   "metadata": {},
   "outputs": [],
   "source": [
    "# Tuning XGBoost Classifier\n",
    "\n",
    "from sklearn.model_selection import RandomizedSearchCV,StratifiedKFold"
   ]
  },
  {
   "cell_type": "code",
   "execution_count": 250,
   "id": "36738ed8",
   "metadata": {},
   "outputs": [
    {
     "name": "stdout",
     "output_type": "stream",
     "text": [
      "Fitting 3 folds for each of 10 candidates, totalling 30 fits\n",
      "[18:07:10] WARNING: C:/Users/Administrator/workspace/xgboost-win64_release_1.5.1/src/learner.cc:576: \n",
      "Parameters: { \"silent\" } might not be used.\n",
      "\n",
      "  This could be a false alarm, with some parameters getting used by language bindings but\n",
      "  then being mistakenly passed down to XGBoost core, or some parameter actually being used\n",
      "  but getting flagged wrongly here. Please open an issue if you find any such cases.\n",
      "\n",
      "\n",
      "[18:07:11] WARNING: C:/Users/Administrator/workspace/xgboost-win64_release_1.5.1/src/learner.cc:1115: Starting in XGBoost 1.3.0, the default evaluation metric used with the objective 'binary:logistic' was changed from 'error' to 'logloss'. Explicitly set eval_metric if you'd like to restore the old behavior.\n",
      "[18:07:48] WARNING: C:/Users/Administrator/workspace/xgboost-win64_release_1.5.1/src/learner.cc:576: \n",
      "Parameters: { \"silent\" } might not be used.\n",
      "\n",
      "  This could be a false alarm, with some parameters getting used by language bindings but\n",
      "  then being mistakenly passed down to XGBoost core, or some parameter actually being used\n",
      "  but getting flagged wrongly here. Please open an issue if you find any such cases.\n",
      "\n",
      "\n",
      "[18:07:48] WARNING: C:/Users/Administrator/workspace/xgboost-win64_release_1.5.1/src/learner.cc:1115: Starting in XGBoost 1.3.0, the default evaluation metric used with the objective 'binary:logistic' was changed from 'error' to 'logloss'. Explicitly set eval_metric if you'd like to restore the old behavior.\n",
      "[18:08:24] WARNING: C:/Users/Administrator/workspace/xgboost-win64_release_1.5.1/src/learner.cc:576: \n",
      "Parameters: { \"silent\" } might not be used.\n",
      "\n",
      "  This could be a false alarm, with some parameters getting used by language bindings but\n",
      "  then being mistakenly passed down to XGBoost core, or some parameter actually being used\n",
      "  but getting flagged wrongly here. Please open an issue if you find any such cases.\n",
      "\n",
      "\n",
      "[18:08:24] WARNING: C:/Users/Administrator/workspace/xgboost-win64_release_1.5.1/src/learner.cc:1115: Starting in XGBoost 1.3.0, the default evaluation metric used with the objective 'binary:logistic' was changed from 'error' to 'logloss'. Explicitly set eval_metric if you'd like to restore the old behavior.\n",
      "[18:09:00] WARNING: C:/Users/Administrator/workspace/xgboost-win64_release_1.5.1/src/learner.cc:576: \n",
      "Parameters: { \"silent\" } might not be used.\n",
      "\n",
      "  This could be a false alarm, with some parameters getting used by language bindings but\n",
      "  then being mistakenly passed down to XGBoost core, or some parameter actually being used\n",
      "  but getting flagged wrongly here. Please open an issue if you find any such cases.\n",
      "\n",
      "\n",
      "[18:09:00] WARNING: C:/Users/Administrator/workspace/xgboost-win64_release_1.5.1/src/learner.cc:1115: Starting in XGBoost 1.3.0, the default evaluation metric used with the objective 'binary:logistic' was changed from 'error' to 'logloss'. Explicitly set eval_metric if you'd like to restore the old behavior.\n",
      "[18:09:16] WARNING: C:/Users/Administrator/workspace/xgboost-win64_release_1.5.1/src/learner.cc:576: \n",
      "Parameters: { \"silent\" } might not be used.\n",
      "\n",
      "  This could be a false alarm, with some parameters getting used by language bindings but\n",
      "  then being mistakenly passed down to XGBoost core, or some parameter actually being used\n",
      "  but getting flagged wrongly here. Please open an issue if you find any such cases.\n",
      "\n",
      "\n",
      "[18:09:16] WARNING: C:/Users/Administrator/workspace/xgboost-win64_release_1.5.1/src/learner.cc:1115: Starting in XGBoost 1.3.0, the default evaluation metric used with the objective 'binary:logistic' was changed from 'error' to 'logloss'. Explicitly set eval_metric if you'd like to restore the old behavior.\n",
      "[18:09:33] WARNING: C:/Users/Administrator/workspace/xgboost-win64_release_1.5.1/src/learner.cc:576: \n",
      "Parameters: { \"silent\" } might not be used.\n",
      "\n",
      "  This could be a false alarm, with some parameters getting used by language bindings but\n",
      "  then being mistakenly passed down to XGBoost core, or some parameter actually being used\n",
      "  but getting flagged wrongly here. Please open an issue if you find any such cases.\n",
      "\n",
      "\n",
      "[18:09:33] WARNING: C:/Users/Administrator/workspace/xgboost-win64_release_1.5.1/src/learner.cc:1115: Starting in XGBoost 1.3.0, the default evaluation metric used with the objective 'binary:logistic' was changed from 'error' to 'logloss'. Explicitly set eval_metric if you'd like to restore the old behavior.\n",
      "[18:09:48] WARNING: C:/Users/Administrator/workspace/xgboost-win64_release_1.5.1/src/learner.cc:576: \n",
      "Parameters: { \"silent\" } might not be used.\n",
      "\n",
      "  This could be a false alarm, with some parameters getting used by language bindings but\n",
      "  then being mistakenly passed down to XGBoost core, or some parameter actually being used\n",
      "  but getting flagged wrongly here. Please open an issue if you find any such cases.\n",
      "\n",
      "\n",
      "[18:09:48] WARNING: C:/Users/Administrator/workspace/xgboost-win64_release_1.5.1/src/learner.cc:1115: Starting in XGBoost 1.3.0, the default evaluation metric used with the objective 'binary:logistic' was changed from 'error' to 'logloss'. Explicitly set eval_metric if you'd like to restore the old behavior.\n",
      "[18:10:25] WARNING: C:/Users/Administrator/workspace/xgboost-win64_release_1.5.1/src/learner.cc:576: \n",
      "Parameters: { \"silent\" } might not be used.\n",
      "\n",
      "  This could be a false alarm, with some parameters getting used by language bindings but\n",
      "  then being mistakenly passed down to XGBoost core, or some parameter actually being used\n",
      "  but getting flagged wrongly here. Please open an issue if you find any such cases.\n",
      "\n",
      "\n",
      "[18:10:25] WARNING: C:/Users/Administrator/workspace/xgboost-win64_release_1.5.1/src/learner.cc:1115: Starting in XGBoost 1.3.0, the default evaluation metric used with the objective 'binary:logistic' was changed from 'error' to 'logloss'. Explicitly set eval_metric if you'd like to restore the old behavior.\n",
      "[18:11:02] WARNING: C:/Users/Administrator/workspace/xgboost-win64_release_1.5.1/src/learner.cc:576: \n",
      "Parameters: { \"silent\" } might not be used.\n",
      "\n",
      "  This could be a false alarm, with some parameters getting used by language bindings but\n",
      "  then being mistakenly passed down to XGBoost core, or some parameter actually being used\n",
      "  but getting flagged wrongly here. Please open an issue if you find any such cases.\n",
      "\n",
      "\n",
      "[18:11:02] WARNING: C:/Users/Administrator/workspace/xgboost-win64_release_1.5.1/src/learner.cc:1115: Starting in XGBoost 1.3.0, the default evaluation metric used with the objective 'binary:logistic' was changed from 'error' to 'logloss'. Explicitly set eval_metric if you'd like to restore the old behavior.\n",
      "[18:11:42] WARNING: C:/Users/Administrator/workspace/xgboost-win64_release_1.5.1/src/learner.cc:576: \n",
      "Parameters: { \"silent\" } might not be used.\n",
      "\n",
      "  This could be a false alarm, with some parameters getting used by language bindings but\n",
      "  then being mistakenly passed down to XGBoost core, or some parameter actually being used\n",
      "  but getting flagged wrongly here. Please open an issue if you find any such cases.\n",
      "\n",
      "\n",
      "[18:11:42] WARNING: C:/Users/Administrator/workspace/xgboost-win64_release_1.5.1/src/learner.cc:1115: Starting in XGBoost 1.3.0, the default evaluation metric used with the objective 'binary:logistic' was changed from 'error' to 'logloss'. Explicitly set eval_metric if you'd like to restore the old behavior.\n",
      "[18:11:52] WARNING: C:/Users/Administrator/workspace/xgboost-win64_release_1.5.1/src/learner.cc:576: \n",
      "Parameters: { \"silent\" } might not be used.\n",
      "\n",
      "  This could be a false alarm, with some parameters getting used by language bindings but\n",
      "  then being mistakenly passed down to XGBoost core, or some parameter actually being used\n",
      "  but getting flagged wrongly here. Please open an issue if you find any such cases.\n",
      "\n",
      "\n",
      "[18:11:52] WARNING: C:/Users/Administrator/workspace/xgboost-win64_release_1.5.1/src/learner.cc:1115: Starting in XGBoost 1.3.0, the default evaluation metric used with the objective 'binary:logistic' was changed from 'error' to 'logloss'. Explicitly set eval_metric if you'd like to restore the old behavior.\n",
      "[18:12:03] WARNING: C:/Users/Administrator/workspace/xgboost-win64_release_1.5.1/src/learner.cc:576: \n",
      "Parameters: { \"silent\" } might not be used.\n",
      "\n",
      "  This could be a false alarm, with some parameters getting used by language bindings but\n",
      "  then being mistakenly passed down to XGBoost core, or some parameter actually being used\n",
      "  but getting flagged wrongly here. Please open an issue if you find any such cases.\n",
      "\n",
      "\n",
      "[18:12:03] WARNING: C:/Users/Administrator/workspace/xgboost-win64_release_1.5.1/src/learner.cc:1115: Starting in XGBoost 1.3.0, the default evaluation metric used with the objective 'binary:logistic' was changed from 'error' to 'logloss'. Explicitly set eval_metric if you'd like to restore the old behavior.\n",
      "[18:12:11] WARNING: C:/Users/Administrator/workspace/xgboost-win64_release_1.5.1/src/learner.cc:576: \n",
      "Parameters: { \"silent\" } might not be used.\n",
      "\n",
      "  This could be a false alarm, with some parameters getting used by language bindings but\n",
      "  then being mistakenly passed down to XGBoost core, or some parameter actually being used\n",
      "  but getting flagged wrongly here. Please open an issue if you find any such cases.\n",
      "\n",
      "\n",
      "[18:12:12] WARNING: C:/Users/Administrator/workspace/xgboost-win64_release_1.5.1/src/learner.cc:1115: Starting in XGBoost 1.3.0, the default evaluation metric used with the objective 'binary:logistic' was changed from 'error' to 'logloss'. Explicitly set eval_metric if you'd like to restore the old behavior.\n",
      "[18:12:46] WARNING: C:/Users/Administrator/workspace/xgboost-win64_release_1.5.1/src/learner.cc:576: \n",
      "Parameters: { \"silent\" } might not be used.\n",
      "\n",
      "  This could be a false alarm, with some parameters getting used by language bindings but\n",
      "  then being mistakenly passed down to XGBoost core, or some parameter actually being used\n",
      "  but getting flagged wrongly here. Please open an issue if you find any such cases.\n",
      "\n",
      "\n",
      "[18:12:46] WARNING: C:/Users/Administrator/workspace/xgboost-win64_release_1.5.1/src/learner.cc:1115: Starting in XGBoost 1.3.0, the default evaluation metric used with the objective 'binary:logistic' was changed from 'error' to 'logloss'. Explicitly set eval_metric if you'd like to restore the old behavior.\n",
      "[18:13:21] WARNING: C:/Users/Administrator/workspace/xgboost-win64_release_1.5.1/src/learner.cc:576: \n",
      "Parameters: { \"silent\" } might not be used.\n",
      "\n",
      "  This could be a false alarm, with some parameters getting used by language bindings but\n",
      "  then being mistakenly passed down to XGBoost core, or some parameter actually being used\n",
      "  but getting flagged wrongly here. Please open an issue if you find any such cases.\n",
      "\n",
      "\n",
      "[18:13:21] WARNING: C:/Users/Administrator/workspace/xgboost-win64_release_1.5.1/src/learner.cc:1115: Starting in XGBoost 1.3.0, the default evaluation metric used with the objective 'binary:logistic' was changed from 'error' to 'logloss'. Explicitly set eval_metric if you'd like to restore the old behavior.\n",
      "[18:13:55] WARNING: C:/Users/Administrator/workspace/xgboost-win64_release_1.5.1/src/learner.cc:576: \n",
      "Parameters: { \"silent\" } might not be used.\n",
      "\n",
      "  This could be a false alarm, with some parameters getting used by language bindings but\n",
      "  then being mistakenly passed down to XGBoost core, or some parameter actually being used\n",
      "  but getting flagged wrongly here. Please open an issue if you find any such cases.\n",
      "\n",
      "\n",
      "[18:13:55] WARNING: C:/Users/Administrator/workspace/xgboost-win64_release_1.5.1/src/learner.cc:1115: Starting in XGBoost 1.3.0, the default evaluation metric used with the objective 'binary:logistic' was changed from 'error' to 'logloss'. Explicitly set eval_metric if you'd like to restore the old behavior.\n",
      "[18:14:04] WARNING: C:/Users/Administrator/workspace/xgboost-win64_release_1.5.1/src/learner.cc:576: \n",
      "Parameters: { \"silent\" } might not be used.\n",
      "\n",
      "  This could be a false alarm, with some parameters getting used by language bindings but\n",
      "  then being mistakenly passed down to XGBoost core, or some parameter actually being used\n",
      "  but getting flagged wrongly here. Please open an issue if you find any such cases.\n",
      "\n",
      "\n",
      "[18:14:04] WARNING: C:/Users/Administrator/workspace/xgboost-win64_release_1.5.1/src/learner.cc:1115: Starting in XGBoost 1.3.0, the default evaluation metric used with the objective 'binary:logistic' was changed from 'error' to 'logloss'. Explicitly set eval_metric if you'd like to restore the old behavior.\n",
      "[18:14:13] WARNING: C:/Users/Administrator/workspace/xgboost-win64_release_1.5.1/src/learner.cc:576: \n",
      "Parameters: { \"silent\" } might not be used.\n",
      "\n",
      "  This could be a false alarm, with some parameters getting used by language bindings but\n",
      "  then being mistakenly passed down to XGBoost core, or some parameter actually being used\n",
      "  but getting flagged wrongly here. Please open an issue if you find any such cases.\n",
      "\n",
      "\n",
      "[18:14:13] WARNING: C:/Users/Administrator/workspace/xgboost-win64_release_1.5.1/src/learner.cc:1115: Starting in XGBoost 1.3.0, the default evaluation metric used with the objective 'binary:logistic' was changed from 'error' to 'logloss'. Explicitly set eval_metric if you'd like to restore the old behavior.\n",
      "[18:14:22] WARNING: C:/Users/Administrator/workspace/xgboost-win64_release_1.5.1/src/learner.cc:576: \n",
      "Parameters: { \"silent\" } might not be used.\n",
      "\n",
      "  This could be a false alarm, with some parameters getting used by language bindings but\n",
      "  then being mistakenly passed down to XGBoost core, or some parameter actually being used\n",
      "  but getting flagged wrongly here. Please open an issue if you find any such cases.\n",
      "\n",
      "\n",
      "[18:14:22] WARNING: C:/Users/Administrator/workspace/xgboost-win64_release_1.5.1/src/learner.cc:1115: Starting in XGBoost 1.3.0, the default evaluation metric used with the objective 'binary:logistic' was changed from 'error' to 'logloss'. Explicitly set eval_metric if you'd like to restore the old behavior.\n",
      "[18:15:37] WARNING: C:/Users/Administrator/workspace/xgboost-win64_release_1.5.1/src/learner.cc:576: \n",
      "Parameters: { \"silent\" } might not be used.\n",
      "\n",
      "  This could be a false alarm, with some parameters getting used by language bindings but\n",
      "  then being mistakenly passed down to XGBoost core, or some parameter actually being used\n",
      "  but getting flagged wrongly here. Please open an issue if you find any such cases.\n",
      "\n",
      "\n",
      "[18:15:38] WARNING: C:/Users/Administrator/workspace/xgboost-win64_release_1.5.1/src/learner.cc:1115: Starting in XGBoost 1.3.0, the default evaluation metric used with the objective 'binary:logistic' was changed from 'error' to 'logloss'. Explicitly set eval_metric if you'd like to restore the old behavior.\n",
      "[18:16:55] WARNING: C:/Users/Administrator/workspace/xgboost-win64_release_1.5.1/src/learner.cc:576: \n",
      "Parameters: { \"silent\" } might not be used.\n",
      "\n",
      "  This could be a false alarm, with some parameters getting used by language bindings but\n",
      "  then being mistakenly passed down to XGBoost core, or some parameter actually being used\n",
      "  but getting flagged wrongly here. Please open an issue if you find any such cases.\n",
      "\n",
      "\n",
      "[18:16:55] WARNING: C:/Users/Administrator/workspace/xgboost-win64_release_1.5.1/src/learner.cc:1115: Starting in XGBoost 1.3.0, the default evaluation metric used with the objective 'binary:logistic' was changed from 'error' to 'logloss'. Explicitly set eval_metric if you'd like to restore the old behavior.\n",
      "[18:18:15] WARNING: C:/Users/Administrator/workspace/xgboost-win64_release_1.5.1/src/learner.cc:576: \n",
      "Parameters: { \"silent\" } might not be used.\n",
      "\n",
      "  This could be a false alarm, with some parameters getting used by language bindings but\n",
      "  then being mistakenly passed down to XGBoost core, or some parameter actually being used\n",
      "  but getting flagged wrongly here. Please open an issue if you find any such cases.\n",
      "\n",
      "\n",
      "[18:18:15] WARNING: C:/Users/Administrator/workspace/xgboost-win64_release_1.5.1/src/learner.cc:1115: Starting in XGBoost 1.3.0, the default evaluation metric used with the objective 'binary:logistic' was changed from 'error' to 'logloss'. Explicitly set eval_metric if you'd like to restore the old behavior.\n",
      "[18:19:04] WARNING: C:/Users/Administrator/workspace/xgboost-win64_release_1.5.1/src/learner.cc:576: \n",
      "Parameters: { \"silent\" } might not be used.\n",
      "\n",
      "  This could be a false alarm, with some parameters getting used by language bindings but\n",
      "  then being mistakenly passed down to XGBoost core, or some parameter actually being used\n",
      "  but getting flagged wrongly here. Please open an issue if you find any such cases.\n",
      "\n",
      "\n",
      "[18:19:04] WARNING: C:/Users/Administrator/workspace/xgboost-win64_release_1.5.1/src/learner.cc:1115: Starting in XGBoost 1.3.0, the default evaluation metric used with the objective 'binary:logistic' was changed from 'error' to 'logloss'. Explicitly set eval_metric if you'd like to restore the old behavior.\n",
      "[18:19:53] WARNING: C:/Users/Administrator/workspace/xgboost-win64_release_1.5.1/src/learner.cc:576: \n",
      "Parameters: { \"silent\" } might not be used.\n",
      "\n",
      "  This could be a false alarm, with some parameters getting used by language bindings but\n",
      "  then being mistakenly passed down to XGBoost core, or some parameter actually being used\n",
      "  but getting flagged wrongly here. Please open an issue if you find any such cases.\n",
      "\n",
      "\n",
      "[18:19:53] WARNING: C:/Users/Administrator/workspace/xgboost-win64_release_1.5.1/src/learner.cc:1115: Starting in XGBoost 1.3.0, the default evaluation metric used with the objective 'binary:logistic' was changed from 'error' to 'logloss'. Explicitly set eval_metric if you'd like to restore the old behavior.\n",
      "[18:20:46] WARNING: C:/Users/Administrator/workspace/xgboost-win64_release_1.5.1/src/learner.cc:576: \n",
      "Parameters: { \"silent\" } might not be used.\n",
      "\n",
      "  This could be a false alarm, with some parameters getting used by language bindings but\n",
      "  then being mistakenly passed down to XGBoost core, or some parameter actually being used\n",
      "  but getting flagged wrongly here. Please open an issue if you find any such cases.\n",
      "\n",
      "\n",
      "[18:20:46] WARNING: C:/Users/Administrator/workspace/xgboost-win64_release_1.5.1/src/learner.cc:1115: Starting in XGBoost 1.3.0, the default evaluation metric used with the objective 'binary:logistic' was changed from 'error' to 'logloss'. Explicitly set eval_metric if you'd like to restore the old behavior.\n",
      "[18:21:07] WARNING: C:/Users/Administrator/workspace/xgboost-win64_release_1.5.1/src/learner.cc:576: \n",
      "Parameters: { \"silent\" } might not be used.\n",
      "\n",
      "  This could be a false alarm, with some parameters getting used by language bindings but\n",
      "  then being mistakenly passed down to XGBoost core, or some parameter actually being used\n",
      "  but getting flagged wrongly here. Please open an issue if you find any such cases.\n",
      "\n",
      "\n",
      "[18:21:07] WARNING: C:/Users/Administrator/workspace/xgboost-win64_release_1.5.1/src/learner.cc:1115: Starting in XGBoost 1.3.0, the default evaluation metric used with the objective 'binary:logistic' was changed from 'error' to 'logloss'. Explicitly set eval_metric if you'd like to restore the old behavior.\n",
      "[18:21:27] WARNING: C:/Users/Administrator/workspace/xgboost-win64_release_1.5.1/src/learner.cc:576: \n",
      "Parameters: { \"silent\" } might not be used.\n",
      "\n",
      "  This could be a false alarm, with some parameters getting used by language bindings but\n",
      "  then being mistakenly passed down to XGBoost core, or some parameter actually being used\n",
      "  but getting flagged wrongly here. Please open an issue if you find any such cases.\n",
      "\n",
      "\n",
      "[18:21:27] WARNING: C:/Users/Administrator/workspace/xgboost-win64_release_1.5.1/src/learner.cc:1115: Starting in XGBoost 1.3.0, the default evaluation metric used with the objective 'binary:logistic' was changed from 'error' to 'logloss'. Explicitly set eval_metric if you'd like to restore the old behavior.\n",
      "[18:21:48] WARNING: C:/Users/Administrator/workspace/xgboost-win64_release_1.5.1/src/learner.cc:576: \n",
      "Parameters: { \"silent\" } might not be used.\n",
      "\n",
      "  This could be a false alarm, with some parameters getting used by language bindings but\n",
      "  then being mistakenly passed down to XGBoost core, or some parameter actually being used\n",
      "  but getting flagged wrongly here. Please open an issue if you find any such cases.\n",
      "\n",
      "\n",
      "[18:21:48] WARNING: C:/Users/Administrator/workspace/xgboost-win64_release_1.5.1/src/learner.cc:1115: Starting in XGBoost 1.3.0, the default evaluation metric used with the objective 'binary:logistic' was changed from 'error' to 'logloss'. Explicitly set eval_metric if you'd like to restore the old behavior.\n",
      "[18:22:11] WARNING: C:/Users/Administrator/workspace/xgboost-win64_release_1.5.1/src/learner.cc:576: \n",
      "Parameters: { \"silent\" } might not be used.\n",
      "\n",
      "  This could be a false alarm, with some parameters getting used by language bindings but\n",
      "  then being mistakenly passed down to XGBoost core, or some parameter actually being used\n",
      "  but getting flagged wrongly here. Please open an issue if you find any such cases.\n",
      "\n",
      "\n",
      "[18:22:11] WARNING: C:/Users/Administrator/workspace/xgboost-win64_release_1.5.1/src/learner.cc:1115: Starting in XGBoost 1.3.0, the default evaluation metric used with the objective 'binary:logistic' was changed from 'error' to 'logloss'. Explicitly set eval_metric if you'd like to restore the old behavior.\n",
      "[18:22:34] WARNING: C:/Users/Administrator/workspace/xgboost-win64_release_1.5.1/src/learner.cc:576: \n",
      "Parameters: { \"silent\" } might not be used.\n",
      "\n",
      "  This could be a false alarm, with some parameters getting used by language bindings but\n",
      "  then being mistakenly passed down to XGBoost core, or some parameter actually being used\n",
      "  but getting flagged wrongly here. Please open an issue if you find any such cases.\n",
      "\n",
      "\n",
      "[18:22:34] WARNING: C:/Users/Administrator/workspace/xgboost-win64_release_1.5.1/src/learner.cc:1115: Starting in XGBoost 1.3.0, the default evaluation metric used with the objective 'binary:logistic' was changed from 'error' to 'logloss'. Explicitly set eval_metric if you'd like to restore the old behavior.\n",
      "[18:22:57] WARNING: C:/Users/Administrator/workspace/xgboost-win64_release_1.5.1/src/learner.cc:576: \n",
      "Parameters: { \"silent\" } might not be used.\n",
      "\n",
      "  This could be a false alarm, with some parameters getting used by language bindings but\n",
      "  then being mistakenly passed down to XGBoost core, or some parameter actually being used\n",
      "  but getting flagged wrongly here. Please open an issue if you find any such cases.\n",
      "\n",
      "\n",
      "[18:22:57] WARNING: C:/Users/Administrator/workspace/xgboost-win64_release_1.5.1/src/learner.cc:1115: Starting in XGBoost 1.3.0, the default evaluation metric used with the objective 'binary:logistic' was changed from 'error' to 'logloss'. Explicitly set eval_metric if you'd like to restore the old behavior.\n"
     ]
    },
    {
     "ename": "NameError",
     "evalue": "name 'X_test' is not defined",
     "output_type": "error",
     "traceback": [
      "\u001b[1;31m---------------------------------------------------------------------------\u001b[0m",
      "\u001b[1;31mNameError\u001b[0m                                 Traceback (most recent call last)",
      "\u001b[1;32m<ipython-input-250-0185cef6cc65>\u001b[0m in \u001b[0;36m<module>\u001b[1;34m\u001b[0m\n\u001b[0;32m     13\u001b[0m                    verbose=1, refit=True)\n\u001b[0;32m     14\u001b[0m \u001b[0mXGB\u001b[0m\u001b[1;33m.\u001b[0m\u001b[0mfit\u001b[0m\u001b[1;33m(\u001b[0m\u001b[0mx_train\u001b[0m\u001b[1;33m,\u001b[0m \u001b[0my_train\u001b[0m\u001b[1;33m)\u001b[0m\u001b[1;33m\u001b[0m\u001b[1;33m\u001b[0m\u001b[0m\n\u001b[1;32m---> 15\u001b[1;33m \u001b[0my_pred_xgb\u001b[0m \u001b[1;33m=\u001b[0m \u001b[0mXGB\u001b[0m\u001b[1;33m.\u001b[0m\u001b[0mpredict\u001b[0m\u001b[1;33m(\u001b[0m\u001b[0mX_test\u001b[0m\u001b[1;33m)\u001b[0m\u001b[1;33m\u001b[0m\u001b[1;33m\u001b[0m\u001b[0m\n\u001b[0m\u001b[0;32m     16\u001b[0m \u001b[0mcm_xgb\u001b[0m \u001b[1;33m=\u001b[0m \u001b[0mconfusion_matrix\u001b[0m\u001b[1;33m(\u001b[0m\u001b[0my_pred_xgb\u001b[0m\u001b[1;33m,\u001b[0m\u001b[0my_test\u001b[0m\u001b[1;33m)\u001b[0m\u001b[1;33m\u001b[0m\u001b[1;33m\u001b[0m\u001b[0m\n\u001b[0;32m     17\u001b[0m \u001b[0mfscore\u001b[0m \u001b[1;33m=\u001b[0m \u001b[0mf1_score\u001b[0m\u001b[1;33m(\u001b[0m\u001b[0my_test\u001b[0m\u001b[1;33m,\u001b[0m\u001b[0my_pred_xgb\u001b[0m\u001b[1;33m)\u001b[0m\u001b[1;33m\u001b[0m\u001b[1;33m\u001b[0m\u001b[0m\n",
      "\u001b[1;31mNameError\u001b[0m: name 'X_test' is not defined"
     ]
    }
   ],
   "source": [
    "parameters = {'objective':['binary:logistic'],\n",
    "              'learning_rate': [0.001,0.01,0.1,0.3,0.5],\n",
    "              \"max_depth\":[3,5,10,15],\n",
    "              'min_child_weight': [3,5,7,9],\n",
    "              'silent': [1],\n",
    "              'subsample': [0.1,0.3,0.5,0.7],\n",
    "              'colsample_bytree': [0.1,0.2,0.5,0.7],\n",
    "              'n_estimators': [int(x) for x in np.linspace(start = 200, stop = 1000, num = 10)]}\n",
    "\n",
    "\n",
    "XGB = RandomizedSearchCV(xgb, parameters, cv = StratifiedKFold(n_splits=3, shuffle=True), \n",
    "                   scoring='accuracy',\n",
    "                   verbose=1, refit=True)\n",
    "XGB.fit(x_train, y_train)"
   ]
  },
  {
   "cell_type": "code",
   "execution_count": 316,
   "id": "865aa0ed",
   "metadata": {},
   "outputs": [
    {
     "data": {
      "text/plain": [
       "{'subsample': 0.7,\n",
       " 'silent': 1,\n",
       " 'objective': 'binary:logistic',\n",
       " 'n_estimators': 644,\n",
       " 'min_child_weight': 5,\n",
       " 'max_depth': 10,\n",
       " 'learning_rate': 0.01,\n",
       " 'colsample_bytree': 0.7}"
      ]
     },
     "execution_count": 316,
     "metadata": {},
     "output_type": "execute_result"
    }
   ],
   "source": [
    "XGB.best_params_"
   ]
  },
  {
   "cell_type": "code",
   "execution_count": 325,
   "id": "42761844",
   "metadata": {},
   "outputs": [],
   "source": [
    "xgb_tuned=XGBClassifier(objective='binary:logistic',subsample=0.7,silent=1,n_estimators=644,\n",
    "                        max_depth=10,learning_rate=0.01,colsample_bytree=0.7,eval_metric='error')"
   ]
  },
  {
   "cell_type": "code",
   "execution_count": 341,
   "id": "70dcb236",
   "metadata": {},
   "outputs": [
    {
     "name": "stdout",
     "output_type": "stream",
     "text": [
      "[20:10:27] WARNING: C:/Users/Administrator/workspace/xgboost-win64_release_1.5.1/src/learner.cc:576: \n",
      "Parameters: { \"silent\" } might not be used.\n",
      "\n",
      "  This could be a false alarm, with some parameters getting used by language bindings but\n",
      "  then being mistakenly passed down to XGBoost core, or some parameter actually being used\n",
      "  but getting flagged wrongly here. Please open an issue if you find any such cases.\n",
      "\n",
      "\n"
     ]
    }
   ],
   "source": [
    "xgb_tuned_model=xgb_tuned.fit(x_train,y_train)"
   ]
  },
  {
   "cell_type": "code",
   "execution_count": 327,
   "id": "255f5909",
   "metadata": {},
   "outputs": [
    {
     "data": {
      "text/plain": [
       "0.9603111288392501"
      ]
     },
     "execution_count": 327,
     "metadata": {},
     "output_type": "execute_result"
    }
   ],
   "source": [
    "xgb_tuned_model.score(x_train,y_train)"
   ]
  },
  {
   "cell_type": "code",
   "execution_count": 328,
   "id": "67e277bf",
   "metadata": {},
   "outputs": [
    {
     "data": {
      "text/plain": [
       "0.957053583300093"
      ]
     },
     "execution_count": 328,
     "metadata": {},
     "output_type": "execute_result"
    }
   ],
   "source": [
    "xgb_tuned_model.score(x_test,y_test)"
   ]
  },
  {
   "cell_type": "code",
   "execution_count": 342,
   "id": "a14edcae",
   "metadata": {},
   "outputs": [],
   "source": [
    "pred_xgb_t = xgb_tuned_model.predict(x_test)"
   ]
  },
  {
   "cell_type": "code",
   "execution_count": 343,
   "id": "205ea684",
   "metadata": {},
   "outputs": [
    {
     "name": "stdout",
     "output_type": "stream",
     "text": [
      "              precision    recall  f1-score   support\n",
      "\n",
      "           0       0.60      1.00      0.75     15042\n",
      "           1       1.00      0.33      0.49     15042\n",
      "\n",
      "    accuracy                           0.66     30084\n",
      "   macro avg       0.80      0.66      0.62     30084\n",
      "weighted avg       0.80      0.66      0.62     30084\n",
      "\n"
     ]
    }
   ],
   "source": [
    "print(classification_report(y_test,pred_xgb_t))"
   ]
  },
  {
   "cell_type": "code",
   "execution_count": 335,
   "id": "d694c1db",
   "metadata": {},
   "outputs": [
    {
     "data": {
      "text/plain": [
       "<sklearn.metrics._plot.roc_curve.RocCurveDisplay at 0x27dabb21520>"
      ]
     },
     "execution_count": 335,
     "metadata": {},
     "output_type": "execute_result"
    },
    {
     "data": {
      "image/png": "[encoded data removed]",
      "text/plain": [
       "<Figure size 432x288 with 1 Axes>"
      ]
     },
     "metadata": {
      "needs_background": "light"
     },
     "output_type": "display_data"
    }
   ],
   "source": [
    "plot_roc_curve(xgb_tuned_model,x_test,y_test)"
   ]
  },
  {
   "cell_type": "code",
   "execution_count": 336,
   "id": "06b43124",
   "metadata": {},
   "outputs": [
    {
     "data": {
      "text/plain": [
       "<sklearn.metrics._plot.confusion_matrix.ConfusionMatrixDisplay at 0x27d91208bb0>"
      ]
     },
     "execution_count": 336,
     "metadata": {},
     "output_type": "execute_result"
    },
    {
     "data": {
      "image/png": "[encoded data removed]",
      "text/plain": [
       "<Figure size 432x288 with 2 Axes>"
      ]
     },
     "metadata": {
      "needs_background": "light"
     },
     "output_type": "display_data"
    }
   ],
   "source": [
    "plot_confusion_matrix(xgb_tuned_model,x_test, pred_xgb_t)"
   ]
  },
  {
   "cell_type": "code",
   "execution_count": 346,
   "id": "5ccf52de",
   "metadata": {},
   "outputs": [],
   "source": [
    "sub_pred=rf_model.predict(hrtestdf)"
   ]
  },
  {
   "cell_type": "code",
   "execution_count": 347,
   "id": "bb0e7344",
   "metadata": {},
   "outputs": [],
   "source": [
    "pd.DataFrame(sub_pred).to_csv('rf_non_smote.csv')"
   ]
  },
  {
   "cell_type": "code",
   "execution_count": 301,
   "id": "d2ffa1ac",
   "metadata": {},
   "outputs": [],
   "source": [
    "# Tuning AdaBoost Model\n",
    "params={'n_estimators':[10, 50, 100, 500],'learning_rate':[0.0001, 0.001, 0.01, 0.1, 1.0]}"
   ]
  },
  {
   "cell_type": "code",
   "execution_count": 302,
   "id": "eadc2b9b",
   "metadata": {},
   "outputs": [],
   "source": [
    "# define the evaluation procedure\n",
    "cv = StratifiedKFold(n_splits=3, shuffle=True)"
   ]
  },
  {
   "cell_type": "code",
   "execution_count": 303,
   "id": "74931040",
   "metadata": {},
   "outputs": [],
   "source": [
    "# define the grid search procedure\n",
    "grid_search = GridSearchCV(estimator=abc, param_grid=params, n_jobs=-1, cv=cv, scoring='accuracy')"
   ]
  },
  {
   "cell_type": "code",
   "execution_count": 304,
   "id": "941d03ee",
   "metadata": {},
   "outputs": [],
   "source": [
    "# execute the grid search\n",
    "grid_result = grid_search.fit(x_train, y_train)"
   ]
  },
  {
   "cell_type": "code",
   "execution_count": 305,
   "id": "dd39d24c",
   "metadata": {},
   "outputs": [
    {
     "name": "stdout",
     "output_type": "stream",
     "text": [
      "Best: 0.962975 using {'learning_rate': 0.1, 'n_estimators': 500}\n"
     ]
    }
   ],
   "source": [
    "# summarize the best score and configuration\n",
    "print(\"Best: %f using %s\" % (grid_result.best_score_, grid_result.best_params_))"
   ]
  },
  {
   "cell_type": "code",
   "execution_count": 306,
   "id": "9d7f9c53",
   "metadata": {},
   "outputs": [],
   "source": [
    "ada_tuned=AdaBoostClassifier(learning_rate=0.1,n_estimators=500)"
   ]
  },
  {
   "cell_type": "code",
   "execution_count": 307,
   "id": "35a0f293",
   "metadata": {},
   "outputs": [],
   "source": [
    "ada_tuned_model=ada_tuned.fit(x_train,y_train)"
   ]
  },
  {
   "cell_type": "code",
   "execution_count": 308,
   "id": "9858008c",
   "metadata": {},
   "outputs": [
    {
     "data": {
      "text/plain": [
       "0.8769303094193401"
      ]
     },
     "execution_count": 308,
     "metadata": {},
     "output_type": "execute_result"
    }
   ],
   "source": [
    "ada_tuned_model.score(x_train,y_train)"
   ]
  },
  {
   "cell_type": "code",
   "execution_count": 309,
   "id": "bfb808cf",
   "metadata": {},
   "outputs": [
    {
     "data": {
      "text/plain": [
       "0.8784403669724771"
      ]
     },
     "execution_count": 309,
     "metadata": {},
     "output_type": "execute_result"
    }
   ],
   "source": [
    "ada_tuned_model.score(x_test,y_test)"
   ]
  },
  {
   "cell_type": "code",
   "execution_count": 310,
   "id": "b7b34cff",
   "metadata": {},
   "outputs": [],
   "source": [
    "pred_ada_t=ada_tuned_model.predict(x_test)"
   ]
  },
  {
   "cell_type": "code",
   "execution_count": 312,
   "id": "6a4e18aa",
   "metadata": {},
   "outputs": [
    {
     "name": "stdout",
     "output_type": "stream",
     "text": [
      "              precision    recall  f1-score   support\n",
      "\n",
      "           0       0.92      0.85      0.88     16165\n",
      "           1       0.84      0.91      0.87     13919\n",
      "\n",
      "    accuracy                           0.88     30084\n",
      "   macro avg       0.88      0.88      0.88     30084\n",
      "weighted avg       0.88      0.88      0.88     30084\n",
      "\n"
     ]
    }
   ],
   "source": [
    "print(classification_report(pred_ada_t,y_test))"
   ]
  },
  {
   "cell_type": "code",
   "execution_count": null,
   "id": "b0804281",
   "metadata": {},
   "outputs": [],
   "source": []
  }
 ],
 "metadata": {
  "kernelspec": {
   "display_name": "Python 3",
   "language": "python",
   "name": "python3"
  },
  "language_info": {
   "codemirror_mode": {
    "name": "ipython",
    "version": 3
   },
   "file_extension": ".py",
   "mimetype": "text/x-python",
   "name": "python",
   "nbconvert_exporter": "python",
   "pygments_lexer": "ipython3",
   "version": "3.8.8"
  }
 },
 "nbformat": 4,
 "nbformat_minor": 5
}
