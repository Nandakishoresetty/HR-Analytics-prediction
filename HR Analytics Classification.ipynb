{
 "cells": [
  {
   "cell_type": "code",
   "execution_count": 1,
   "id": "3fa14161",
   "metadata": {},
   "outputs": [],
   "source": [
    "import pandas as pd\n",
    "import numpy as np\n",
    "import matplotlib.pyplot as plt\n",
    "%matplotlib inline\n",
    "import seaborn as sns\n",
    "\n",
    "import warnings\n",
    "warnings.filterwarnings(\"ignore\")"
   ]
  },
  {
   "cell_type": "code",
   "execution_count": 2,
   "id": "2690d17e",
   "metadata": {},
   "outputs": [
    {
     "name": "stdout",
     "output_type": "stream",
     "text": [
      "C:\\Users\\INTEL\\PGDA Datasets\\HR Analytics problem\n"
     ]
    }
   ],
   "source": [
    "import io\n",
    "%cd \"C:\\Users\\INTEL\\PGDA Datasets\\HR Analytics problem\""
   ]
  },
  {
   "cell_type": "code",
   "execution_count": 3,
   "id": "04470143",
   "metadata": {},
   "outputs": [],
   "source": [
    "hrtrain = pd.read_csv('train_LZdllcl.csv')\n",
    "hrtest = pd.read_csv('test_2umaH9m.csv')"
   ]
  },
  {
   "cell_type": "code",
   "execution_count": 4,
   "id": "bbdd16f4",
   "metadata": {},
   "outputs": [
    {
     "data": {
      "text/html": [
       "<div>\n",
       "<style scoped>\n",
       "    .dataframe tbody tr th:only-of-type {\n",
       "        vertical-align: middle;\n",
       "    }\n",
       "\n",
       "    .dataframe tbody tr th {\n",
       "        vertical-align: top;\n",
       "    }\n",
       "\n",
       "    .dataframe thead th {\n",
       "        text-align: right;\n",
       "    }\n",
       "</style>\n",
       "<table border=\"1\" class=\"dataframe\">\n",
       "  <thead>\n",
       "    <tr style=\"text-align: right;\">\n",
       "      <th></th>\n",
       "      <th>employee_id</th>\n",
       "      <th>department</th>\n",
       "      <th>region</th>\n",
       "      <th>education</th>\n",
       "      <th>gender</th>\n",
       "      <th>recruitment_channel</th>\n",
       "      <th>no_of_trainings</th>\n",
       "      <th>age</th>\n",
       "      <th>previous_year_rating</th>\n",
       "      <th>length_of_service</th>\n",
       "      <th>KPIs_met &gt;80%</th>\n",
       "      <th>awards_won?</th>\n",
       "      <th>avg_training_score</th>\n",
       "      <th>is_promoted</th>\n",
       "    </tr>\n",
       "  </thead>\n",
       "  <tbody>\n",
       "    <tr>\n",
       "      <th>0</th>\n",
       "      <td>65438</td>\n",
       "      <td>Sales &amp; Marketing</td>\n",
       "      <td>region_7</td>\n",
       "      <td>Master's &amp; above</td>\n",
       "      <td>f</td>\n",
       "      <td>sourcing</td>\n",
       "      <td>1</td>\n",
       "      <td>35</td>\n",
       "      <td>5.0</td>\n",
       "      <td>8</td>\n",
       "      <td>1</td>\n",
       "      <td>0</td>\n",
       "      <td>49</td>\n",
       "      <td>0</td>\n",
       "    </tr>\n",
       "    <tr>\n",
       "      <th>1</th>\n",
       "      <td>65141</td>\n",
       "      <td>Operations</td>\n",
       "      <td>region_22</td>\n",
       "      <td>Bachelor's</td>\n",
       "      <td>m</td>\n",
       "      <td>other</td>\n",
       "      <td>1</td>\n",
       "      <td>30</td>\n",
       "      <td>5.0</td>\n",
       "      <td>4</td>\n",
       "      <td>0</td>\n",
       "      <td>0</td>\n",
       "      <td>60</td>\n",
       "      <td>0</td>\n",
       "    </tr>\n",
       "    <tr>\n",
       "      <th>2</th>\n",
       "      <td>7513</td>\n",
       "      <td>Sales &amp; Marketing</td>\n",
       "      <td>region_19</td>\n",
       "      <td>Bachelor's</td>\n",
       "      <td>m</td>\n",
       "      <td>sourcing</td>\n",
       "      <td>1</td>\n",
       "      <td>34</td>\n",
       "      <td>3.0</td>\n",
       "      <td>7</td>\n",
       "      <td>0</td>\n",
       "      <td>0</td>\n",
       "      <td>50</td>\n",
       "      <td>0</td>\n",
       "    </tr>\n",
       "    <tr>\n",
       "      <th>3</th>\n",
       "      <td>2542</td>\n",
       "      <td>Sales &amp; Marketing</td>\n",
       "      <td>region_23</td>\n",
       "      <td>Bachelor's</td>\n",
       "      <td>m</td>\n",
       "      <td>other</td>\n",
       "      <td>2</td>\n",
       "      <td>39</td>\n",
       "      <td>1.0</td>\n",
       "      <td>10</td>\n",
       "      <td>0</td>\n",
       "      <td>0</td>\n",
       "      <td>50</td>\n",
       "      <td>0</td>\n",
       "    </tr>\n",
       "    <tr>\n",
       "      <th>4</th>\n",
       "      <td>48945</td>\n",
       "      <td>Technology</td>\n",
       "      <td>region_26</td>\n",
       "      <td>Bachelor's</td>\n",
       "      <td>m</td>\n",
       "      <td>other</td>\n",
       "      <td>1</td>\n",
       "      <td>45</td>\n",
       "      <td>3.0</td>\n",
       "      <td>2</td>\n",
       "      <td>0</td>\n",
       "      <td>0</td>\n",
       "      <td>73</td>\n",
       "      <td>0</td>\n",
       "    </tr>\n",
       "  </tbody>\n",
       "</table>\n",
       "</div>"
      ],
      "text/plain": [
       "   employee_id         department     region         education gender  \\\n",
       "0        65438  Sales & Marketing   region_7  Master's & above      f   \n",
       "1        65141         Operations  region_22        Bachelor's      m   \n",
       "2         7513  Sales & Marketing  region_19        Bachelor's      m   \n",
       "3         2542  Sales & Marketing  region_23        Bachelor's      m   \n",
       "4        48945         Technology  region_26        Bachelor's      m   \n",
       "\n",
       "  recruitment_channel  no_of_trainings  age  previous_year_rating  \\\n",
       "0            sourcing                1   35                   5.0   \n",
       "1               other                1   30                   5.0   \n",
       "2            sourcing                1   34                   3.0   \n",
       "3               other                2   39                   1.0   \n",
       "4               other                1   45                   3.0   \n",
       "\n",
       "   length_of_service  KPIs_met >80%  awards_won?  avg_training_score  \\\n",
       "0                  8              1            0                  49   \n",
       "1                  4              0            0                  60   \n",
       "2                  7              0            0                  50   \n",
       "3                 10              0            0                  50   \n",
       "4                  2              0            0                  73   \n",
       "\n",
       "   is_promoted  \n",
       "0            0  \n",
       "1            0  \n",
       "2            0  \n",
       "3            0  \n",
       "4            0  "
      ]
     },
     "execution_count": 4,
     "metadata": {},
     "output_type": "execute_result"
    }
   ],
   "source": [
    "hrtrain.head()"
   ]
  },
  {
   "cell_type": "code",
   "execution_count": 5,
   "id": "bc5f138d",
   "metadata": {},
   "outputs": [
    {
     "data": {
      "text/html": [
       "<div>\n",
       "<style scoped>\n",
       "    .dataframe tbody tr th:only-of-type {\n",
       "        vertical-align: middle;\n",
       "    }\n",
       "\n",
       "    .dataframe tbody tr th {\n",
       "        vertical-align: top;\n",
       "    }\n",
       "\n",
       "    .dataframe thead th {\n",
       "        text-align: right;\n",
       "    }\n",
       "</style>\n",
       "<table border=\"1\" class=\"dataframe\">\n",
       "  <thead>\n",
       "    <tr style=\"text-align: right;\">\n",
       "      <th></th>\n",
       "      <th>employee_id</th>\n",
       "      <th>department</th>\n",
       "      <th>region</th>\n",
       "      <th>education</th>\n",
       "      <th>gender</th>\n",
       "      <th>recruitment_channel</th>\n",
       "      <th>no_of_trainings</th>\n",
       "      <th>age</th>\n",
       "      <th>previous_year_rating</th>\n",
       "      <th>length_of_service</th>\n",
       "      <th>KPIs_met &gt;80%</th>\n",
       "      <th>awards_won?</th>\n",
       "      <th>avg_training_score</th>\n",
       "    </tr>\n",
       "  </thead>\n",
       "  <tbody>\n",
       "    <tr>\n",
       "      <th>0</th>\n",
       "      <td>8724</td>\n",
       "      <td>Technology</td>\n",
       "      <td>region_26</td>\n",
       "      <td>Bachelor's</td>\n",
       "      <td>m</td>\n",
       "      <td>sourcing</td>\n",
       "      <td>1</td>\n",
       "      <td>24</td>\n",
       "      <td>NaN</td>\n",
       "      <td>1</td>\n",
       "      <td>1</td>\n",
       "      <td>0</td>\n",
       "      <td>77</td>\n",
       "    </tr>\n",
       "    <tr>\n",
       "      <th>1</th>\n",
       "      <td>74430</td>\n",
       "      <td>HR</td>\n",
       "      <td>region_4</td>\n",
       "      <td>Bachelor's</td>\n",
       "      <td>f</td>\n",
       "      <td>other</td>\n",
       "      <td>1</td>\n",
       "      <td>31</td>\n",
       "      <td>3.0</td>\n",
       "      <td>5</td>\n",
       "      <td>0</td>\n",
       "      <td>0</td>\n",
       "      <td>51</td>\n",
       "    </tr>\n",
       "    <tr>\n",
       "      <th>2</th>\n",
       "      <td>72255</td>\n",
       "      <td>Sales &amp; Marketing</td>\n",
       "      <td>region_13</td>\n",
       "      <td>Bachelor's</td>\n",
       "      <td>m</td>\n",
       "      <td>other</td>\n",
       "      <td>1</td>\n",
       "      <td>31</td>\n",
       "      <td>1.0</td>\n",
       "      <td>4</td>\n",
       "      <td>0</td>\n",
       "      <td>0</td>\n",
       "      <td>47</td>\n",
       "    </tr>\n",
       "    <tr>\n",
       "      <th>3</th>\n",
       "      <td>38562</td>\n",
       "      <td>Procurement</td>\n",
       "      <td>region_2</td>\n",
       "      <td>Bachelor's</td>\n",
       "      <td>f</td>\n",
       "      <td>other</td>\n",
       "      <td>3</td>\n",
       "      <td>31</td>\n",
       "      <td>2.0</td>\n",
       "      <td>9</td>\n",
       "      <td>0</td>\n",
       "      <td>0</td>\n",
       "      <td>65</td>\n",
       "    </tr>\n",
       "    <tr>\n",
       "      <th>4</th>\n",
       "      <td>64486</td>\n",
       "      <td>Finance</td>\n",
       "      <td>region_29</td>\n",
       "      <td>Bachelor's</td>\n",
       "      <td>m</td>\n",
       "      <td>sourcing</td>\n",
       "      <td>1</td>\n",
       "      <td>30</td>\n",
       "      <td>4.0</td>\n",
       "      <td>7</td>\n",
       "      <td>0</td>\n",
       "      <td>0</td>\n",
       "      <td>61</td>\n",
       "    </tr>\n",
       "  </tbody>\n",
       "</table>\n",
       "</div>"
      ],
      "text/plain": [
       "   employee_id         department     region   education gender  \\\n",
       "0         8724         Technology  region_26  Bachelor's      m   \n",
       "1        74430                 HR   region_4  Bachelor's      f   \n",
       "2        72255  Sales & Marketing  region_13  Bachelor's      m   \n",
       "3        38562        Procurement   region_2  Bachelor's      f   \n",
       "4        64486            Finance  region_29  Bachelor's      m   \n",
       "\n",
       "  recruitment_channel  no_of_trainings  age  previous_year_rating  \\\n",
       "0            sourcing                1   24                   NaN   \n",
       "1               other                1   31                   3.0   \n",
       "2               other                1   31                   1.0   \n",
       "3               other                3   31                   2.0   \n",
       "4            sourcing                1   30                   4.0   \n",
       "\n",
       "   length_of_service  KPIs_met >80%  awards_won?  avg_training_score  \n",
       "0                  1              1            0                  77  \n",
       "1                  5              0            0                  51  \n",
       "2                  4              0            0                  47  \n",
       "3                  9              0            0                  65  \n",
       "4                  7              0            0                  61  "
      ]
     },
     "execution_count": 5,
     "metadata": {},
     "output_type": "execute_result"
    }
   ],
   "source": [
    "hrtest.head()"
   ]
  },
  {
   "cell_type": "code",
   "execution_count": 6,
   "id": "5a10f2ce",
   "metadata": {},
   "outputs": [
    {
     "name": "stdout",
     "output_type": "stream",
     "text": [
      "(54808, 14)\n",
      "(23490, 13)\n"
     ]
    }
   ],
   "source": [
    "print(hrtrain.shape)\n",
    "print(hrtest.shape)"
   ]
  },
  {
   "cell_type": "code",
   "execution_count": 7,
   "id": "373a6549",
   "metadata": {},
   "outputs": [
    {
     "data": {
      "text/html": [
       "<div>\n",
       "<style scoped>\n",
       "    .dataframe tbody tr th:only-of-type {\n",
       "        vertical-align: middle;\n",
       "    }\n",
       "\n",
       "    .dataframe tbody tr th {\n",
       "        vertical-align: top;\n",
       "    }\n",
       "\n",
       "    .dataframe thead th {\n",
       "        text-align: right;\n",
       "    }\n",
       "</style>\n",
       "<table border=\"1\" class=\"dataframe\">\n",
       "  <thead>\n",
       "    <tr style=\"text-align: right;\">\n",
       "      <th></th>\n",
       "      <th>employee_id</th>\n",
       "      <th>no_of_trainings</th>\n",
       "      <th>age</th>\n",
       "      <th>previous_year_rating</th>\n",
       "      <th>length_of_service</th>\n",
       "      <th>KPIs_met &gt;80%</th>\n",
       "      <th>awards_won?</th>\n",
       "      <th>avg_training_score</th>\n",
       "    </tr>\n",
       "  </thead>\n",
       "  <tbody>\n",
       "    <tr>\n",
       "      <th>count</th>\n",
       "      <td>23490.000000</td>\n",
       "      <td>23490.000000</td>\n",
       "      <td>23490.000000</td>\n",
       "      <td>21678.000000</td>\n",
       "      <td>23490.000000</td>\n",
       "      <td>23490.000000</td>\n",
       "      <td>23490.000000</td>\n",
       "      <td>23490.000000</td>\n",
       "    </tr>\n",
       "    <tr>\n",
       "      <th>mean</th>\n",
       "      <td>39041.399149</td>\n",
       "      <td>1.254236</td>\n",
       "      <td>34.782929</td>\n",
       "      <td>3.339146</td>\n",
       "      <td>5.810387</td>\n",
       "      <td>0.358834</td>\n",
       "      <td>0.022776</td>\n",
       "      <td>63.263133</td>\n",
       "    </tr>\n",
       "    <tr>\n",
       "      <th>std</th>\n",
       "      <td>22640.809201</td>\n",
       "      <td>0.600910</td>\n",
       "      <td>7.679492</td>\n",
       "      <td>1.263294</td>\n",
       "      <td>4.207917</td>\n",
       "      <td>0.479668</td>\n",
       "      <td>0.149191</td>\n",
       "      <td>13.411750</td>\n",
       "    </tr>\n",
       "    <tr>\n",
       "      <th>min</th>\n",
       "      <td>3.000000</td>\n",
       "      <td>1.000000</td>\n",
       "      <td>20.000000</td>\n",
       "      <td>1.000000</td>\n",
       "      <td>1.000000</td>\n",
       "      <td>0.000000</td>\n",
       "      <td>0.000000</td>\n",
       "      <td>39.000000</td>\n",
       "    </tr>\n",
       "    <tr>\n",
       "      <th>25%</th>\n",
       "      <td>19370.250000</td>\n",
       "      <td>1.000000</td>\n",
       "      <td>29.000000</td>\n",
       "      <td>3.000000</td>\n",
       "      <td>3.000000</td>\n",
       "      <td>0.000000</td>\n",
       "      <td>0.000000</td>\n",
       "      <td>51.000000</td>\n",
       "    </tr>\n",
       "    <tr>\n",
       "      <th>50%</th>\n",
       "      <td>38963.500000</td>\n",
       "      <td>1.000000</td>\n",
       "      <td>33.000000</td>\n",
       "      <td>3.000000</td>\n",
       "      <td>5.000000</td>\n",
       "      <td>0.000000</td>\n",
       "      <td>0.000000</td>\n",
       "      <td>60.000000</td>\n",
       "    </tr>\n",
       "    <tr>\n",
       "      <th>75%</th>\n",
       "      <td>58690.000000</td>\n",
       "      <td>1.000000</td>\n",
       "      <td>39.000000</td>\n",
       "      <td>4.000000</td>\n",
       "      <td>7.000000</td>\n",
       "      <td>1.000000</td>\n",
       "      <td>0.000000</td>\n",
       "      <td>76.000000</td>\n",
       "    </tr>\n",
       "    <tr>\n",
       "      <th>max</th>\n",
       "      <td>78295.000000</td>\n",
       "      <td>9.000000</td>\n",
       "      <td>60.000000</td>\n",
       "      <td>5.000000</td>\n",
       "      <td>34.000000</td>\n",
       "      <td>1.000000</td>\n",
       "      <td>1.000000</td>\n",
       "      <td>99.000000</td>\n",
       "    </tr>\n",
       "  </tbody>\n",
       "</table>\n",
       "</div>"
      ],
      "text/plain": [
       "        employee_id  no_of_trainings           age  previous_year_rating  \\\n",
       "count  23490.000000     23490.000000  23490.000000          21678.000000   \n",
       "mean   39041.399149         1.254236     34.782929              3.339146   \n",
       "std    22640.809201         0.600910      7.679492              1.263294   \n",
       "min        3.000000         1.000000     20.000000              1.000000   \n",
       "25%    19370.250000         1.000000     29.000000              3.000000   \n",
       "50%    38963.500000         1.000000     33.000000              3.000000   \n",
       "75%    58690.000000         1.000000     39.000000              4.000000   \n",
       "max    78295.000000         9.000000     60.000000              5.000000   \n",
       "\n",
       "       length_of_service  KPIs_met >80%   awards_won?  avg_training_score  \n",
       "count       23490.000000   23490.000000  23490.000000        23490.000000  \n",
       "mean            5.810387       0.358834      0.022776           63.263133  \n",
       "std             4.207917       0.479668      0.149191           13.411750  \n",
       "min             1.000000       0.000000      0.000000           39.000000  \n",
       "25%             3.000000       0.000000      0.000000           51.000000  \n",
       "50%             5.000000       0.000000      0.000000           60.000000  \n",
       "75%             7.000000       1.000000      0.000000           76.000000  \n",
       "max            34.000000       1.000000      1.000000           99.000000  "
      ]
     },
     "execution_count": 7,
     "metadata": {},
     "output_type": "execute_result"
    }
   ],
   "source": [
    "hrtest.describe()"
   ]
  },
  {
   "cell_type": "code",
   "execution_count": 8,
   "id": "fbbfb0e9",
   "metadata": {},
   "outputs": [
    {
     "data": {
      "text/html": [
       "<div>\n",
       "<style scoped>\n",
       "    .dataframe tbody tr th:only-of-type {\n",
       "        vertical-align: middle;\n",
       "    }\n",
       "\n",
       "    .dataframe tbody tr th {\n",
       "        vertical-align: top;\n",
       "    }\n",
       "\n",
       "    .dataframe thead th {\n",
       "        text-align: right;\n",
       "    }\n",
       "</style>\n",
       "<table border=\"1\" class=\"dataframe\">\n",
       "  <thead>\n",
       "    <tr style=\"text-align: right;\">\n",
       "      <th></th>\n",
       "      <th>department</th>\n",
       "      <th>region</th>\n",
       "      <th>education</th>\n",
       "      <th>gender</th>\n",
       "      <th>recruitment_channel</th>\n",
       "    </tr>\n",
       "  </thead>\n",
       "  <tbody>\n",
       "    <tr>\n",
       "      <th>count</th>\n",
       "      <td>23490</td>\n",
       "      <td>23490</td>\n",
       "      <td>22456</td>\n",
       "      <td>23490</td>\n",
       "      <td>23490</td>\n",
       "    </tr>\n",
       "    <tr>\n",
       "      <th>unique</th>\n",
       "      <td>9</td>\n",
       "      <td>34</td>\n",
       "      <td>3</td>\n",
       "      <td>2</td>\n",
       "      <td>3</td>\n",
       "    </tr>\n",
       "    <tr>\n",
       "      <th>top</th>\n",
       "      <td>Sales &amp; Marketing</td>\n",
       "      <td>region_2</td>\n",
       "      <td>Bachelor's</td>\n",
       "      <td>m</td>\n",
       "      <td>other</td>\n",
       "    </tr>\n",
       "    <tr>\n",
       "      <th>freq</th>\n",
       "      <td>7315</td>\n",
       "      <td>5299</td>\n",
       "      <td>15578</td>\n",
       "      <td>16596</td>\n",
       "      <td>13078</td>\n",
       "    </tr>\n",
       "  </tbody>\n",
       "</table>\n",
       "</div>"
      ],
      "text/plain": [
       "               department    region   education gender recruitment_channel\n",
       "count               23490     23490       22456  23490               23490\n",
       "unique                  9        34           3      2                   3\n",
       "top     Sales & Marketing  region_2  Bachelor's      m               other\n",
       "freq                 7315      5299       15578  16596               13078"
      ]
     },
     "execution_count": 8,
     "metadata": {},
     "output_type": "execute_result"
    }
   ],
   "source": [
    "hrtest.describe(include='object')"
   ]
  },
  {
   "cell_type": "code",
   "execution_count": 9,
   "id": "2ce0bb94",
   "metadata": {},
   "outputs": [
    {
     "data": {
      "text/plain": [
       "Index(['employee_id', 'department', 'region', 'education', 'gender',\n",
       "       'recruitment_channel', 'no_of_trainings', 'age', 'previous_year_rating',\n",
       "       'length_of_service', 'KPIs_met >80%', 'awards_won?',\n",
       "       'avg_training_score', 'is_promoted'],\n",
       "      dtype='object')"
      ]
     },
     "execution_count": 9,
     "metadata": {},
     "output_type": "execute_result"
    }
   ],
   "source": [
    "hrtrain.columns"
   ]
  },
  {
   "cell_type": "code",
   "execution_count": 10,
   "id": "d22c0e24",
   "metadata": {},
   "outputs": [
    {
     "name": "stdout",
     "output_type": "stream",
     "text": [
      "<class 'pandas.core.frame.DataFrame'>\n",
      "RangeIndex: 54808 entries, 0 to 54807\n",
      "Data columns (total 14 columns):\n",
      " #   Column                Non-Null Count  Dtype  \n",
      "---  ------                --------------  -----  \n",
      " 0   employee_id           54808 non-null  int64  \n",
      " 1   department            54808 non-null  object \n",
      " 2   region                54808 non-null  object \n",
      " 3   education             52399 non-null  object \n",
      " 4   gender                54808 non-null  object \n",
      " 5   recruitment_channel   54808 non-null  object \n",
      " 6   no_of_trainings       54808 non-null  int64  \n",
      " 7   age                   54808 non-null  int64  \n",
      " 8   previous_year_rating  50684 non-null  float64\n",
      " 9   length_of_service     54808 non-null  int64  \n",
      " 10  KPIs_met >80%         54808 non-null  int64  \n",
      " 11  awards_won?           54808 non-null  int64  \n",
      " 12  avg_training_score    54808 non-null  int64  \n",
      " 13  is_promoted           54808 non-null  int64  \n",
      "dtypes: float64(1), int64(8), object(5)\n",
      "memory usage: 5.9+ MB\n"
     ]
    }
   ],
   "source": [
    "hrtrain.info()"
   ]
  },
  {
   "cell_type": "code",
   "execution_count": 11,
   "id": "5e5ad075",
   "metadata": {},
   "outputs": [
    {
     "data": {
      "text/plain": [
       "employee_id                        70800\n",
       "department                    Operations\n",
       "region                          region_4\n",
       "education               Master's & above\n",
       "gender                                 f\n",
       "recruitment_channel             sourcing\n",
       "no_of_trainings                        1\n",
       "age                                   37\n",
       "previous_year_rating                 5.0\n",
       "length_of_service                      8\n",
       "KPIs_met >80%                          1\n",
       "awards_won?                            1\n",
       "avg_training_score                    99\n",
       "is_promoted                            1\n",
       "Name: 725, dtype: object"
      ]
     },
     "execution_count": 11,
     "metadata": {},
     "output_type": "execute_result"
    }
   ],
   "source": [
    "hrtrain.iloc[hrtrain.avg_training_score.idxmax()]\n",
    "# Details of employee who scored maximum in Training"
   ]
  },
  {
   "cell_type": "code",
   "execution_count": 12,
   "id": "ca42d6d3",
   "metadata": {},
   "outputs": [
    {
     "data": {
      "text/plain": [
       "employee_id                         42747\n",
       "department              Sales & Marketing\n",
       "region                          region_15\n",
       "education                      Bachelor's\n",
       "gender                                  m\n",
       "recruitment_channel                 other\n",
       "no_of_trainings                         2\n",
       "age                                    35\n",
       "previous_year_rating                  1.0\n",
       "length_of_service                       8\n",
       "KPIs_met >80%                           0\n",
       "awards_won?                             0\n",
       "avg_training_score                     39\n",
       "is_promoted                             0\n",
       "Name: 198, dtype: object"
      ]
     },
     "execution_count": 12,
     "metadata": {},
     "output_type": "execute_result"
    }
   ],
   "source": [
    "hrtrain.iloc[hrtrain.avg_training_score.idxmin()]\n",
    "# Details of employee who scored maximum in Training"
   ]
  },
  {
   "cell_type": "code",
   "execution_count": 13,
   "id": "7b7aa91c",
   "metadata": {},
   "outputs": [],
   "source": [
    "graph_cols=['department', 'region', 'education', 'gender',\n",
    "       'recruitment_channel', 'previous_year_rating'\n",
    "          , 'KPIs_met >80%', 'awards_won?', 'is_promoted']"
   ]
  },
  {
   "cell_type": "code",
   "execution_count": 14,
   "id": "513a7510",
   "metadata": {},
   "outputs": [
    {
     "data": {
      "image/png": "[encoded data removed]",
      "text/plain": [
       "<Figure size 432x288 with 1 Axes>"
      ]
     },
     "metadata": {
      "needs_background": "light"
     },
     "output_type": "display_data"
    },
    {
     "data": {
      "image/png": "[encoded data removed]",
      "text/plain": [
       "<Figure size 432x288 with 1 Axes>"
      ]
     },
     "metadata": {
      "needs_background": "light"
     },
     "output_type": "display_data"
    },
    {
     "data": {
      "image/png": "[encoded data removed]",
      "text/plain": [
       "<Figure size 432x288 with 1 Axes>"
      ]
     },
     "metadata": {
      "needs_background": "light"
     },
     "output_type": "display_data"
    },
    {
     "data": {
      "image/png": "[encoded data removed]",
      "text/plain": [
       "<Figure size 432x288 with 1 Axes>"
      ]
     },
     "metadata": {
      "needs_background": "light"
     },
     "output_type": "display_data"
    },
    {
     "data": {
      "image/png": "[encoded data removed]",
      "text/plain": [
       "<Figure size 432x288 with 1 Axes>"
      ]
     },
     "metadata": {
      "needs_background": "light"
     },
     "output_type": "display_data"
    },
    {
     "data": {
      "image/png": "[encoded data removed]",
      "text/plain": [
       "<Figure size 432x288 with 1 Axes>"
      ]
     },
     "metadata": {
      "needs_background": "light"
     },
     "output_type": "display_data"
    },
    {
     "data": {
      "image/png": "[encoded data removed]",
      "text/plain": [
       "<Figure size 432x288 with 1 Axes>"
      ]
     },
     "metadata": {
      "needs_background": "light"
     },
     "output_type": "display_data"
    },
    {
     "data": {
      "image/png": "[encoded data removed]",
      "text/plain": [
       "<Figure size 432x288 with 1 Axes>"
      ]
     },
     "metadata": {
      "needs_background": "light"
     },
     "output_type": "display_data"
    },
    {
     "data": {
      "image/png": "[encoded data removed]",
      "text/plain": [
       "<Figure size 432x288 with 1 Axes>"
      ]
     },
     "metadata": {
      "needs_background": "light"
     },
     "output_type": "display_data"
    }
   ],
   "source": [
    "for col in graph_cols:\n",
    "    sns.countplot(x=col,data=hrtrain)\n",
    "    plt.xticks(rotation=90)\n",
    "    plt.show()"
   ]
  },
  {
   "cell_type": "code",
   "execution_count": 15,
   "id": "ffce49f1",
   "metadata": {},
   "outputs": [],
   "source": [
    "# Major number of employees work in Sales & Marketing department\n",
    "# Region_2 has highest number of employees\n",
    "# Majority of the employees have Bachelor's as educational qualification\n",
    "# There are more no of Male employees in the organization\n",
    "# Most of the employees revruted are through sourcing and other methods\n",
    "# Most of the employees have 3 as rating in the previous apraisal cycle\n",
    "# Many employees have KPIs_met < 80%\n",
    "# Very few people have won the awards\n",
    "# Very few people have been promoted"
   ]
  },
  {
   "cell_type": "code",
   "execution_count": 16,
   "id": "aeee502c",
   "metadata": {},
   "outputs": [
    {
     "data": {
      "text/plain": [
       "<AxesSubplot:xlabel='gender', ylabel='count'>"
      ]
     },
     "execution_count": 16,
     "metadata": {},
     "output_type": "execute_result"
    },
    {
     "data": {
      "image/png": "[encoded data removed]",
      "text/plain": [
       "<Figure size 432x288 with 1 Axes>"
      ]
     },
     "metadata": {
      "needs_background": "light"
     },
     "output_type": "display_data"
    }
   ],
   "source": [
    "sns.countplot(x='gender',hue='is_promoted',data=hrtrain,palette='RdBu')"
   ]
  },
  {
   "cell_type": "code",
   "execution_count": 17,
   "id": "a30eb81b",
   "metadata": {},
   "outputs": [],
   "source": [
    "promoted=hrtrain[hrtrain.is_promoted==1]"
   ]
  },
  {
   "cell_type": "code",
   "execution_count": 18,
   "id": "0de94918",
   "metadata": {},
   "outputs": [
    {
     "data": {
      "text/plain": [
       "<AxesSubplot:xlabel='length_of_service', ylabel='count'>"
      ]
     },
     "execution_count": 18,
     "metadata": {},
     "output_type": "execute_result"
    },
    {
     "data": {
      "image/png": "[encoded data removed]",
      "text/plain": [
       "<Figure size 576x360 with 1 Axes>"
      ]
     },
     "metadata": {
      "needs_background": "light"
     },
     "output_type": "display_data"
    }
   ],
   "source": [
    "plt.figure(figsize=(8,5))\n",
    "sns.countplot(x='length_of_service',data=promoted)\n",
    "# Majority of the people promoted are having experience between 2-7 years"
   ]
  },
  {
   "cell_type": "code",
   "execution_count": 19,
   "id": "1ad17097",
   "metadata": {},
   "outputs": [
    {
     "data": {
      "text/plain": [
       "<AxesSubplot:xlabel='age', ylabel='count'>"
      ]
     },
     "execution_count": 19,
     "metadata": {},
     "output_type": "execute_result"
    },
    {
     "data": {
      "image/png": "[encoded data removed]",
      "text/plain": [
       "<Figure size 720x360 with 1 Axes>"
      ]
     },
     "metadata": {
      "needs_background": "light"
     },
     "output_type": "display_data"
    }
   ],
   "source": [
    "plt.figure(figsize=(10,5))\n",
    "sns.countplot(x='age',data=promoted)\n",
    "# Majority of the people promoted are having age between 27-35 years"
   ]
  },
  {
   "cell_type": "code",
   "execution_count": 20,
   "id": "6d3f7182",
   "metadata": {},
   "outputs": [],
   "source": [
    "# No of employee having avg_training_score<60 in each department"
   ]
  },
  {
   "cell_type": "code",
   "execution_count": 21,
   "id": "99ecaa73",
   "metadata": {},
   "outputs": [],
   "source": [
    "below60=hrtrain[hrtrain.avg_training_score<60].groupby('department')['employee_id'].count().to_dict()"
   ]
  },
  {
   "cell_type": "code",
   "execution_count": 22,
   "id": "eb7fe136",
   "metadata": {},
   "outputs": [],
   "source": [
    "below60=pd.DataFrame(below60.values(),index=below60.keys(),columns=['score<60_count'])"
   ]
  },
  {
   "cell_type": "code",
   "execution_count": 23,
   "id": "53dd5602",
   "metadata": {},
   "outputs": [
    {
     "data": {
      "text/html": [
       "<div>\n",
       "<style scoped>\n",
       "    .dataframe tbody tr th:only-of-type {\n",
       "        vertical-align: middle;\n",
       "    }\n",
       "\n",
       "    .dataframe tbody tr th {\n",
       "        vertical-align: top;\n",
       "    }\n",
       "\n",
       "    .dataframe thead th {\n",
       "        text-align: right;\n",
       "    }\n",
       "</style>\n",
       "<table border=\"1\" class=\"dataframe\">\n",
       "  <thead>\n",
       "    <tr style=\"text-align: right;\">\n",
       "      <th></th>\n",
       "      <th>score&lt;60_count</th>\n",
       "    </tr>\n",
       "  </thead>\n",
       "  <tbody>\n",
       "    <tr>\n",
       "      <th>Finance</th>\n",
       "      <td>1210</td>\n",
       "    </tr>\n",
       "    <tr>\n",
       "      <th>HR</th>\n",
       "      <td>2374</td>\n",
       "    </tr>\n",
       "    <tr>\n",
       "      <th>Legal</th>\n",
       "      <td>502</td>\n",
       "    </tr>\n",
       "    <tr>\n",
       "      <th>Operations</th>\n",
       "      <td>5415</td>\n",
       "    </tr>\n",
       "    <tr>\n",
       "      <th>Sales &amp; Marketing</th>\n",
       "      <td>16367</td>\n",
       "    </tr>\n",
       "  </tbody>\n",
       "</table>\n",
       "</div>"
      ],
      "text/plain": [
       "                   score<60_count\n",
       "Finance                      1210\n",
       "HR                           2374\n",
       "Legal                         502\n",
       "Operations                   5415\n",
       "Sales & Marketing           16367"
      ]
     },
     "execution_count": 23,
     "metadata": {},
     "output_type": "execute_result"
    }
   ],
   "source": [
    "below60"
   ]
  },
  {
   "cell_type": "code",
   "execution_count": 24,
   "id": "5de4afe1",
   "metadata": {},
   "outputs": [],
   "source": [
    "ep=below60.copy()\n",
    "for i in ep.index:\n",
    "    ep.loc[i]=round(ep.loc[i]*100/hrtrain[hrtrain.department==i].shape[0],2)"
   ]
  },
  {
   "cell_type": "code",
   "execution_count": 25,
   "id": "a8576371",
   "metadata": {},
   "outputs": [],
   "source": [
    "below60.loc['avg_score>=60']=hrtrain.shape[0]-below60['score<60_count'].sum()"
   ]
  },
  {
   "cell_type": "code",
   "execution_count": 26,
   "id": "5e486c9f",
   "metadata": {},
   "outputs": [
    {
     "data": {
      "image/png": "[encoded data removed]",
      "text/plain": [
       "<Figure size 1080x360 with 2 Axes>"
      ]
     },
     "metadata": {
      "needs_background": "light"
     },
     "output_type": "display_data"
    }
   ],
   "source": [
    "plt.figure(figsize=(15,5))\n",
    "plt.subplot(1,2,1)\n",
    "sns.barplot(x=ep.index,y=ep['score<60_count'],data=ep)\n",
    "plt.ylabel('Percentage')\n",
    "plt.xlabel('department')\n",
    "plt.title('% of employees having avg_training_score<60 \\n in each department')\n",
    "\n",
    "plt.subplot(1,2,2)\n",
    "below60['score<60_count'].plot(kind='pie',autopct='%1.1f%%')\n",
    "plt.ylabel('Count')\n",
    "plt.xlabel('department')\n",
    "plt.title('count of employees having avg_training_score<60 \\n in each department')\n",
    "plt.show()"
   ]
  },
  {
   "cell_type": "code",
   "execution_count": 27,
   "id": "4d44b64b",
   "metadata": {},
   "outputs": [
    {
     "data": {
      "text/plain": [
       "previous_year_rating    4124\n",
       "education               2409\n",
       "employee_id                0\n",
       "department                 0\n",
       "region                     0\n",
       "gender                     0\n",
       "recruitment_channel        0\n",
       "no_of_trainings            0\n",
       "age                        0\n",
       "length_of_service          0\n",
       "KPIs_met >80%              0\n",
       "awards_won?                0\n",
       "avg_training_score         0\n",
       "is_promoted                0\n",
       "dtype: int64"
      ]
     },
     "execution_count": 27,
     "metadata": {},
     "output_type": "execute_result"
    }
   ],
   "source": [
    "# Check Missing Values \n",
    "hrtrain.isnull().sum().sort_values(ascending=False)\n",
    "# previous_year_rating and education columns have missing values in train data"
   ]
  },
  {
   "cell_type": "code",
   "execution_count": 28,
   "id": "b642f6fc",
   "metadata": {},
   "outputs": [
    {
     "data": {
      "text/plain": [
       "previous_year_rating    1812\n",
       "education               1034\n",
       "employee_id                0\n",
       "department                 0\n",
       "region                     0\n",
       "gender                     0\n",
       "recruitment_channel        0\n",
       "no_of_trainings            0\n",
       "age                        0\n",
       "length_of_service          0\n",
       "KPIs_met >80%              0\n",
       "awards_won?                0\n",
       "avg_training_score         0\n",
       "dtype: int64"
      ]
     },
     "execution_count": 28,
     "metadata": {},
     "output_type": "execute_result"
    }
   ],
   "source": [
    "hrtest.isnull().sum().sort_values(ascending=False)\n",
    "# previous_year_rating and education columns have missing values in test data"
   ]
  },
  {
   "cell_type": "code",
   "execution_count": 29,
   "id": "fae86bbe",
   "metadata": {},
   "outputs": [],
   "source": [
    "# Adding is_promoted column to test data to differentiate test after combining train and test datasets\n",
    "hrtest['is_promoted']='test'"
   ]
  },
  {
   "cell_type": "code",
   "execution_count": 30,
   "id": "fe9f2e96",
   "metadata": {},
   "outputs": [],
   "source": [
    "# row wise concatenation of train and test data\n",
    "combinedf=pd.concat([hrtrain,hrtest],axis=0)"
   ]
  },
  {
   "cell_type": "code",
   "execution_count": 31,
   "id": "3cb095be",
   "metadata": {},
   "outputs": [
    {
     "data": {
      "text/plain": [
       "previous_year_rating    7.58\n",
       "education               4.40\n",
       "employee_id             0.00\n",
       "department              0.00\n",
       "region                  0.00\n",
       "gender                  0.00\n",
       "recruitment_channel     0.00\n",
       "no_of_trainings         0.00\n",
       "age                     0.00\n",
       "length_of_service       0.00\n",
       "KPIs_met >80%           0.00\n",
       "awards_won?             0.00\n",
       "avg_training_score      0.00\n",
       "is_promoted             0.00\n",
       "dtype: float64"
      ]
     },
     "execution_count": 31,
     "metadata": {},
     "output_type": "execute_result"
    }
   ],
   "source": [
    "# missing values representation in percentage\n",
    "round(combinedf.isnull().sum().sort_values(ascending=False)*100/combinedf.shape[0],2)"
   ]
  },
  {
   "cell_type": "code",
   "execution_count": 32,
   "id": "a5429df1",
   "metadata": {},
   "outputs": [
    {
     "name": "stdout",
     "output_type": "stream",
     "text": [
      "employee_id 78298 [65438 65141  7513 ... 45409  1186  5973] \n",
      "\n",
      "\n",
      "department 9 ['Sales & Marketing' 'Operations' 'Technology' 'Analytics' 'R&D'\n",
      " 'Procurement' 'Finance' 'HR' 'Legal'] \n",
      "\n",
      "\n",
      "region 34 ['region_7' 'region_22' 'region_19' 'region_23' 'region_26' 'region_2'\n",
      " 'region_20' 'region_34' 'region_1' 'region_4' 'region_29' 'region_31'\n",
      " 'region_15' 'region_14' 'region_11' 'region_5' 'region_28' 'region_17'\n",
      " 'region_13' 'region_16' 'region_25' 'region_10' 'region_27' 'region_30'\n",
      " 'region_12' 'region_21' 'region_8' 'region_32' 'region_6' 'region_33'\n",
      " 'region_24' 'region_3' 'region_9' 'region_18'] \n",
      "\n",
      "\n",
      "education 4 [\"Master's & above\" \"Bachelor's\" nan 'Below Secondary'] \n",
      "\n",
      "\n",
      "gender 2 ['f' 'm'] \n",
      "\n",
      "\n",
      "recruitment_channel 3 ['sourcing' 'other' 'referred'] \n",
      "\n",
      "\n",
      "no_of_trainings 10 [ 1  2  3  4  7  5  6  8 10  9] \n",
      "\n",
      "\n",
      "age 41 [35 30 34 39 45 31 33 28 32 49 37 38 41 27 29 26 24 57 40 42 23 59 44 50\n",
      " 56 20 25 47 36 46 60 43 22 54 58 48 53 55 51 52 21] \n",
      "\n",
      "\n",
      "previous_year_rating 6 [ 5.  3.  1.  4. nan  2.] \n",
      "\n",
      "\n",
      "length_of_service 35 [ 8  4  7 10  2  5  6  1  3 16  9 11 26 12 17 14 13 19 15 23 18 20 22 25\n",
      " 28 24 31 21 29 30 34 27 33 32 37] \n",
      "\n",
      "\n",
      "KPIs_met >80% 2 [1 0] \n",
      "\n",
      "\n",
      "awards_won? 2 [0 1] \n",
      "\n",
      "\n",
      "avg_training_score 61 [49 60 50 73 85 59 63 83 54 77 80 84 51 46 75 57 70 68 79 44 72 61 48 58\n",
      " 87 47 52 88 71 65 62 53 78 91 82 69 55 74 86 90 92 67 89 56 76 81 45 64\n",
      " 39 94 93 66 95 42 96 40 99 43 97 41 98] \n",
      "\n",
      "\n",
      "is_promoted 3 [0 1 'test'] \n",
      "\n",
      "\n"
     ]
    }
   ],
   "source": [
    "# display all columns, no of unique values and display all unique values for each column\n",
    "for col in combinedf.columns:\n",
    "    print(col,len(combinedf[col].unique()),combinedf[col].unique(),'\\n\\n')"
   ]
  },
  {
   "cell_type": "code",
   "execution_count": 33,
   "id": "6353a13d",
   "metadata": {},
   "outputs": [
    {
     "data": {
      "text/plain": [
       "(78298, 14)"
      ]
     },
     "execution_count": 33,
     "metadata": {},
     "output_type": "execute_result"
    }
   ],
   "source": [
    "combinedf.shape"
   ]
  },
  {
   "cell_type": "code",
   "execution_count": 34,
   "id": "2a317425",
   "metadata": {},
   "outputs": [],
   "source": [
    "# Treating missing values\n",
    "\n",
    "from sklearn.impute import SimpleImputer"
   ]
  },
  {
   "cell_type": "code",
   "execution_count": 35,
   "id": "b2a3771e",
   "metadata": {},
   "outputs": [],
   "source": [
    "# Since both the missing values columns are categorical in nature, replacing the null values with most frequent value\n",
    "imp=SimpleImputer(strategy='most_frequent')"
   ]
  },
  {
   "cell_type": "code",
   "execution_count": 36,
   "id": "552f6ac9",
   "metadata": {},
   "outputs": [],
   "source": [
    "miss_cols=['education','previous_year_rating']"
   ]
  },
  {
   "cell_type": "code",
   "execution_count": 37,
   "id": "78976ca1",
   "metadata": {},
   "outputs": [],
   "source": [
    "combinedf[miss_cols]=imp.fit_transform(combinedf[miss_cols])"
   ]
  },
  {
   "cell_type": "code",
   "execution_count": 38,
   "id": "fcb69fd0",
   "metadata": {},
   "outputs": [
    {
     "data": {
      "text/plain": [
       "employee_id             0\n",
       "department              0\n",
       "region                  0\n",
       "education               0\n",
       "gender                  0\n",
       "recruitment_channel     0\n",
       "no_of_trainings         0\n",
       "age                     0\n",
       "previous_year_rating    0\n",
       "length_of_service       0\n",
       "KPIs_met >80%           0\n",
       "awards_won?             0\n",
       "avg_training_score      0\n",
       "is_promoted             0\n",
       "dtype: int64"
      ]
     },
     "execution_count": 38,
     "metadata": {},
     "output_type": "execute_result"
    }
   ],
   "source": [
    "combinedf.isnull().sum()\n",
    "# Missing values have been treated"
   ]
  },
  {
   "cell_type": "code",
   "execution_count": 39,
   "id": "66ecffa0",
   "metadata": {},
   "outputs": [],
   "source": [
    "# Encoding categorical columns"
   ]
  },
  {
   "cell_type": "code",
   "execution_count": 40,
   "id": "06b8b46c",
   "metadata": {},
   "outputs": [],
   "source": [
    "combinedf.gender=combinedf.gender.map({'f':0,'m':1})"
   ]
  },
  {
   "cell_type": "code",
   "execution_count": 41,
   "id": "12172d64",
   "metadata": {},
   "outputs": [],
   "source": [
    "multi_cat_cols=['department','region','education','recruitment_channel']"
   ]
  },
  {
   "cell_type": "code",
   "execution_count": 42,
   "id": "7ac4bb27",
   "metadata": {},
   "outputs": [],
   "source": [
    "other_cols=list(set(hrtrain.columns)-set(multi_cat_cols))"
   ]
  },
  {
   "cell_type": "code",
   "execution_count": 43,
   "id": "9d086d57",
   "metadata": {},
   "outputs": [
    {
     "name": "stdout",
     "output_type": "stream",
     "text": [
      "4\n",
      "10\n"
     ]
    }
   ],
   "source": [
    "print(len(multi_cat_cols))\n",
    "print(len(other_cols))"
   ]
  },
  {
   "cell_type": "code",
   "execution_count": 44,
   "id": "4fcd531a",
   "metadata": {},
   "outputs": [],
   "source": [
    "multi_dummy=pd.get_dummies(combinedf[multi_cat_cols])"
   ]
  },
  {
   "cell_type": "code",
   "execution_count": 45,
   "id": "696df096",
   "metadata": {},
   "outputs": [
    {
     "data": {
      "text/html": [
       "<div>\n",
       "<style scoped>\n",
       "    .dataframe tbody tr th:only-of-type {\n",
       "        vertical-align: middle;\n",
       "    }\n",
       "\n",
       "    .dataframe tbody tr th {\n",
       "        vertical-align: top;\n",
       "    }\n",
       "\n",
       "    .dataframe thead th {\n",
       "        text-align: right;\n",
       "    }\n",
       "</style>\n",
       "<table border=\"1\" class=\"dataframe\">\n",
       "  <thead>\n",
       "    <tr style=\"text-align: right;\">\n",
       "      <th></th>\n",
       "      <th>department_Analytics</th>\n",
       "      <th>department_Finance</th>\n",
       "      <th>department_HR</th>\n",
       "      <th>department_Legal</th>\n",
       "      <th>department_Operations</th>\n",
       "      <th>department_Procurement</th>\n",
       "      <th>department_R&amp;D</th>\n",
       "      <th>department_Sales &amp; Marketing</th>\n",
       "      <th>department_Technology</th>\n",
       "      <th>region_region_1</th>\n",
       "      <th>...</th>\n",
       "      <th>region_region_6</th>\n",
       "      <th>region_region_7</th>\n",
       "      <th>region_region_8</th>\n",
       "      <th>region_region_9</th>\n",
       "      <th>education_Bachelor's</th>\n",
       "      <th>education_Below Secondary</th>\n",
       "      <th>education_Master's &amp; above</th>\n",
       "      <th>recruitment_channel_other</th>\n",
       "      <th>recruitment_channel_referred</th>\n",
       "      <th>recruitment_channel_sourcing</th>\n",
       "    </tr>\n",
       "  </thead>\n",
       "  <tbody>\n",
       "    <tr>\n",
       "      <th>0</th>\n",
       "      <td>0</td>\n",
       "      <td>0</td>\n",
       "      <td>0</td>\n",
       "      <td>0</td>\n",
       "      <td>0</td>\n",
       "      <td>0</td>\n",
       "      <td>0</td>\n",
       "      <td>1</td>\n",
       "      <td>0</td>\n",
       "      <td>0</td>\n",
       "      <td>...</td>\n",
       "      <td>0</td>\n",
       "      <td>1</td>\n",
       "      <td>0</td>\n",
       "      <td>0</td>\n",
       "      <td>0</td>\n",
       "      <td>0</td>\n",
       "      <td>1</td>\n",
       "      <td>0</td>\n",
       "      <td>0</td>\n",
       "      <td>1</td>\n",
       "    </tr>\n",
       "    <tr>\n",
       "      <th>1</th>\n",
       "      <td>0</td>\n",
       "      <td>0</td>\n",
       "      <td>0</td>\n",
       "      <td>0</td>\n",
       "      <td>1</td>\n",
       "      <td>0</td>\n",
       "      <td>0</td>\n",
       "      <td>0</td>\n",
       "      <td>0</td>\n",
       "      <td>0</td>\n",
       "      <td>...</td>\n",
       "      <td>0</td>\n",
       "      <td>0</td>\n",
       "      <td>0</td>\n",
       "      <td>0</td>\n",
       "      <td>1</td>\n",
       "      <td>0</td>\n",
       "      <td>0</td>\n",
       "      <td>1</td>\n",
       "      <td>0</td>\n",
       "      <td>0</td>\n",
       "    </tr>\n",
       "    <tr>\n",
       "      <th>2</th>\n",
       "      <td>0</td>\n",
       "      <td>0</td>\n",
       "      <td>0</td>\n",
       "      <td>0</td>\n",
       "      <td>0</td>\n",
       "      <td>0</td>\n",
       "      <td>0</td>\n",
       "      <td>1</td>\n",
       "      <td>0</td>\n",
       "      <td>0</td>\n",
       "      <td>...</td>\n",
       "      <td>0</td>\n",
       "      <td>0</td>\n",
       "      <td>0</td>\n",
       "      <td>0</td>\n",
       "      <td>1</td>\n",
       "      <td>0</td>\n",
       "      <td>0</td>\n",
       "      <td>0</td>\n",
       "      <td>0</td>\n",
       "      <td>1</td>\n",
       "    </tr>\n",
       "    <tr>\n",
       "      <th>3</th>\n",
       "      <td>0</td>\n",
       "      <td>0</td>\n",
       "      <td>0</td>\n",
       "      <td>0</td>\n",
       "      <td>0</td>\n",
       "      <td>0</td>\n",
       "      <td>0</td>\n",
       "      <td>1</td>\n",
       "      <td>0</td>\n",
       "      <td>0</td>\n",
       "      <td>...</td>\n",
       "      <td>0</td>\n",
       "      <td>0</td>\n",
       "      <td>0</td>\n",
       "      <td>0</td>\n",
       "      <td>1</td>\n",
       "      <td>0</td>\n",
       "      <td>0</td>\n",
       "      <td>1</td>\n",
       "      <td>0</td>\n",
       "      <td>0</td>\n",
       "    </tr>\n",
       "    <tr>\n",
       "      <th>4</th>\n",
       "      <td>0</td>\n",
       "      <td>0</td>\n",
       "      <td>0</td>\n",
       "      <td>0</td>\n",
       "      <td>0</td>\n",
       "      <td>0</td>\n",
       "      <td>0</td>\n",
       "      <td>0</td>\n",
       "      <td>1</td>\n",
       "      <td>0</td>\n",
       "      <td>...</td>\n",
       "      <td>0</td>\n",
       "      <td>0</td>\n",
       "      <td>0</td>\n",
       "      <td>0</td>\n",
       "      <td>1</td>\n",
       "      <td>0</td>\n",
       "      <td>0</td>\n",
       "      <td>1</td>\n",
       "      <td>0</td>\n",
       "      <td>0</td>\n",
       "    </tr>\n",
       "  </tbody>\n",
       "</table>\n",
       "<p>5 rows × 49 columns</p>\n",
       "</div>"
      ],
      "text/plain": [
       "   department_Analytics  department_Finance  department_HR  department_Legal  \\\n",
       "0                     0                   0              0                 0   \n",
       "1                     0                   0              0                 0   \n",
       "2                     0                   0              0                 0   \n",
       "3                     0                   0              0                 0   \n",
       "4                     0                   0              0                 0   \n",
       "\n",
       "   department_Operations  department_Procurement  department_R&D  \\\n",
       "0                      0                       0               0   \n",
       "1                      1                       0               0   \n",
       "2                      0                       0               0   \n",
       "3                      0                       0               0   \n",
       "4                      0                       0               0   \n",
       "\n",
       "   department_Sales & Marketing  department_Technology  region_region_1  ...  \\\n",
       "0                             1                      0                0  ...   \n",
       "1                             0                      0                0  ...   \n",
       "2                             1                      0                0  ...   \n",
       "3                             1                      0                0  ...   \n",
       "4                             0                      1                0  ...   \n",
       "\n",
       "   region_region_6  region_region_7  region_region_8  region_region_9  \\\n",
       "0                0                1                0                0   \n",
       "1                0                0                0                0   \n",
       "2                0                0                0                0   \n",
       "3                0                0                0                0   \n",
       "4                0                0                0                0   \n",
       "\n",
       "   education_Bachelor's  education_Below Secondary  \\\n",
       "0                     0                          0   \n",
       "1                     1                          0   \n",
       "2                     1                          0   \n",
       "3                     1                          0   \n",
       "4                     1                          0   \n",
       "\n",
       "   education_Master's & above  recruitment_channel_other  \\\n",
       "0                           1                          0   \n",
       "1                           0                          1   \n",
       "2                           0                          0   \n",
       "3                           0                          1   \n",
       "4                           0                          1   \n",
       "\n",
       "   recruitment_channel_referred  recruitment_channel_sourcing  \n",
       "0                             0                             1  \n",
       "1                             0                             0  \n",
       "2                             0                             1  \n",
       "3                             0                             0  \n",
       "4                             0                             0  \n",
       "\n",
       "[5 rows x 49 columns]"
      ]
     },
     "execution_count": 45,
     "metadata": {},
     "output_type": "execute_result"
    }
   ],
   "source": [
    "multi_dummy.head()"
   ]
  },
  {
   "cell_type": "code",
   "execution_count": 46,
   "id": "9bc8ad03",
   "metadata": {},
   "outputs": [],
   "source": [
    "# reseting the index to concatenate\n",
    "combinedf=combinedf.reset_index()"
   ]
  },
  {
   "cell_type": "code",
   "execution_count": 47,
   "id": "6d03097b",
   "metadata": {},
   "outputs": [],
   "source": [
    "multi_dummy=multi_dummy.reset_index()"
   ]
  },
  {
   "cell_type": "code",
   "execution_count": 48,
   "id": "c14950e6",
   "metadata": {},
   "outputs": [],
   "source": [
    "cleandf=pd.concat([multi_dummy,combinedf[other_cols]],axis=1)"
   ]
  },
  {
   "cell_type": "code",
   "execution_count": 49,
   "id": "786f6c4d",
   "metadata": {},
   "outputs": [
    {
     "data": {
      "text/plain": [
       "Index(['index', 'department_Analytics', 'department_Finance', 'department_HR',\n",
       "       'department_Legal', 'department_Operations', 'department_Procurement',\n",
       "       'department_R&D', 'department_Sales & Marketing',\n",
       "       'department_Technology', 'region_region_1', 'region_region_10',\n",
       "       'region_region_11', 'region_region_12', 'region_region_13',\n",
       "       'region_region_14', 'region_region_15', 'region_region_16',\n",
       "       'region_region_17', 'region_region_18', 'region_region_19',\n",
       "       'region_region_2', 'region_region_20', 'region_region_21',\n",
       "       'region_region_22', 'region_region_23', 'region_region_24',\n",
       "       'region_region_25', 'region_region_26', 'region_region_27',\n",
       "       'region_region_28', 'region_region_29', 'region_region_3',\n",
       "       'region_region_30', 'region_region_31', 'region_region_32',\n",
       "       'region_region_33', 'region_region_34', 'region_region_4',\n",
       "       'region_region_5', 'region_region_6', 'region_region_7',\n",
       "       'region_region_8', 'region_region_9', 'education_Bachelor's',\n",
       "       'education_Below Secondary', 'education_Master's & above',\n",
       "       'recruitment_channel_other', 'recruitment_channel_referred',\n",
       "       'recruitment_channel_sourcing', 'awards_won?', 'employee_id',\n",
       "       'KPIs_met >80%', 'is_promoted', 'length_of_service', 'gender',\n",
       "       'previous_year_rating', 'age', 'no_of_trainings', 'avg_training_score'],\n",
       "      dtype='object')"
      ]
     },
     "execution_count": 49,
     "metadata": {},
     "output_type": "execute_result"
    }
   ],
   "source": [
    "cleandf.columns"
   ]
  },
  {
   "cell_type": "code",
   "execution_count": 50,
   "id": "6ecf99bd",
   "metadata": {},
   "outputs": [],
   "source": [
    "# Dropping index column as the index has been reset\n",
    "# Dropping employee_id as all the values are unique\n",
    "# Drooping department_Sales & Marketing, region_region_34, education_Master's & above and recruitment_channel_sourcing\n",
    "# to avoid dummy variable trap\n",
    "cleandf.drop(['index', 'employee_id', 'department_Sales & Marketing', 'region_region_34', \"education_Master's & above\",\n",
    "              'recruitment_channel_sourcing'],axis=1,inplace=True)"
   ]
  },
  {
   "cell_type": "code",
   "execution_count": 51,
   "id": "31f8efbe",
   "metadata": {},
   "outputs": [
    {
     "data": {
      "text/plain": [
       "(78298, 54)"
      ]
     },
     "execution_count": 51,
     "metadata": {},
     "output_type": "execute_result"
    }
   ],
   "source": [
    "cleandf.shape"
   ]
  },
  {
   "cell_type": "code",
   "execution_count": 52,
   "id": "94156625",
   "metadata": {},
   "outputs": [],
   "source": [
    "# Splitting the cleaned dataset back to train and test data\n",
    "hrtraindf=cleandf[cleandf.is_promoted!='test']\n",
    "hrtestdf=cleandf[cleandf.is_promoted=='test']"
   ]
  },
  {
   "cell_type": "code",
   "execution_count": 53,
   "id": "c2889651",
   "metadata": {},
   "outputs": [
    {
     "name": "stdout",
     "output_type": "stream",
     "text": [
      "(54808, 54)\n",
      "(23490, 54)\n"
     ]
    }
   ],
   "source": [
    "print(hrtraindf.shape)\n",
    "print(hrtestdf.shape)"
   ]
  },
  {
   "cell_type": "code",
   "execution_count": 54,
   "id": "42b77478",
   "metadata": {},
   "outputs": [
    {
     "data": {
      "text/plain": [
       "Index(['department_Analytics', 'department_Finance', 'department_HR',\n",
       "       'department_Legal', 'department_Operations', 'department_Procurement',\n",
       "       'department_R&D', 'department_Technology', 'region_region_1',\n",
       "       'region_region_10', 'region_region_11', 'region_region_12',\n",
       "       'region_region_13', 'region_region_14', 'region_region_15',\n",
       "       'region_region_16', 'region_region_17', 'region_region_18',\n",
       "       'region_region_19', 'region_region_2', 'region_region_20',\n",
       "       'region_region_21', 'region_region_22', 'region_region_23',\n",
       "       'region_region_24', 'region_region_25', 'region_region_26',\n",
       "       'region_region_27', 'region_region_28', 'region_region_29',\n",
       "       'region_region_3', 'region_region_30', 'region_region_31',\n",
       "       'region_region_32', 'region_region_33', 'region_region_4',\n",
       "       'region_region_5', 'region_region_6', 'region_region_7',\n",
       "       'region_region_8', 'region_region_9', 'education_Bachelor's',\n",
       "       'education_Below Secondary', 'recruitment_channel_other',\n",
       "       'recruitment_channel_referred', 'awards_won?', 'KPIs_met >80%',\n",
       "       'is_promoted', 'length_of_service', 'gender', 'previous_year_rating',\n",
       "       'age', 'no_of_trainings', 'avg_training_score'],\n",
       "      dtype='object')"
      ]
     },
     "execution_count": 54,
     "metadata": {},
     "output_type": "execute_result"
    }
   ],
   "source": [
    "hrtraindf.columns"
   ]
  },
  {
   "cell_type": "code",
   "execution_count": 55,
   "id": "6c0d9f5d",
   "metadata": {},
   "outputs": [],
   "source": [
    "# dropping the dependent variable from test data\n",
    "hrtestdf.drop('is_promoted',axis=1,inplace=True)"
   ]
  },
  {
   "cell_type": "code",
   "execution_count": 56,
   "id": "a40780d8",
   "metadata": {},
   "outputs": [],
   "source": [
    "# 1. Test null average of avg_training_score of is_promoted is equal?"
   ]
  },
  {
   "cell_type": "code",
   "execution_count": 57,
   "id": "0b1ee54d",
   "metadata": {},
   "outputs": [
    {
     "data": {
      "text/plain": [
       "is_promoted\n",
       "0    62.647686\n",
       "1    71.325193\n",
       "Name: avg_training_score, dtype: float64"
      ]
     },
     "execution_count": 57,
     "metadata": {},
     "output_type": "execute_result"
    }
   ],
   "source": [
    "hrtraindf.avg_training_score.groupby(hrtraindf.is_promoted).mean()"
   ]
  },
  {
   "cell_type": "code",
   "execution_count": 58,
   "id": "d258e13b",
   "metadata": {},
   "outputs": [
    {
     "data": {
      "text/plain": [
       "is_promoted\n",
       "0    168.791268\n",
       "1    217.448116\n",
       "Name: avg_training_score, dtype: float64"
      ]
     },
     "execution_count": 58,
     "metadata": {},
     "output_type": "execute_result"
    }
   ],
   "source": [
    "hrtraindf.avg_training_score.groupby(hrtraindf.is_promoted).var()"
   ]
  },
  {
   "cell_type": "code",
   "execution_count": 59,
   "id": "5379b2a4",
   "metadata": {},
   "outputs": [],
   "source": [
    "# Null - There is no significant difference in average of avg_training_score of is_promoted (0 & 1)\n",
    "# Alt - There is a significant difference in average of avg_training_score of is_promoted (0 & 1)"
   ]
  },
  {
   "cell_type": "code",
   "execution_count": 60,
   "id": "38a38dc5",
   "metadata": {},
   "outputs": [],
   "source": [
    "# splitting promoted and non-promoted records\n",
    "promotedyes=hrtraindf[hrtraindf.is_promoted==1]\n",
    "promotedno=hrtraindf[hrtraindf.is_promoted==0]"
   ]
  },
  {
   "cell_type": "code",
   "execution_count": 61,
   "id": "853ea8a7",
   "metadata": {},
   "outputs": [],
   "source": [
    "from scipy.stats import ttest_ind"
   ]
  },
  {
   "cell_type": "code",
   "execution_count": 62,
   "id": "55ed1549",
   "metadata": {},
   "outputs": [
    {
     "data": {
      "text/plain": [
       "Ttest_indResult(statistic=38.82675007357188, pvalue=7.662329172468838e-291)"
      ]
     },
     "execution_count": 62,
     "metadata": {},
     "output_type": "execute_result"
    }
   ],
   "source": [
    "ttest_ind(promotedyes.avg_training_score,promotedno.avg_training_score,equal_var=False)\n",
    "\n",
    "# since pvalue=7.662329172468838e-291<0.05, reject Null hypothesis"
   ]
  },
  {
   "cell_type": "code",
   "execution_count": 63,
   "id": "1f61be1e",
   "metadata": {},
   "outputs": [],
   "source": [
    "# 2. Test null average of length_of_service of is_promoted is equal?"
   ]
  },
  {
   "cell_type": "code",
   "execution_count": 64,
   "id": "7cc9f01b",
   "metadata": {},
   "outputs": [
    {
     "data": {
      "text/plain": [
       "is_promoted\n",
       "0    5.879398\n",
       "1    5.716367\n",
       "Name: length_of_service, dtype: float64"
      ]
     },
     "execution_count": 64,
     "metadata": {},
     "output_type": "execute_result"
    }
   ],
   "source": [
    "hrtraindf.length_of_service.groupby(hrtraindf.is_promoted).mean()"
   ]
  },
  {
   "cell_type": "code",
   "execution_count": 65,
   "id": "89054327",
   "metadata": {},
   "outputs": [
    {
     "data": {
      "text/plain": [
       "is_promoted\n",
       "0    18.387278\n",
       "1    16.062239\n",
       "Name: length_of_service, dtype: float64"
      ]
     },
     "execution_count": 65,
     "metadata": {},
     "output_type": "execute_result"
    }
   ],
   "source": [
    "hrtraindf.length_of_service.groupby(hrtraindf.is_promoted).var()"
   ]
  },
  {
   "cell_type": "code",
   "execution_count": 66,
   "id": "5cc211cc",
   "metadata": {},
   "outputs": [],
   "source": [
    "# Null - There is no significant difference in average of avg_training_score of is_promoted 0 & 1\n",
    "# Alt - There is q significant difference in average of avg_training_score of is_promoted 0 & 1"
   ]
  },
  {
   "cell_type": "code",
   "execution_count": 67,
   "id": "042a58f1",
   "metadata": {},
   "outputs": [
    {
     "data": {
      "text/plain": [
       "Ttest_indResult(statistic=-2.6420549711884886, pvalue=0.008262946987836755)"
      ]
     },
     "execution_count": 67,
     "metadata": {},
     "output_type": "execute_result"
    }
   ],
   "source": [
    "ttest_ind(promotedyes.length_of_service,promotedno.length_of_service,equal_var=False)\n",
    "\n",
    "# since pvalue=0.008262946987836755<0.05, reject Null hypothesis"
   ]
  },
  {
   "cell_type": "code",
   "execution_count": 68,
   "id": "7c7cf370",
   "metadata": {},
   "outputs": [],
   "source": [
    "# 3. Test null average of avg_training_score of previous_year_rating is equal?"
   ]
  },
  {
   "cell_type": "code",
   "execution_count": 69,
   "id": "97f0672c",
   "metadata": {},
   "outputs": [
    {
     "data": {
      "text/plain": [
       "previous_year_rating\n",
       "1.0    60.064760\n",
       "2.0    61.924024\n",
       "3.0    64.045423\n",
       "4.0    64.119773\n",
       "5.0    63.781364\n",
       "Name: avg_training_score, dtype: float64"
      ]
     },
     "execution_count": 69,
     "metadata": {},
     "output_type": "execute_result"
    }
   ],
   "source": [
    "hrtraindf.avg_training_score.groupby(hrtraindf.previous_year_rating).mean()"
   ]
  },
  {
   "cell_type": "code",
   "execution_count": 70,
   "id": "40dda235",
   "metadata": {},
   "outputs": [],
   "source": [
    "# Null - There is no significant difference in average of avg_training_score of previous_year_rating\n",
    "# Alt - There is a significant difference in average of avg_training_score of previous_year_rating"
   ]
  },
  {
   "cell_type": "code",
   "execution_count": 71,
   "id": "fa0aefb2",
   "metadata": {},
   "outputs": [],
   "source": [
    "rating1=hrtrain[hrtrain.previous_year_rating==1]\n",
    "rating2=hrtrain[hrtrain.previous_year_rating==2]\n",
    "rating3=hrtrain[hrtrain.previous_year_rating==3]\n",
    "rating4=hrtrain[hrtrain.previous_year_rating==4]\n",
    "rating5=hrtrain[hrtrain.previous_year_rating==5]"
   ]
  },
  {
   "cell_type": "code",
   "execution_count": 72,
   "id": "c71061ea",
   "metadata": {},
   "outputs": [],
   "source": [
    "from scipy.stats import f_oneway"
   ]
  },
  {
   "cell_type": "code",
   "execution_count": 73,
   "id": "af422d0c",
   "metadata": {},
   "outputs": [
    {
     "data": {
      "text/plain": [
       "F_onewayResult(statistic=137.9606813012624, pvalue=1.7958355662933346e-117)"
      ]
     },
     "execution_count": 73,
     "metadata": {},
     "output_type": "execute_result"
    }
   ],
   "source": [
    "f_oneway(rating1.avg_training_score,rating2.avg_training_score,rating3.avg_training_score,\n",
    "         rating4.avg_training_score,rating5.avg_training_score)\n",
    "\n",
    "# since pvalue=1.7958355662933346e-117<0.05, reject Null hypothesis"
   ]
  },
  {
   "cell_type": "code",
   "execution_count": 74,
   "id": "a884bba0",
   "metadata": {},
   "outputs": [],
   "source": [
    "# 4. Test null average of length_of_service of previous_year_rating is equal?"
   ]
  },
  {
   "cell_type": "code",
   "execution_count": 75,
   "id": "88c92884",
   "metadata": {},
   "outputs": [
    {
     "data": {
      "text/plain": [
       "previous_year_rating\n",
       "1.0    6.223686\n",
       "2.0    6.241893\n",
       "3.0    5.346539\n",
       "4.0    6.193986\n",
       "5.0    6.269142\n",
       "Name: length_of_service, dtype: float64"
      ]
     },
     "execution_count": 75,
     "metadata": {},
     "output_type": "execute_result"
    }
   ],
   "source": [
    "hrtraindf.length_of_service.groupby(hrtraindf.previous_year_rating).mean()"
   ]
  },
  {
   "cell_type": "code",
   "execution_count": 76,
   "id": "ce9a5d90",
   "metadata": {},
   "outputs": [],
   "source": [
    "# Null - There is no significant difference in average of length_of_service of previous_year_rating\n",
    "# Alt - There is a significant difference in average of length_of_service of previous_year_rating"
   ]
  },
  {
   "cell_type": "code",
   "execution_count": 77,
   "id": "a91c4afe",
   "metadata": {},
   "outputs": [
    {
     "data": {
      "text/plain": [
       "F_onewayResult(statistic=1.4045457184008736, pvalue=0.22955174669633055)"
      ]
     },
     "execution_count": 77,
     "metadata": {},
     "output_type": "execute_result"
    }
   ],
   "source": [
    "f_oneway(rating1.length_of_service,rating2.length_of_service,rating3.length_of_service,\n",
    "         rating4.length_of_service,rating5.length_of_service)\n",
    "\n",
    "# since pvalue=pvalue=0.22955174669633055>0.05, we fail to reject Null hypothesis"
   ]
  },
  {
   "cell_type": "code",
   "execution_count": 78,
   "id": "c9c4350a",
   "metadata": {},
   "outputs": [],
   "source": [
    "# 5. Test null no association between gender and is_promoted"
   ]
  },
  {
   "cell_type": "code",
   "execution_count": 79,
   "id": "abbec1c0",
   "metadata": {},
   "outputs": [
    {
     "data": {
      "text/html": [
       "<div>\n",
       "<style scoped>\n",
       "    .dataframe tbody tr th:only-of-type {\n",
       "        vertical-align: middle;\n",
       "    }\n",
       "\n",
       "    .dataframe tbody tr th {\n",
       "        vertical-align: top;\n",
       "    }\n",
       "\n",
       "    .dataframe thead th {\n",
       "        text-align: right;\n",
       "    }\n",
       "</style>\n",
       "<table border=\"1\" class=\"dataframe\">\n",
       "  <thead>\n",
       "    <tr style=\"text-align: right;\">\n",
       "      <th>is_promoted</th>\n",
       "      <th>0</th>\n",
       "      <th>1</th>\n",
       "    </tr>\n",
       "    <tr>\n",
       "      <th>gender</th>\n",
       "      <th></th>\n",
       "      <th></th>\n",
       "    </tr>\n",
       "  </thead>\n",
       "  <tbody>\n",
       "    <tr>\n",
       "      <th>0</th>\n",
       "      <td>14845</td>\n",
       "      <td>1467</td>\n",
       "    </tr>\n",
       "    <tr>\n",
       "      <th>1</th>\n",
       "      <td>35295</td>\n",
       "      <td>3201</td>\n",
       "    </tr>\n",
       "  </tbody>\n",
       "</table>\n",
       "</div>"
      ],
      "text/plain": [
       "is_promoted      0     1\n",
       "gender                  \n",
       "0            14845  1467\n",
       "1            35295  3201"
      ]
     },
     "execution_count": 79,
     "metadata": {},
     "output_type": "execute_result"
    }
   ],
   "source": [
    "pd.crosstab(hrtraindf.gender,hrtraindf.is_promoted)"
   ]
  },
  {
   "cell_type": "code",
   "execution_count": 80,
   "id": "4892ee5c",
   "metadata": {},
   "outputs": [],
   "source": [
    "# Null - There is no association between gender and is_promoted\n",
    "# Alt - There is an association between gender and is_promoted"
   ]
  },
  {
   "cell_type": "code",
   "execution_count": 81,
   "id": "b9d11f52",
   "metadata": {},
   "outputs": [],
   "source": [
    "from scipy.stats import chi2_contingency"
   ]
  },
  {
   "cell_type": "code",
   "execution_count": 82,
   "id": "100c38c3",
   "metadata": {},
   "outputs": [
    {
     "data": {
      "text/plain": [
       "(6.677254566546107,\n",
       " 0.009765091521176657,\n",
       " 1,\n",
       " array([[14922.70617428,  1389.29382572],\n",
       "        [35217.29382572,  3278.70617428]]))"
      ]
     },
     "execution_count": 82,
     "metadata": {},
     "output_type": "execute_result"
    }
   ],
   "source": [
    "chi2_contingency(pd.crosstab(hrtraindf.gender,hrtraindf.is_promoted))\n",
    "# Since P-value=0.009765091521176657<0.05, we reject null hypothesis"
   ]
  },
  {
   "cell_type": "code",
   "execution_count": 83,
   "id": "3f765eb5",
   "metadata": {},
   "outputs": [],
   "source": [
    "# 6. Test null no association between recruitment_channel and is_promoted"
   ]
  },
  {
   "cell_type": "code",
   "execution_count": 84,
   "id": "9a700a09",
   "metadata": {},
   "outputs": [
    {
     "data": {
      "text/html": [
       "<div>\n",
       "<style scoped>\n",
       "    .dataframe tbody tr th:only-of-type {\n",
       "        vertical-align: middle;\n",
       "    }\n",
       "\n",
       "    .dataframe tbody tr th {\n",
       "        vertical-align: top;\n",
       "    }\n",
       "\n",
       "    .dataframe thead th {\n",
       "        text-align: right;\n",
       "    }\n",
       "</style>\n",
       "<table border=\"1\" class=\"dataframe\">\n",
       "  <thead>\n",
       "    <tr style=\"text-align: right;\">\n",
       "      <th>is_promoted</th>\n",
       "      <th>0</th>\n",
       "      <th>1</th>\n",
       "    </tr>\n",
       "    <tr>\n",
       "      <th>recruitment_channel</th>\n",
       "      <th></th>\n",
       "      <th></th>\n",
       "    </tr>\n",
       "  </thead>\n",
       "  <tbody>\n",
       "    <tr>\n",
       "      <th>other</th>\n",
       "      <td>27890</td>\n",
       "      <td>2556</td>\n",
       "    </tr>\n",
       "    <tr>\n",
       "      <th>referred</th>\n",
       "      <td>1004</td>\n",
       "      <td>138</td>\n",
       "    </tr>\n",
       "    <tr>\n",
       "      <th>sourcing</th>\n",
       "      <td>21246</td>\n",
       "      <td>1974</td>\n",
       "    </tr>\n",
       "  </tbody>\n",
       "</table>\n",
       "</div>"
      ],
      "text/plain": [
       "is_promoted              0     1\n",
       "recruitment_channel             \n",
       "other                27890  2556\n",
       "referred              1004   138\n",
       "sourcing             21246  1974"
      ]
     },
     "execution_count": 84,
     "metadata": {},
     "output_type": "execute_result"
    }
   ],
   "source": [
    "pd.crosstab(hrtrain.recruitment_channel,hrtrain.is_promoted)"
   ]
  },
  {
   "cell_type": "code",
   "execution_count": 85,
   "id": "78d980dc",
   "metadata": {},
   "outputs": [
    {
     "data": {
      "text/plain": [
       "(19.23633518768639,\n",
       " 6.650937825577018e-05,\n",
       " 2,\n",
       " array([[27852.91271347,  2593.08728653],\n",
       "        [ 1044.73580499,    97.26419501],\n",
       "        [21242.35148154,  1977.64851846]]))"
      ]
     },
     "execution_count": 85,
     "metadata": {},
     "output_type": "execute_result"
    }
   ],
   "source": [
    "chi2_contingency(pd.crosstab(hrtrain.recruitment_channel,hrtrain.is_promoted))\n",
    "# Since P-value=6.650937825577018e-05<0.05, we reject null hypothesis"
   ]
  },
  {
   "cell_type": "code",
   "execution_count": 86,
   "id": "03dd5821",
   "metadata": {},
   "outputs": [
    {
     "data": {
      "text/plain": [
       "0    50140\n",
       "1     4668\n",
       "Name: is_promoted, dtype: int64"
      ]
     },
     "execution_count": 86,
     "metadata": {},
     "output_type": "execute_result"
    }
   ],
   "source": [
    "hrtraindf.is_promoted.value_counts()\n",
    "# train data is heavily imbalanced, class '1' has very few records"
   ]
  },
  {
   "cell_type": "code",
   "execution_count": 87,
   "id": "d511e735",
   "metadata": {},
   "outputs": [],
   "source": [
    "X=hrtraindf.drop('is_promoted',axis=1)\n",
    "y=hrtraindf.is_promoted"
   ]
  },
  {
   "cell_type": "code",
   "execution_count": 88,
   "id": "0e6a17c1",
   "metadata": {},
   "outputs": [
    {
     "data": {
      "image/png": "[encoded data removed]",
      "text/plain": [
       "<Figure size 1440x1080 with 2 Axes>"
      ]
     },
     "metadata": {
      "needs_background": "light"
     },
     "output_type": "display_data"
    }
   ],
   "source": [
    "plt.figure(figsize=(20,15))\n",
    "sns.heatmap(X.corr())\n",
    "plt.show()"
   ]
  },
  {
   "cell_type": "code",
   "execution_count": 89,
   "id": "41022658",
   "metadata": {},
   "outputs": [],
   "source": [
    "from sklearn.preprocessing import LabelEncoder"
   ]
  },
  {
   "cell_type": "code",
   "execution_count": 90,
   "id": "f81325c1",
   "metadata": {},
   "outputs": [],
   "source": [
    "y=LabelEncoder().fit_transform(y)"
   ]
  },
  {
   "cell_type": "code",
   "execution_count": 91,
   "id": "c26d07a9",
   "metadata": {},
   "outputs": [],
   "source": [
    "from sklearn.linear_model import LogisticRegression"
   ]
  },
  {
   "cell_type": "code",
   "execution_count": 92,
   "id": "79f7b98f",
   "metadata": {},
   "outputs": [],
   "source": [
    "logit=LogisticRegression(max_iter=3000)"
   ]
  },
  {
   "cell_type": "code",
   "execution_count": 93,
   "id": "791a968f",
   "metadata": {},
   "outputs": [],
   "source": [
    "logitmodel=logit.fit(X,y)"
   ]
  },
  {
   "cell_type": "code",
   "execution_count": 94,
   "id": "4f82248e",
   "metadata": {},
   "outputs": [
    {
     "data": {
      "text/plain": [
       "0.9320537147861626"
      ]
     },
     "execution_count": 94,
     "metadata": {},
     "output_type": "execute_result"
    }
   ],
   "source": [
    "logitmodel.score(X,y)"
   ]
  },
  {
   "cell_type": "code",
   "execution_count": 95,
   "id": "39d30a3a",
   "metadata": {},
   "outputs": [],
   "source": [
    "logit_predict=logitmodel.predict(X)"
   ]
  },
  {
   "cell_type": "code",
   "execution_count": 96,
   "id": "e0b3ab03",
   "metadata": {},
   "outputs": [],
   "source": [
    "from sklearn.metrics import classification_report,plot_confusion_matrix,plot_roc_curve\n",
    "from sklearn.metrics import precision_score,recall_score,f1_score,accuracy_score"
   ]
  },
  {
   "cell_type": "code",
   "execution_count": 97,
   "id": "940cc81f",
   "metadata": {},
   "outputs": [
    {
     "name": "stdout",
     "output_type": "stream",
     "text": [
      "              precision    recall  f1-score   support\n",
      "\n",
      "           0       0.93      1.00      0.96     50140\n",
      "           1       0.83      0.25      0.39      4668\n",
      "\n",
      "    accuracy                           0.93     54808\n",
      "   macro avg       0.88      0.62      0.68     54808\n",
      "weighted avg       0.93      0.93      0.91     54808\n",
      "\n"
     ]
    }
   ],
   "source": [
    "print(classification_report(y,logit_predict))\n",
    "# Precision, Recall and F1-score are very poor for minority class (1)"
   ]
  },
  {
   "cell_type": "code",
   "execution_count": 98,
   "id": "3a429ae8",
   "metadata": {},
   "outputs": [
    {
     "data": {
      "text/plain": [
       "<sklearn.metrics._plot.roc_curve.RocCurveDisplay at 0x272f8b6e5b0>"
      ]
     },
     "execution_count": 98,
     "metadata": {},
     "output_type": "execute_result"
    },
    {
     "data": {
      "image/png": "[encoded data removed]",
      "text/plain": [
       "<Figure size 432x288 with 1 Axes>"
      ]
     },
     "metadata": {
      "needs_background": "light"
     },
     "output_type": "display_data"
    }
   ],
   "source": [
    "plot_roc_curve(logit,X,y) # AUC - 0.88"
   ]
  },
  {
   "cell_type": "code",
   "execution_count": 99,
   "id": "165047f4",
   "metadata": {},
   "outputs": [
    {
     "data": {
      "text/plain": [
       "<sklearn.metrics._plot.confusion_matrix.ConfusionMatrixDisplay at 0x272f35c7d00>"
      ]
     },
     "execution_count": 99,
     "metadata": {},
     "output_type": "execute_result"
    },
    {
     "data": {
      "image/png": "[encoded data removed]",
      "text/plain": [
       "<Figure size 432x288 with 2 Axes>"
      ]
     },
     "metadata": {
      "needs_background": "light"
     },
     "output_type": "display_data"
    }
   ],
   "source": [
    "plot_confusion_matrix(logit,X,y,display_labels=['Not Promoted','promoted'])\n",
    "# Most of the minority class records are wrongly predicted, this is due to imbalance in data"
   ]
  },
  {
   "cell_type": "code",
   "execution_count": 100,
   "id": "7d73e55d",
   "metadata": {},
   "outputs": [],
   "source": [
    "# UnderSampling/OverSampling is used to overcome the imbalanced data problem\n",
    "#SMOTE is an oversampling technique\n",
    "\n",
    "from imblearn.over_sampling import SMOTE"
   ]
  },
  {
   "cell_type": "code",
   "execution_count": 101,
   "id": "3ff558d7",
   "metadata": {},
   "outputs": [],
   "source": [
    "smote=SMOTE()"
   ]
  },
  {
   "cell_type": "code",
   "execution_count": 102,
   "id": "7f73f9ee",
   "metadata": {},
   "outputs": [],
   "source": [
    "x_smote,y_smote=smote.fit_resample(X,y)"
   ]
  },
  {
   "cell_type": "code",
   "execution_count": 103,
   "id": "d2ec5d95",
   "metadata": {},
   "outputs": [
    {
     "name": "stdout",
     "output_type": "stream",
     "text": [
      "(54808, 53) (54808,)\n",
      "(100280, 53) (100280,)\n"
     ]
    }
   ],
   "source": [
    "print(X.shape,y.shape)\n",
    "print(x_smote.shape,y_smote.shape)\n",
    "# no of records have increased"
   ]
  },
  {
   "cell_type": "code",
   "execution_count": 104,
   "id": "dc7c90c4",
   "metadata": {},
   "outputs": [
    {
     "data": {
      "text/plain": [
       "0    50140\n",
       "1    50140\n",
       "dtype: int64"
      ]
     },
     "execution_count": 104,
     "metadata": {},
     "output_type": "execute_result"
    }
   ],
   "source": [
    "pd.DataFrame(y_smote).value_counts()\n",
    "# Both the classes have equal no records"
   ]
  },
  {
   "cell_type": "code",
   "execution_count": 105,
   "id": "d5d19e6f",
   "metadata": {},
   "outputs": [],
   "source": [
    "from sklearn.model_selection import train_test_split"
   ]
  },
  {
   "cell_type": "code",
   "execution_count": 106,
   "id": "03dfcabd",
   "metadata": {},
   "outputs": [],
   "source": [
    "x_train,x_test,y_train,y_test=train_test_split(x_smote,y_smote,test_size=0.3,stratify=y_smote,random_state=27)"
   ]
  },
  {
   "cell_type": "code",
   "execution_count": 107,
   "id": "c28f4a0e",
   "metadata": {},
   "outputs": [],
   "source": [
    "smote_lm=logit.fit(x_train,y_train)"
   ]
  },
  {
   "cell_type": "code",
   "execution_count": 108,
   "id": "59c76b68",
   "metadata": {},
   "outputs": [
    {
     "data": {
      "text/plain": [
       "0.9057353695367257"
      ]
     },
     "execution_count": 108,
     "metadata": {},
     "output_type": "execute_result"
    }
   ],
   "source": [
    "smote_lm.score(x_train,y_train)"
   ]
  },
  {
   "cell_type": "code",
   "execution_count": 109,
   "id": "5165b3ed",
   "metadata": {},
   "outputs": [
    {
     "data": {
      "text/plain": [
       "0.9053982183220316"
      ]
     },
     "execution_count": 109,
     "metadata": {},
     "output_type": "execute_result"
    }
   ],
   "source": [
    "smote_lm.score(x_test,y_test)"
   ]
  },
  {
   "cell_type": "code",
   "execution_count": 110,
   "id": "c5984cf2",
   "metadata": {},
   "outputs": [],
   "source": [
    "slm_predict=smote_lm.predict(x_test)"
   ]
  },
  {
   "cell_type": "code",
   "execution_count": 111,
   "id": "5a581450",
   "metadata": {},
   "outputs": [
    {
     "name": "stdout",
     "output_type": "stream",
     "text": [
      "              precision    recall  f1-score   support\n",
      "\n",
      "           0       0.88      0.94      0.91     15042\n",
      "           1       0.93      0.87      0.90     15042\n",
      "\n",
      "    accuracy                           0.91     30084\n",
      "   macro avg       0.91      0.91      0.91     30084\n",
      "weighted avg       0.91      0.91      0.91     30084\n",
      "\n"
     ]
    }
   ],
   "source": [
    "print(classification_report(y_test,slm_predict))\n",
    "# Precision, Recall and F1-score have improved after oversampling records"
   ]
  },
  {
   "cell_type": "code",
   "execution_count": 112,
   "id": "84d3eb33",
   "metadata": {},
   "outputs": [
    {
     "data": {
      "text/plain": [
       "<sklearn.metrics._plot.roc_curve.RocCurveDisplay at 0x272f9267220>"
      ]
     },
     "execution_count": 112,
     "metadata": {},
     "output_type": "execute_result"
    },
    {
     "data": {
      "image/png": "[encoded data removed]",
      "text/plain": [
       "<Figure size 432x288 with 1 Axes>"
      ]
     },
     "metadata": {
      "needs_background": "light"
     },
     "output_type": "display_data"
    }
   ],
   "source": [
    "plot_roc_curve(smote_lm,x_test,y_test) # AUC - 0.97"
   ]
  },
  {
   "cell_type": "code",
   "execution_count": 113,
   "id": "14a80eb1",
   "metadata": {},
   "outputs": [
    {
     "data": {
      "text/plain": [
       "<sklearn.metrics._plot.confusion_matrix.ConfusionMatrixDisplay at 0x2728061eac0>"
      ]
     },
     "execution_count": 113,
     "metadata": {},
     "output_type": "execute_result"
    },
    {
     "data": {
      "image/png": "[encoded data removed]",
      "text/plain": [
       "<Figure size 432x288 with 2 Axes>"
      ]
     },
     "metadata": {
      "needs_background": "light"
     },
     "output_type": "display_data"
    }
   ],
   "source": [
    "plot_confusion_matrix(smote_lm,x_test,y_test,display_labels=['Not Promoted','promoted'])\n",
    "# False identification has been reduced"
   ]
  },
  {
   "cell_type": "code",
   "execution_count": 114,
   "id": "27ce65f2",
   "metadata": {},
   "outputs": [],
   "source": [
    "Model_metrics=pd.DataFrame(columns=['Model','AUC','Precision','Recall','F1-score','Accuracy'])"
   ]
  },
  {
   "cell_type": "code",
   "execution_count": 115,
   "id": "6bcf60ff",
   "metadata": {},
   "outputs": [],
   "source": [
    "Model_metrics.loc[0]=['Logistic Regression',0.97,precision_score(slm_predict,y_test),recall_score(slm_predict,y_test),\n",
    "                      f1_score(slm_predict,y_test),accuracy_score(slm_predict,y_test)]"
   ]
  },
  {
   "cell_type": "code",
   "execution_count": 116,
   "id": "3ea99e2b",
   "metadata": {},
   "outputs": [],
   "source": [
    "from sklearn.tree import DecisionTreeClassifier"
   ]
  },
  {
   "cell_type": "code",
   "execution_count": 117,
   "id": "9ebbd73c",
   "metadata": {},
   "outputs": [],
   "source": [
    "tree=DecisionTreeClassifier(max_depth=14)"
   ]
  },
  {
   "cell_type": "code",
   "execution_count": 118,
   "id": "b73c5639",
   "metadata": {},
   "outputs": [],
   "source": [
    "treemodel=tree.fit(x_train,y_train)"
   ]
  },
  {
   "cell_type": "code",
   "execution_count": 119,
   "id": "60e76a11",
   "metadata": {},
   "outputs": [
    {
     "data": {
      "text/plain": [
       "0.9196962789902559"
      ]
     },
     "execution_count": 119,
     "metadata": {},
     "output_type": "execute_result"
    }
   ],
   "source": [
    "treemodel.score(x_train,y_train)"
   ]
  },
  {
   "cell_type": "code",
   "execution_count": 120,
   "id": "c238a9c4",
   "metadata": {},
   "outputs": [
    {
     "data": {
      "text/plain": [
       "0.8967889908256881"
      ]
     },
     "execution_count": 120,
     "metadata": {},
     "output_type": "execute_result"
    }
   ],
   "source": [
    "treemodel.score(x_test,y_test)"
   ]
  },
  {
   "cell_type": "code",
   "execution_count": 121,
   "id": "07d94eb3",
   "metadata": {},
   "outputs": [],
   "source": [
    "tree_predict=treemodel.predict(x_test)"
   ]
  },
  {
   "cell_type": "code",
   "execution_count": 122,
   "id": "9535ef85",
   "metadata": {},
   "outputs": [
    {
     "name": "stdout",
     "output_type": "stream",
     "text": [
      "              precision    recall  f1-score   support\n",
      "\n",
      "           0       0.93      0.86      0.89     15042\n",
      "           1       0.87      0.94      0.90     15042\n",
      "\n",
      "    accuracy                           0.90     30084\n",
      "   macro avg       0.90      0.90      0.90     30084\n",
      "weighted avg       0.90      0.90      0.90     30084\n",
      "\n"
     ]
    }
   ],
   "source": [
    "print(classification_report(y_test,tree_predict))"
   ]
  },
  {
   "cell_type": "code",
   "execution_count": 123,
   "id": "10efd59a",
   "metadata": {},
   "outputs": [
    {
     "data": {
      "text/plain": [
       "<sklearn.metrics._plot.roc_curve.RocCurveDisplay at 0x272805d9880>"
      ]
     },
     "execution_count": 123,
     "metadata": {},
     "output_type": "execute_result"
    },
    {
     "data": {
      "image/png": "[encoded data removed]",
      "text/plain": [
       "<Figure size 432x288 with 1 Axes>"
      ]
     },
     "metadata": {
      "needs_background": "light"
     },
     "output_type": "display_data"
    }
   ],
   "source": [
    "plot_roc_curve(tree,x_test,y_test) # AUC - 0.96"
   ]
  },
  {
   "cell_type": "code",
   "execution_count": 124,
   "id": "c1837f3e",
   "metadata": {},
   "outputs": [
    {
     "data": {
      "text/plain": [
       "<sklearn.metrics._plot.confusion_matrix.ConfusionMatrixDisplay at 0x27280040340>"
      ]
     },
     "execution_count": 124,
     "metadata": {},
     "output_type": "execute_result"
    },
    {
     "data": {
      "image/png": "[encoded data removed]",
      "text/plain": [
       "<Figure size 432x288 with 2 Axes>"
      ]
     },
     "metadata": {
      "needs_background": "light"
     },
     "output_type": "display_data"
    }
   ],
   "source": [
    "plot_confusion_matrix(tree,x_test,y_test,display_labels=['Not Promoted','promoted'])\n",
    "# False identification has been reduced compared to Logistic regression model"
   ]
  },
  {
   "cell_type": "code",
   "execution_count": 125,
   "id": "bf50f8dc",
   "metadata": {},
   "outputs": [],
   "source": [
    "Model_metrics.loc[1]=['Decision Tree',0.96,precision_score(tree_predict,y_test),recall_score(tree_predict,y_test),\n",
    "                      f1_score(tree_predict,y_test),accuracy_score(tree_predict,y_test)]"
   ]
  },
  {
   "cell_type": "code",
   "execution_count": 126,
   "id": "696d7301",
   "metadata": {},
   "outputs": [],
   "source": [
    "from sklearn.ensemble import RandomForestClassifier"
   ]
  },
  {
   "cell_type": "code",
   "execution_count": 127,
   "id": "342084a7",
   "metadata": {},
   "outputs": [],
   "source": [
    "rf=RandomForestClassifier(max_depth=13)"
   ]
  },
  {
   "cell_type": "code",
   "execution_count": 128,
   "id": "ca04213d",
   "metadata": {},
   "outputs": [],
   "source": [
    "rf_model=rf.fit(x_train,y_train)"
   ]
  },
  {
   "cell_type": "code",
   "execution_count": 129,
   "id": "f7765907",
   "metadata": {},
   "outputs": [
    {
     "data": {
      "text/plain": [
       "0.8980141318593652"
      ]
     },
     "execution_count": 129,
     "metadata": {},
     "output_type": "execute_result"
    }
   ],
   "source": [
    "rf_model.score(x_train,y_train)"
   ]
  },
  {
   "cell_type": "code",
   "execution_count": 130,
   "id": "3eae1128",
   "metadata": {},
   "outputs": [
    {
     "data": {
      "text/plain": [
       "0.8797699773966228"
      ]
     },
     "execution_count": 130,
     "metadata": {},
     "output_type": "execute_result"
    }
   ],
   "source": [
    "rf_model.score(x_test,y_test)"
   ]
  },
  {
   "cell_type": "code",
   "execution_count": 131,
   "id": "e3779b4e",
   "metadata": {},
   "outputs": [],
   "source": [
    "rf_predict=rf_model.predict(x_test)"
   ]
  },
  {
   "cell_type": "code",
   "execution_count": 132,
   "id": "61b97863",
   "metadata": {},
   "outputs": [
    {
     "name": "stdout",
     "output_type": "stream",
     "text": [
      "              precision    recall  f1-score   support\n",
      "\n",
      "           0       0.84      0.91      0.87     13893\n",
      "           1       0.92      0.85      0.88     16191\n",
      "\n",
      "    accuracy                           0.88     30084\n",
      "   macro avg       0.88      0.88      0.88     30084\n",
      "weighted avg       0.88      0.88      0.88     30084\n",
      "\n"
     ]
    }
   ],
   "source": [
    "print(classification_report(rf_predict,y_test))"
   ]
  },
  {
   "cell_type": "code",
   "execution_count": 133,
   "id": "ecf79593",
   "metadata": {},
   "outputs": [
    {
     "data": {
      "text/plain": [
       "<sklearn.metrics._plot.roc_curve.RocCurveDisplay at 0x2728004f820>"
      ]
     },
     "execution_count": 133,
     "metadata": {},
     "output_type": "execute_result"
    },
    {
     "data": {
      "image/png": "[encoded data removed]",
      "text/plain": [
       "<Figure size 432x288 with 1 Axes>"
      ]
     },
     "metadata": {
      "needs_background": "light"
     },
     "output_type": "display_data"
    }
   ],
   "source": [
    "plot_roc_curve(rf,x_test,y_test)"
   ]
  },
  {
   "cell_type": "code",
   "execution_count": 134,
   "id": "b1d10686",
   "metadata": {},
   "outputs": [
    {
     "data": {
      "text/plain": [
       "<sklearn.metrics._plot.confusion_matrix.ConfusionMatrixDisplay at 0x272815327f0>"
      ]
     },
     "execution_count": 134,
     "metadata": {},
     "output_type": "execute_result"
    },
    {
     "data": {
      "image/png": "[encoded data removed]",
      "text/plain": [
       "<Figure size 432x288 with 2 Axes>"
      ]
     },
     "metadata": {
      "needs_background": "light"
     },
     "output_type": "display_data"
    }
   ],
   "source": [
    "plot_confusion_matrix(rf,x_test,y_test,display_labels=['Not Promoted','promoted'])"
   ]
  },
  {
   "cell_type": "code",
   "execution_count": 135,
   "id": "34c3cbe3",
   "metadata": {},
   "outputs": [],
   "source": [
    "Model_metrics.loc[2]=['Random Forest',0.96,precision_score(rf_predict,y_test),recall_score(rf_predict,y_test),\n",
    "                      f1_score(rf_predict,y_test),accuracy_score(rf_predict,y_test)]"
   ]
  },
  {
   "cell_type": "code",
   "execution_count": 136,
   "id": "dbc15c5a",
   "metadata": {},
   "outputs": [],
   "source": [
    "from sklearn.ensemble import GradientBoostingClassifier"
   ]
  },
  {
   "cell_type": "code",
   "execution_count": 137,
   "id": "c8fceedd",
   "metadata": {},
   "outputs": [],
   "source": [
    "gbm=GradientBoostingClassifier()"
   ]
  },
  {
   "cell_type": "code",
   "execution_count": 138,
   "id": "46a50460",
   "metadata": {},
   "outputs": [],
   "source": [
    "gbm_model=gbm.fit(x_train,y_train)"
   ]
  },
  {
   "cell_type": "code",
   "execution_count": 139,
   "id": "b0c9e049",
   "metadata": {},
   "outputs": [
    {
     "data": {
      "text/plain": [
       "0.8885549034132999"
      ]
     },
     "execution_count": 139,
     "metadata": {},
     "output_type": "execute_result"
    }
   ],
   "source": [
    "gbm_model.score(x_train,y_train)"
   ]
  },
  {
   "cell_type": "code",
   "execution_count": 140,
   "id": "4cbff4ba",
   "metadata": {},
   "outputs": [
    {
     "data": {
      "text/plain": [
       "0.8845565749235474"
      ]
     },
     "execution_count": 140,
     "metadata": {},
     "output_type": "execute_result"
    }
   ],
   "source": [
    "gbm_model.score(x_test,y_test)"
   ]
  },
  {
   "cell_type": "code",
   "execution_count": 141,
   "id": "cfbe6486",
   "metadata": {},
   "outputs": [],
   "source": [
    "gbm_predict=gbm_model.predict(x_test)"
   ]
  },
  {
   "cell_type": "code",
   "execution_count": 142,
   "id": "5f02f284",
   "metadata": {},
   "outputs": [
    {
     "name": "stdout",
     "output_type": "stream",
     "text": [
      "              precision    recall  f1-score   support\n",
      "\n",
      "           0       0.87      0.90      0.88     14571\n",
      "           1       0.90      0.87      0.89     15513\n",
      "\n",
      "    accuracy                           0.88     30084\n",
      "   macro avg       0.88      0.88      0.88     30084\n",
      "weighted avg       0.89      0.88      0.88     30084\n",
      "\n"
     ]
    }
   ],
   "source": [
    "print(classification_report(gbm_predict,y_test))"
   ]
  },
  {
   "cell_type": "code",
   "execution_count": 143,
   "id": "362cd6be",
   "metadata": {},
   "outputs": [
    {
     "data": {
      "text/plain": [
       "<sklearn.metrics._plot.roc_curve.RocCurveDisplay at 0x272816aac40>"
      ]
     },
     "execution_count": 143,
     "metadata": {},
     "output_type": "execute_result"
    },
    {
     "data": {
      "image/png": "[encoded data removed]",
      "text/plain": [
       "<Figure size 432x288 with 1 Axes>"
      ]
     },
     "metadata": {
      "needs_background": "light"
     },
     "output_type": "display_data"
    }
   ],
   "source": [
    "plot_roc_curve(gbm,x_test,y_test) "
   ]
  },
  {
   "cell_type": "code",
   "execution_count": 144,
   "id": "f4c4415a",
   "metadata": {},
   "outputs": [
    {
     "data": {
      "text/plain": [
       "<sklearn.metrics._plot.confusion_matrix.ConfusionMatrixDisplay at 0x27281722d00>"
      ]
     },
     "execution_count": 144,
     "metadata": {},
     "output_type": "execute_result"
    },
    {
     "data": {
      "image/png": "[encoded data removed]",
      "text/plain": [
       "<Figure size 432x288 with 2 Axes>"
      ]
     },
     "metadata": {
      "needs_background": "light"
     },
     "output_type": "display_data"
    }
   ],
   "source": [
    "plot_confusion_matrix(gbm,x_test,y_test,display_labels=['Not Promoted','promoted'])"
   ]
  },
  {
   "cell_type": "code",
   "execution_count": 145,
   "id": "dc790978",
   "metadata": {},
   "outputs": [],
   "source": [
    "Model_metrics.loc[3]=['Gradient Boosting Machine',0.96,precision_score(gbm_predict,y_test),recall_score(gbm_predict,y_test),\n",
    "                      f1_score(gbm_predict,y_test),accuracy_score(gbm_predict,y_test)]"
   ]
  },
  {
   "cell_type": "code",
   "execution_count": 146,
   "id": "5ee35e01",
   "metadata": {},
   "outputs": [],
   "source": [
    "from sklearn.ensemble import AdaBoostClassifier"
   ]
  },
  {
   "cell_type": "code",
   "execution_count": 147,
   "id": "23d25171",
   "metadata": {},
   "outputs": [],
   "source": [
    "abc=AdaBoostClassifier(base_estimator=DecisionTreeClassifier(max_depth=10))"
   ]
  },
  {
   "cell_type": "code",
   "execution_count": 148,
   "id": "7210b6ed",
   "metadata": {},
   "outputs": [],
   "source": [
    "abc_model=abc.fit(x_train,y_train)"
   ]
  },
  {
   "cell_type": "code",
   "execution_count": 149,
   "id": "7da18fe6",
   "metadata": {},
   "outputs": [
    {
     "data": {
      "text/plain": [
       "0.9997435751324861"
      ]
     },
     "execution_count": 149,
     "metadata": {},
     "output_type": "execute_result"
    }
   ],
   "source": [
    "abc_model.score(x_train,y_train)"
   ]
  },
  {
   "cell_type": "code",
   "execution_count": 150,
   "id": "575b9210",
   "metadata": {},
   "outputs": [
    {
     "data": {
      "text/plain": [
       "0.948311394761335"
      ]
     },
     "execution_count": 150,
     "metadata": {},
     "output_type": "execute_result"
    }
   ],
   "source": [
    "abc_model.score(x_test,y_test)"
   ]
  },
  {
   "cell_type": "code",
   "execution_count": 151,
   "id": "429e5e0a",
   "metadata": {},
   "outputs": [],
   "source": [
    "abc_pred=abc_model.predict(x_test)"
   ]
  },
  {
   "cell_type": "code",
   "execution_count": 152,
   "id": "9c42bf0d",
   "metadata": {},
   "outputs": [
    {
     "name": "stdout",
     "output_type": "stream",
     "text": [
      "              precision    recall  f1-score   support\n",
      "\n",
      "           0       0.95      0.95      0.95     15095\n",
      "           1       0.95      0.95      0.95     14989\n",
      "\n",
      "    accuracy                           0.95     30084\n",
      "   macro avg       0.95      0.95      0.95     30084\n",
      "weighted avg       0.95      0.95      0.95     30084\n",
      "\n"
     ]
    }
   ],
   "source": [
    "print(classification_report(abc_pred,y_test))"
   ]
  },
  {
   "cell_type": "code",
   "execution_count": 153,
   "id": "520d1449",
   "metadata": {},
   "outputs": [
    {
     "data": {
      "text/plain": [
       "<sklearn.metrics._plot.roc_curve.RocCurveDisplay at 0x27281647fa0>"
      ]
     },
     "execution_count": 153,
     "metadata": {},
     "output_type": "execute_result"
    },
    {
     "data": {
      "image/png": "[encoded data removed]",
      "text/plain": [
       "<Figure size 432x288 with 1 Axes>"
      ]
     },
     "metadata": {
      "needs_background": "light"
     },
     "output_type": "display_data"
    }
   ],
   "source": [
    "plot_roc_curve(abc,x_test,y_test)"
   ]
  },
  {
   "cell_type": "code",
   "execution_count": 154,
   "id": "c4ff8c39",
   "metadata": {},
   "outputs": [
    {
     "data": {
      "text/plain": [
       "<sklearn.metrics._plot.confusion_matrix.ConfusionMatrixDisplay at 0x272f87530d0>"
      ]
     },
     "execution_count": 154,
     "metadata": {},
     "output_type": "execute_result"
    },
    {
     "data": {
      "image/png": "[encoded data removed]",
      "text/plain": [
       "<Figure size 432x288 with 2 Axes>"
      ]
     },
     "metadata": {
      "needs_background": "light"
     },
     "output_type": "display_data"
    }
   ],
   "source": [
    "plot_confusion_matrix(abc,x_test,y_test,display_labels=['Not Promoted','promoted'])"
   ]
  },
  {
   "cell_type": "code",
   "execution_count": 155,
   "id": "c8b2cd0b",
   "metadata": {},
   "outputs": [],
   "source": [
    "Model_metrics.loc[4]=['Ada Boost',0.98,precision_score(abc_pred,y_test),recall_score(abc_pred,y_test),\n",
    "                      f1_score(abc_pred,y_test),accuracy_score(abc_pred,y_test)]"
   ]
  },
  {
   "cell_type": "code",
   "execution_count": 156,
   "id": "ae1314a8",
   "metadata": {},
   "outputs": [],
   "source": [
    "from xgboost import XGBClassifier"
   ]
  },
  {
   "cell_type": "code",
   "execution_count": 157,
   "id": "aa29e2fa",
   "metadata": {},
   "outputs": [],
   "source": [
    "xgb=XGBClassifier(eval_metric='error')"
   ]
  },
  {
   "cell_type": "code",
   "execution_count": 158,
   "id": "fd96c096",
   "metadata": {},
   "outputs": [],
   "source": [
    "xgb_model=xgb.fit(x_train,y_train)"
   ]
  },
  {
   "cell_type": "code",
   "execution_count": 159,
   "id": "d6b215f5",
   "metadata": {},
   "outputs": [
    {
     "data": {
      "text/plain": [
       "0.9559661519174881"
      ]
     },
     "execution_count": 159,
     "metadata": {},
     "output_type": "execute_result"
    }
   ],
   "source": [
    "xgb_model.score(x_train,y_train)"
   ]
  },
  {
   "cell_type": "code",
   "execution_count": 160,
   "id": "c98e12cc",
   "metadata": {},
   "outputs": [
    {
     "data": {
      "text/plain": [
       "0.9472144661614147"
      ]
     },
     "execution_count": 160,
     "metadata": {},
     "output_type": "execute_result"
    }
   ],
   "source": [
    "xgb_model.score(x_test,y_test)"
   ]
  },
  {
   "cell_type": "code",
   "execution_count": 161,
   "id": "10874952",
   "metadata": {},
   "outputs": [],
   "source": [
    "xgb_predict=xgb_model.predict(x_test)"
   ]
  },
  {
   "cell_type": "code",
   "execution_count": 162,
   "id": "c33a9bb8",
   "metadata": {},
   "outputs": [
    {
     "name": "stdout",
     "output_type": "stream",
     "text": [
      "              precision    recall  f1-score   support\n",
      "\n",
      "           0       0.96      0.93      0.95     15504\n",
      "           1       0.93      0.96      0.95     14580\n",
      "\n",
      "    accuracy                           0.95     30084\n",
      "   macro avg       0.95      0.95      0.95     30084\n",
      "weighted avg       0.95      0.95      0.95     30084\n",
      "\n"
     ]
    }
   ],
   "source": [
    "print(classification_report(xgb_predict,y_test))"
   ]
  },
  {
   "cell_type": "code",
   "execution_count": 163,
   "id": "1000e0c0",
   "metadata": {},
   "outputs": [
    {
     "data": {
      "text/plain": [
       "<sklearn.metrics._plot.roc_curve.RocCurveDisplay at 0x272f8a6bfd0>"
      ]
     },
     "execution_count": 163,
     "metadata": {},
     "output_type": "execute_result"
    },
    {
     "data": {
      "image/png": "[encoded data removed]",
      "text/plain": [
       "<Figure size 432x288 with 1 Axes>"
      ]
     },
     "metadata": {
      "needs_background": "light"
     },
     "output_type": "display_data"
    }
   ],
   "source": [
    "plot_roc_curve(xgb,x_test,y_test)"
   ]
  },
  {
   "cell_type": "code",
   "execution_count": 164,
   "id": "ae8c006f",
   "metadata": {},
   "outputs": [
    {
     "data": {
      "text/plain": [
       "<sklearn.metrics._plot.confusion_matrix.ConfusionMatrixDisplay at 0x27280040490>"
      ]
     },
     "execution_count": 164,
     "metadata": {},
     "output_type": "execute_result"
    },
    {
     "data": {
      "image/png": "[encoded data removed]",
      "text/plain": [
       "<Figure size 432x288 with 2 Axes>"
      ]
     },
     "metadata": {
      "needs_background": "light"
     },
     "output_type": "display_data"
    }
   ],
   "source": [
    "plot_confusion_matrix(xgb,x_test,y_test,display_labels=['Not Promoted','promoted'])"
   ]
  },
  {
   "cell_type": "code",
   "execution_count": 165,
   "id": "d0135363",
   "metadata": {},
   "outputs": [],
   "source": [
    "Model_metrics.loc[5]=['XGBoost',0.99,precision_score(xgb_predict,y_test),recall_score(xgb_predict,y_test),\n",
    "                      f1_score(xgb_predict,y_test),accuracy_score(xgb_predict,y_test)]"
   ]
  },
  {
   "cell_type": "code",
   "execution_count": 166,
   "id": "91305f62",
   "metadata": {},
   "outputs": [],
   "source": [
    "from sklearn.neighbors import KNeighborsClassifier"
   ]
  },
  {
   "cell_type": "code",
   "execution_count": 167,
   "id": "d85d3f7d",
   "metadata": {},
   "outputs": [],
   "source": [
    "knn=KNeighborsClassifier(n_neighbors=3,weights='distance')"
   ]
  },
  {
   "cell_type": "code",
   "execution_count": 168,
   "id": "8d46eac3",
   "metadata": {},
   "outputs": [],
   "source": [
    "knn_model=knn.fit(x_train,y_train)"
   ]
  },
  {
   "cell_type": "code",
   "execution_count": 169,
   "id": "47995448",
   "metadata": {},
   "outputs": [
    {
     "data": {
      "text/plain": [
       "0.9997435751324861"
      ]
     },
     "execution_count": 169,
     "metadata": {},
     "output_type": "execute_result"
    }
   ],
   "source": [
    "knn_model.score(x_train,y_train)"
   ]
  },
  {
   "cell_type": "code",
   "execution_count": 170,
   "id": "ffb7ecfb",
   "metadata": {},
   "outputs": [
    {
     "data": {
      "text/plain": [
       "0.849754022071533"
      ]
     },
     "execution_count": 170,
     "metadata": {},
     "output_type": "execute_result"
    }
   ],
   "source": [
    "knn_model.score(x_test,y_test)"
   ]
  },
  {
   "cell_type": "code",
   "execution_count": 171,
   "id": "72963d00",
   "metadata": {},
   "outputs": [],
   "source": [
    "knn_predict=knn_model.predict(x_test)"
   ]
  },
  {
   "cell_type": "code",
   "execution_count": 172,
   "id": "3a9ee706",
   "metadata": {},
   "outputs": [
    {
     "name": "stdout",
     "output_type": "stream",
     "text": [
      "              precision    recall  f1-score   support\n",
      "\n",
      "           0       0.71      0.99      0.82     10718\n",
      "           1       0.99      0.77      0.87     19366\n",
      "\n",
      "    accuracy                           0.85     30084\n",
      "   macro avg       0.85      0.88      0.85     30084\n",
      "weighted avg       0.89      0.85      0.85     30084\n",
      "\n"
     ]
    }
   ],
   "source": [
    "print(classification_report(knn_predict,y_test))"
   ]
  },
  {
   "cell_type": "code",
   "execution_count": 173,
   "id": "0393a359",
   "metadata": {},
   "outputs": [
    {
     "data": {
      "text/plain": [
       "<sklearn.metrics._plot.roc_curve.RocCurveDisplay at 0x272817a0610>"
      ]
     },
     "execution_count": 173,
     "metadata": {},
     "output_type": "execute_result"
    },
    {
     "data": {
      "image/png": "[encoded data removed]",
      "text/plain": [
       "<Figure size 432x288 with 1 Axes>"
      ]
     },
     "metadata": {
      "needs_background": "light"
     },
     "output_type": "display_data"
    }
   ],
   "source": [
    "plot_roc_curve(knn,x_test,y_test)"
   ]
  },
  {
   "cell_type": "code",
   "execution_count": 174,
   "id": "ab312523",
   "metadata": {},
   "outputs": [
    {
     "data": {
      "text/plain": [
       "<sklearn.metrics._plot.confusion_matrix.ConfusionMatrixDisplay at 0x272805d2520>"
      ]
     },
     "execution_count": 174,
     "metadata": {},
     "output_type": "execute_result"
    },
    {
     "data": {
      "image/png": "[encoded data removed]",
      "text/plain": [
       "<Figure size 432x288 with 2 Axes>"
      ]
     },
     "metadata": {
      "needs_background": "light"
     },
     "output_type": "display_data"
    }
   ],
   "source": [
    "plot_confusion_matrix(knn,x_test,y_test,display_labels=['Not Promoted','promoted'])\n",
    "# False identification have increased for class 0 and decreased for class 1"
   ]
  },
  {
   "cell_type": "code",
   "execution_count": 175,
   "id": "b94ff07a",
   "metadata": {},
   "outputs": [],
   "source": [
    "Model_metrics.loc[6]=['K Nearest Neighbors',0.93,precision_score(knn_predict,y_test),recall_score(knn_predict,y_test),\n",
    "                      f1_score(knn_predict,y_test),accuracy_score(knn_predict,y_test)]"
   ]
  },
  {
   "cell_type": "code",
   "execution_count": 176,
   "id": "54bda623",
   "metadata": {},
   "outputs": [],
   "source": [
    "from sklearn.naive_bayes import GaussianNB"
   ]
  },
  {
   "cell_type": "code",
   "execution_count": 177,
   "id": "abcf6437",
   "metadata": {},
   "outputs": [],
   "source": [
    "nb=GaussianNB()"
   ]
  },
  {
   "cell_type": "code",
   "execution_count": 178,
   "id": "09489dd4",
   "metadata": {},
   "outputs": [],
   "source": [
    "nb_model=nb.fit(x_train,y_train)"
   ]
  },
  {
   "cell_type": "code",
   "execution_count": 179,
   "id": "8bfdf0b6",
   "metadata": {},
   "outputs": [
    {
     "data": {
      "text/plain": [
       "0.7465097726366174"
      ]
     },
     "execution_count": 179,
     "metadata": {},
     "output_type": "execute_result"
    }
   ],
   "source": [
    "nb_model.score(x_train,y_train)"
   ]
  },
  {
   "cell_type": "code",
   "execution_count": 180,
   "id": "5c94fff9",
   "metadata": {},
   "outputs": [
    {
     "data": {
      "text/plain": [
       "0.746177370030581"
      ]
     },
     "execution_count": 180,
     "metadata": {},
     "output_type": "execute_result"
    }
   ],
   "source": [
    "nb_model.score(x_test,y_test)"
   ]
  },
  {
   "cell_type": "code",
   "execution_count": 181,
   "id": "76f0bd3b",
   "metadata": {},
   "outputs": [],
   "source": [
    "nb_predict=nb_model.predict(x_test)"
   ]
  },
  {
   "cell_type": "code",
   "execution_count": 182,
   "id": "6ef9c4c7",
   "metadata": {},
   "outputs": [
    {
     "name": "stdout",
     "output_type": "stream",
     "text": [
      "              precision    recall  f1-score   support\n",
      "\n",
      "           0       0.71      0.99      0.82     10718\n",
      "           1       0.99      0.77      0.87     19366\n",
      "\n",
      "    accuracy                           0.85     30084\n",
      "   macro avg       0.85      0.88      0.85     30084\n",
      "weighted avg       0.89      0.85      0.85     30084\n",
      "\n"
     ]
    }
   ],
   "source": [
    "print(classification_report(knn_predict,y_test))"
   ]
  },
  {
   "cell_type": "code",
   "execution_count": 183,
   "id": "f2121c2f",
   "metadata": {},
   "outputs": [
    {
     "data": {
      "text/plain": [
       "<sklearn.metrics._plot.roc_curve.RocCurveDisplay at 0x27280904cd0>"
      ]
     },
     "execution_count": 183,
     "metadata": {},
     "output_type": "execute_result"
    },
    {
     "data": {
      "image/png": "[encoded data removed]",
      "text/plain": [
       "<Figure size 432x288 with 1 Axes>"
      ]
     },
     "metadata": {
      "needs_background": "light"
     },
     "output_type": "display_data"
    }
   ],
   "source": [
    "plot_roc_curve(nb,x_test,y_test)"
   ]
  },
  {
   "cell_type": "code",
   "execution_count": 184,
   "id": "02c3dad6",
   "metadata": {},
   "outputs": [
    {
     "data": {
      "text/plain": [
       "<sklearn.metrics._plot.confusion_matrix.ConfusionMatrixDisplay at 0x272808f4e80>"
      ]
     },
     "execution_count": 184,
     "metadata": {},
     "output_type": "execute_result"
    },
    {
     "data": {
      "image/png": "[encoded data removed]",
      "text/plain": [
       "<Figure size 432x288 with 2 Axes>"
      ]
     },
     "metadata": {
      "needs_background": "light"
     },
     "output_type": "display_data"
    }
   ],
   "source": [
    "plot_confusion_matrix(nb,x_test,y_test,display_labels=['Not Promoted','promoted'])"
   ]
  },
  {
   "cell_type": "code",
   "execution_count": 185,
   "id": "7557f807",
   "metadata": {},
   "outputs": [],
   "source": [
    "Model_metrics.loc[7]=['Naive baiyes',0.83,precision_score(nb_predict,y_test),recall_score(nb_predict,y_test),\n",
    "                      f1_score(nb_predict,y_test),accuracy_score(nb_predict,y_test)]"
   ]
  },
  {
   "cell_type": "code",
   "execution_count": 186,
   "id": "84a7907d",
   "metadata": {},
   "outputs": [],
   "source": [
    "from sklearn.svm import SVC"
   ]
  },
  {
   "cell_type": "code",
   "execution_count": 187,
   "id": "1f9dde71",
   "metadata": {},
   "outputs": [],
   "source": [
    "svc=SVC()"
   ]
  },
  {
   "cell_type": "code",
   "execution_count": 188,
   "id": "c2acf353",
   "metadata": {},
   "outputs": [],
   "source": [
    "svc_model=svc.fit(x_train,y_train)"
   ]
  },
  {
   "cell_type": "code",
   "execution_count": 189,
   "id": "670f5db3",
   "metadata": {},
   "outputs": [
    {
     "data": {
      "text/plain": [
       "0.7894894295971281"
      ]
     },
     "execution_count": 189,
     "metadata": {},
     "output_type": "execute_result"
    }
   ],
   "source": [
    "svc_model.score(x_train,y_train)"
   ]
  },
  {
   "cell_type": "code",
   "execution_count": 190,
   "id": "41d8f678",
   "metadata": {},
   "outputs": [
    {
     "data": {
      "text/plain": [
       "0.7906860789788592"
      ]
     },
     "execution_count": 190,
     "metadata": {},
     "output_type": "execute_result"
    }
   ],
   "source": [
    "svc_model.score(x_test,y_test)"
   ]
  },
  {
   "cell_type": "code",
   "execution_count": 191,
   "id": "bf876a9c",
   "metadata": {},
   "outputs": [],
   "source": [
    "svc_predict=svc_model.predict(x_test)"
   ]
  },
  {
   "cell_type": "code",
   "execution_count": 192,
   "id": "d4e613b6",
   "metadata": {},
   "outputs": [
    {
     "name": "stdout",
     "output_type": "stream",
     "text": [
      "              precision    recall  f1-score   support\n",
      "\n",
      "           0       0.75      0.82      0.78     13679\n",
      "           1       0.84      0.77      0.80     16405\n",
      "\n",
      "    accuracy                           0.79     30084\n",
      "   macro avg       0.79      0.79      0.79     30084\n",
      "weighted avg       0.79      0.79      0.79     30084\n",
      "\n"
     ]
    }
   ],
   "source": [
    "print(classification_report(svc_predict,y_test))"
   ]
  },
  {
   "cell_type": "code",
   "execution_count": 193,
   "id": "d9e4800f",
   "metadata": {},
   "outputs": [
    {
     "data": {
      "text/plain": [
       "<sklearn.metrics._plot.roc_curve.RocCurveDisplay at 0x272809e4880>"
      ]
     },
     "execution_count": 193,
     "metadata": {},
     "output_type": "execute_result"
    },
    {
     "data": {
      "image/png": "[encoded data removed]",
      "text/plain": [
       "<Figure size 432x288 with 1 Axes>"
      ]
     },
     "metadata": {
      "needs_background": "light"
     },
     "output_type": "display_data"
    }
   ],
   "source": [
    "plot_roc_curve(svc,x_test,y_test)"
   ]
  },
  {
   "cell_type": "code",
   "execution_count": 194,
   "id": "c7b355ba",
   "metadata": {},
   "outputs": [
    {
     "data": {
      "text/plain": [
       "<sklearn.metrics._plot.confusion_matrix.ConfusionMatrixDisplay at 0x2728095b670>"
      ]
     },
     "execution_count": 194,
     "metadata": {},
     "output_type": "execute_result"
    },
    {
     "data": {
      "image/png": "[encoded data removed]",
      "text/plain": [
       "<Figure size 432x288 with 2 Axes>"
      ]
     },
     "metadata": {
      "needs_background": "light"
     },
     "output_type": "display_data"
    }
   ],
   "source": [
    "plot_confusion_matrix(svc,x_test,y_test,display_labels=['Not Promoted','promoted'])"
   ]
  },
  {
   "cell_type": "code",
   "execution_count": 195,
   "id": "fedf486a",
   "metadata": {},
   "outputs": [],
   "source": [
    "Model_metrics.loc[8]=['Support Vector Machine',0.87,precision_score(svc_predict,y_test),recall_score(svc_predict,y_test),\n",
    "                      f1_score(svc_predict,y_test),accuracy_score(svc_predict,y_test)]"
   ]
  },
  {
   "cell_type": "code",
   "execution_count": 196,
   "id": "4922adc1",
   "metadata": {},
   "outputs": [
    {
     "data": {
      "text/html": [
       "<div>\n",
       "<style scoped>\n",
       "    .dataframe tbody tr th:only-of-type {\n",
       "        vertical-align: middle;\n",
       "    }\n",
       "\n",
       "    .dataframe tbody tr th {\n",
       "        vertical-align: top;\n",
       "    }\n",
       "\n",
       "    .dataframe thead th {\n",
       "        text-align: right;\n",
       "    }\n",
       "</style>\n",
       "<table border=\"1\" class=\"dataframe\">\n",
       "  <thead>\n",
       "    <tr style=\"text-align: right;\">\n",
       "      <th></th>\n",
       "      <th>Model</th>\n",
       "      <th>AUC</th>\n",
       "      <th>Precision</th>\n",
       "      <th>Recall</th>\n",
       "      <th>F1-score</th>\n",
       "      <th>Accuracy</th>\n",
       "    </tr>\n",
       "  </thead>\n",
       "  <tbody>\n",
       "    <tr>\n",
       "      <th>0</th>\n",
       "      <td>Logistic Regression</td>\n",
       "      <td>0.97</td>\n",
       "      <td>0.874751</td>\n",
       "      <td>0.931870</td>\n",
       "      <td>0.902407</td>\n",
       "      <td>0.905398</td>\n",
       "    </tr>\n",
       "    <tr>\n",
       "      <th>1</th>\n",
       "      <td>Decision Tree</td>\n",
       "      <td>0.97</td>\n",
       "      <td>0.937442</td>\n",
       "      <td>0.866954</td>\n",
       "      <td>0.900821</td>\n",
       "      <td>0.896789</td>\n",
       "    </tr>\n",
       "    <tr>\n",
       "      <th>2</th>\n",
       "      <td>Random Forest</td>\n",
       "      <td>0.96</td>\n",
       "      <td>0.917963</td>\n",
       "      <td>0.852819</td>\n",
       "      <td>0.884193</td>\n",
       "      <td>0.879770</td>\n",
       "    </tr>\n",
       "    <tr>\n",
       "      <th>3</th>\n",
       "      <td>Gradient Boosting Machine</td>\n",
       "      <td>0.96</td>\n",
       "      <td>0.900213</td>\n",
       "      <td>0.872881</td>\n",
       "      <td>0.886336</td>\n",
       "      <td>0.884557</td>\n",
       "    </tr>\n",
       "    <tr>\n",
       "      <th>4</th>\n",
       "      <td>Ada Boost</td>\n",
       "      <td>0.98</td>\n",
       "      <td>0.946550</td>\n",
       "      <td>0.949897</td>\n",
       "      <td>0.948220</td>\n",
       "      <td>0.948311</td>\n",
       "    </tr>\n",
       "    <tr>\n",
       "      <th>5</th>\n",
       "      <td>XGBoost</td>\n",
       "      <td>0.99</td>\n",
       "      <td>0.931857</td>\n",
       "      <td>0.961385</td>\n",
       "      <td>0.946391</td>\n",
       "      <td>0.947214</td>\n",
       "    </tr>\n",
       "    <tr>\n",
       "      <th>6</th>\n",
       "      <td>K Nearest Neighbors</td>\n",
       "      <td>0.93</td>\n",
       "      <td>0.993485</td>\n",
       "      <td>0.771662</td>\n",
       "      <td>0.868635</td>\n",
       "      <td>0.849754</td>\n",
       "    </tr>\n",
       "    <tr>\n",
       "      <th>7</th>\n",
       "      <td>Naive baiyes</td>\n",
       "      <td>0.83</td>\n",
       "      <td>0.914373</td>\n",
       "      <td>0.684211</td>\n",
       "      <td>0.782723</td>\n",
       "      <td>0.746177</td>\n",
       "    </tr>\n",
       "    <tr>\n",
       "      <th>8</th>\n",
       "      <td>Support Vector Machine</td>\n",
       "      <td>0.87</td>\n",
       "      <td>0.835993</td>\n",
       "      <td>0.766535</td>\n",
       "      <td>0.799758</td>\n",
       "      <td>0.790686</td>\n",
       "    </tr>\n",
       "  </tbody>\n",
       "</table>\n",
       "</div>"
      ],
      "text/plain": [
       "                       Model   AUC  Precision    Recall  F1-score  Accuracy\n",
       "0        Logistic Regression  0.97   0.874751  0.931870  0.902407  0.905398\n",
       "1              Decision Tree  0.97   0.937442  0.866954  0.900821  0.896789\n",
       "2              Random Forest  0.96   0.917963  0.852819  0.884193  0.879770\n",
       "3  Gradient Boosting Machine  0.96   0.900213  0.872881  0.886336  0.884557\n",
       "4                  Ada Boost  0.98   0.946550  0.949897  0.948220  0.948311\n",
       "5                    XGBoost  0.99   0.931857  0.961385  0.946391  0.947214\n",
       "6        K Nearest Neighbors  0.93   0.993485  0.771662  0.868635  0.849754\n",
       "7               Naive baiyes  0.83   0.914373  0.684211  0.782723  0.746177\n",
       "8     Support Vector Machine  0.87   0.835993  0.766535  0.799758  0.790686"
      ]
     },
     "execution_count": 196,
     "metadata": {},
     "output_type": "execute_result"
    }
   ],
   "source": [
    "Model_metrics"
   ]
  },
  {
   "cell_type": "code",
   "execution_count": 197,
   "id": "bc083c5a",
   "metadata": {},
   "outputs": [],
   "source": [
    "# Ada Boost and XGBoost have performed equally well, lets run cross_val_score on both the models\n",
    "\n",
    "from sklearn.model_selection import cross_val_score"
   ]
  },
  {
   "cell_type": "code",
   "execution_count": 198,
   "id": "2f2987a3",
   "metadata": {},
   "outputs": [],
   "source": [
    "abc_score=cross_val_score(abc,x_test,y_test)"
   ]
  },
  {
   "cell_type": "code",
   "execution_count": 199,
   "id": "2dde1cff",
   "metadata": {},
   "outputs": [],
   "source": [
    "xgb_score=cross_val_score(xgb,x_test,y_test)"
   ]
  },
  {
   "cell_type": "code",
   "execution_count": 200,
   "id": "e53a42da",
   "metadata": {},
   "outputs": [
    {
     "name": "stdout",
     "output_type": "stream",
     "text": [
      "AdaBoost_scores:[0.93352169 0.93518365 0.93235832 0.9292006  0.93384309]\n",
      "AdaBoost_score_mean:0.9328214672788799\n"
     ]
    }
   ],
   "source": [
    "print('AdaBoost_scores:{0}\\nAdaBoost_score_mean:{1}'.format(abc_score,abc_score.mean()))"
   ]
  },
  {
   "cell_type": "code",
   "execution_count": 201,
   "id": "cf824f45",
   "metadata": {},
   "outputs": [
    {
     "name": "stdout",
     "output_type": "stream",
     "text": [
      "xgb_scores:[0.944823   0.94033572 0.93834137 0.94282865 0.94265293]\n",
      "xgb_score_mean:0.941796332156408\n"
     ]
    }
   ],
   "source": [
    "print('xgb_scores:{0}\\nxgb_score_mean:{1}'.format(xgb_score,xgb_score.mean()))\n",
    "# XGBoost have got good accuracy compared to AdaBoost"
   ]
  },
  {
   "cell_type": "code",
   "execution_count": 216,
   "id": "b826762e",
   "metadata": {},
   "outputs": [],
   "source": [
    "# Tuning XGBoost Classifier\n",
    "\n",
    "from sklearn.model_selection import GridSearchCV, RandomizedSearchCV,StratifiedKFold"
   ]
  },
  {
   "cell_type": "code",
   "execution_count": 203,
   "id": "ed11e2fb",
   "metadata": {},
   "outputs": [
    {
     "name": "stdout",
     "output_type": "stream",
     "text": [
      "Fitting 3 folds for each of 10 candidates, totalling 30 fits\n",
      "[14:30:36] WARNING: C:/Users/Administrator/workspace/xgboost-win64_release_1.5.1/src/learner.cc:576: \n",
      "Parameters: { \"silent\" } might not be used.\n",
      "\n",
      "  This could be a false alarm, with some parameters getting used by language bindings but\n",
      "  then being mistakenly passed down to XGBoost core, or some parameter actually being used\n",
      "  but getting flagged wrongly here. Please open an issue if you find any such cases.\n",
      "\n",
      "\n",
      "[14:31:16] WARNING: C:/Users/Administrator/workspace/xgboost-win64_release_1.5.1/src/learner.cc:576: \n",
      "Parameters: { \"silent\" } might not be used.\n",
      "\n",
      "  This could be a false alarm, with some parameters getting used by language bindings but\n",
      "  then being mistakenly passed down to XGBoost core, or some parameter actually being used\n",
      "  but getting flagged wrongly here. Please open an issue if you find any such cases.\n",
      "\n",
      "\n",
      "[14:32:02] WARNING: C:/Users/Administrator/workspace/xgboost-win64_release_1.5.1/src/learner.cc:576: \n",
      "Parameters: { \"silent\" } might not be used.\n",
      "\n",
      "  This could be a false alarm, with some parameters getting used by language bindings but\n",
      "  then being mistakenly passed down to XGBoost core, or some parameter actually being used\n",
      "  but getting flagged wrongly here. Please open an issue if you find any such cases.\n",
      "\n",
      "\n",
      "[14:32:46] WARNING: C:/Users/Administrator/workspace/xgboost-win64_release_1.5.1/src/learner.cc:576: \n",
      "Parameters: { \"silent\" } might not be used.\n",
      "\n",
      "  This could be a false alarm, with some parameters getting used by language bindings but\n",
      "  then being mistakenly passed down to XGBoost core, or some parameter actually being used\n",
      "  but getting flagged wrongly here. Please open an issue if you find any such cases.\n",
      "\n",
      "\n",
      "[14:33:00] WARNING: C:/Users/Administrator/workspace/xgboost-win64_release_1.5.1/src/learner.cc:576: \n",
      "Parameters: { \"silent\" } might not be used.\n",
      "\n",
      "  This could be a false alarm, with some parameters getting used by language bindings but\n",
      "  then being mistakenly passed down to XGBoost core, or some parameter actually being used\n",
      "  but getting flagged wrongly here. Please open an issue if you find any such cases.\n",
      "\n",
      "\n",
      "[14:33:15] WARNING: C:/Users/Administrator/workspace/xgboost-win64_release_1.5.1/src/learner.cc:576: \n",
      "Parameters: { \"silent\" } might not be used.\n",
      "\n",
      "  This could be a false alarm, with some parameters getting used by language bindings but\n",
      "  then being mistakenly passed down to XGBoost core, or some parameter actually being used\n",
      "  but getting flagged wrongly here. Please open an issue if you find any such cases.\n",
      "\n",
      "\n",
      "[14:33:29] WARNING: C:/Users/Administrator/workspace/xgboost-win64_release_1.5.1/src/learner.cc:576: \n",
      "Parameters: { \"silent\" } might not be used.\n",
      "\n",
      "  This could be a false alarm, with some parameters getting used by language bindings but\n",
      "  then being mistakenly passed down to XGBoost core, or some parameter actually being used\n",
      "  but getting flagged wrongly here. Please open an issue if you find any such cases.\n",
      "\n",
      "\n",
      "[14:33:51] WARNING: C:/Users/Administrator/workspace/xgboost-win64_release_1.5.1/src/learner.cc:576: \n",
      "Parameters: { \"silent\" } might not be used.\n",
      "\n",
      "  This could be a false alarm, with some parameters getting used by language bindings but\n",
      "  then being mistakenly passed down to XGBoost core, or some parameter actually being used\n",
      "  but getting flagged wrongly here. Please open an issue if you find any such cases.\n",
      "\n",
      "\n",
      "[14:34:13] WARNING: C:/Users/Administrator/workspace/xgboost-win64_release_1.5.1/src/learner.cc:576: \n",
      "Parameters: { \"silent\" } might not be used.\n",
      "\n",
      "  This could be a false alarm, with some parameters getting used by language bindings but\n",
      "  then being mistakenly passed down to XGBoost core, or some parameter actually being used\n",
      "  but getting flagged wrongly here. Please open an issue if you find any such cases.\n",
      "\n",
      "\n",
      "[14:34:36] WARNING: C:/Users/Administrator/workspace/xgboost-win64_release_1.5.1/src/learner.cc:576: \n",
      "Parameters: { \"silent\" } might not be used.\n",
      "\n",
      "  This could be a false alarm, with some parameters getting used by language bindings but\n",
      "  then being mistakenly passed down to XGBoost core, or some parameter actually being used\n",
      "  but getting flagged wrongly here. Please open an issue if you find any such cases.\n",
      "\n",
      "\n",
      "[14:34:59] WARNING: C:/Users/Administrator/workspace/xgboost-win64_release_1.5.1/src/learner.cc:576: \n",
      "Parameters: { \"silent\" } might not be used.\n",
      "\n",
      "  This could be a false alarm, with some parameters getting used by language bindings but\n",
      "  then being mistakenly passed down to XGBoost core, or some parameter actually being used\n",
      "  but getting flagged wrongly here. Please open an issue if you find any such cases.\n",
      "\n",
      "\n",
      "[14:35:24] WARNING: C:/Users/Administrator/workspace/xgboost-win64_release_1.5.1/src/learner.cc:576: \n",
      "Parameters: { \"silent\" } might not be used.\n",
      "\n",
      "  This could be a false alarm, with some parameters getting used by language bindings but\n",
      "  then being mistakenly passed down to XGBoost core, or some parameter actually being used\n",
      "  but getting flagged wrongly here. Please open an issue if you find any such cases.\n",
      "\n",
      "\n",
      "[14:35:47] WARNING: C:/Users/Administrator/workspace/xgboost-win64_release_1.5.1/src/learner.cc:576: \n",
      "Parameters: { \"silent\" } might not be used.\n",
      "\n",
      "  This could be a false alarm, with some parameters getting used by language bindings but\n",
      "  then being mistakenly passed down to XGBoost core, or some parameter actually being used\n",
      "  but getting flagged wrongly here. Please open an issue if you find any such cases.\n",
      "\n",
      "\n",
      "[14:37:38] WARNING: C:/Users/Administrator/workspace/xgboost-win64_release_1.5.1/src/learner.cc:576: \n",
      "Parameters: { \"silent\" } might not be used.\n",
      "\n",
      "  This could be a false alarm, with some parameters getting used by language bindings but\n",
      "  then being mistakenly passed down to XGBoost core, or some parameter actually being used\n",
      "  but getting flagged wrongly here. Please open an issue if you find any such cases.\n",
      "\n",
      "\n",
      "[14:39:30] WARNING: C:/Users/Administrator/workspace/xgboost-win64_release_1.5.1/src/learner.cc:576: \n",
      "Parameters: { \"silent\" } might not be used.\n",
      "\n",
      "  This could be a false alarm, with some parameters getting used by language bindings but\n",
      "  then being mistakenly passed down to XGBoost core, or some parameter actually being used\n",
      "  but getting flagged wrongly here. Please open an issue if you find any such cases.\n",
      "\n",
      "\n",
      "[14:41:24] WARNING: C:/Users/Administrator/workspace/xgboost-win64_release_1.5.1/src/learner.cc:576: \n",
      "Parameters: { \"silent\" } might not be used.\n",
      "\n",
      "  This could be a false alarm, with some parameters getting used by language bindings but\n",
      "  then being mistakenly passed down to XGBoost core, or some parameter actually being used\n",
      "  but getting flagged wrongly here. Please open an issue if you find any such cases.\n",
      "\n",
      "\n",
      "[14:42:26] WARNING: C:/Users/Administrator/workspace/xgboost-win64_release_1.5.1/src/learner.cc:576: \n",
      "Parameters: { \"silent\" } might not be used.\n",
      "\n",
      "  This could be a false alarm, with some parameters getting used by language bindings but\n",
      "  then being mistakenly passed down to XGBoost core, or some parameter actually being used\n",
      "  but getting flagged wrongly here. Please open an issue if you find any such cases.\n",
      "\n",
      "\n",
      "[14:43:28] WARNING: C:/Users/Administrator/workspace/xgboost-win64_release_1.5.1/src/learner.cc:576: \n",
      "Parameters: { \"silent\" } might not be used.\n",
      "\n",
      "  This could be a false alarm, with some parameters getting used by language bindings but\n",
      "  then being mistakenly passed down to XGBoost core, or some parameter actually being used\n",
      "  but getting flagged wrongly here. Please open an issue if you find any such cases.\n",
      "\n",
      "\n",
      "[14:44:29] WARNING: C:/Users/Administrator/workspace/xgboost-win64_release_1.5.1/src/learner.cc:576: \n",
      "Parameters: { \"silent\" } might not be used.\n",
      "\n",
      "  This could be a false alarm, with some parameters getting used by language bindings but\n",
      "  then being mistakenly passed down to XGBoost core, or some parameter actually being used\n",
      "  but getting flagged wrongly here. Please open an issue if you find any such cases.\n",
      "\n",
      "\n",
      "[14:45:32] WARNING: C:/Users/Administrator/workspace/xgboost-win64_release_1.5.1/src/learner.cc:576: \n",
      "Parameters: { \"silent\" } might not be used.\n",
      "\n",
      "  This could be a false alarm, with some parameters getting used by language bindings but\n",
      "  then being mistakenly passed down to XGBoost core, or some parameter actually being used\n",
      "  but getting flagged wrongly here. Please open an issue if you find any such cases.\n",
      "\n",
      "\n"
     ]
    },
    {
     "name": "stdout",
     "output_type": "stream",
     "text": [
      "[14:46:36] WARNING: C:/Users/Administrator/workspace/xgboost-win64_release_1.5.1/src/learner.cc:576: \n",
      "Parameters: { \"silent\" } might not be used.\n",
      "\n",
      "  This could be a false alarm, with some parameters getting used by language bindings but\n",
      "  then being mistakenly passed down to XGBoost core, or some parameter actually being used\n",
      "  but getting flagged wrongly here. Please open an issue if you find any such cases.\n",
      "\n",
      "\n",
      "[14:47:39] WARNING: C:/Users/Administrator/workspace/xgboost-win64_release_1.5.1/src/learner.cc:576: \n",
      "Parameters: { \"silent\" } might not be used.\n",
      "\n",
      "  This could be a false alarm, with some parameters getting used by language bindings but\n",
      "  then being mistakenly passed down to XGBoost core, or some parameter actually being used\n",
      "  but getting flagged wrongly here. Please open an issue if you find any such cases.\n",
      "\n",
      "\n",
      "[14:48:03] WARNING: C:/Users/Administrator/workspace/xgboost-win64_release_1.5.1/src/learner.cc:576: \n",
      "Parameters: { \"silent\" } might not be used.\n",
      "\n",
      "  This could be a false alarm, with some parameters getting used by language bindings but\n",
      "  then being mistakenly passed down to XGBoost core, or some parameter actually being used\n",
      "  but getting flagged wrongly here. Please open an issue if you find any such cases.\n",
      "\n",
      "\n",
      "[14:48:28] WARNING: C:/Users/Administrator/workspace/xgboost-win64_release_1.5.1/src/learner.cc:576: \n",
      "Parameters: { \"silent\" } might not be used.\n",
      "\n",
      "  This could be a false alarm, with some parameters getting used by language bindings but\n",
      "  then being mistakenly passed down to XGBoost core, or some parameter actually being used\n",
      "  but getting flagged wrongly here. Please open an issue if you find any such cases.\n",
      "\n",
      "\n",
      "[14:48:52] WARNING: C:/Users/Administrator/workspace/xgboost-win64_release_1.5.1/src/learner.cc:576: \n",
      "Parameters: { \"silent\" } might not be used.\n",
      "\n",
      "  This could be a false alarm, with some parameters getting used by language bindings but\n",
      "  then being mistakenly passed down to XGBoost core, or some parameter actually being used\n",
      "  but getting flagged wrongly here. Please open an issue if you find any such cases.\n",
      "\n",
      "\n",
      "[14:49:24] WARNING: C:/Users/Administrator/workspace/xgboost-win64_release_1.5.1/src/learner.cc:576: \n",
      "Parameters: { \"silent\" } might not be used.\n",
      "\n",
      "  This could be a false alarm, with some parameters getting used by language bindings but\n",
      "  then being mistakenly passed down to XGBoost core, or some parameter actually being used\n",
      "  but getting flagged wrongly here. Please open an issue if you find any such cases.\n",
      "\n",
      "\n",
      "[14:49:54] WARNING: C:/Users/Administrator/workspace/xgboost-win64_release_1.5.1/src/learner.cc:576: \n",
      "Parameters: { \"silent\" } might not be used.\n",
      "\n",
      "  This could be a false alarm, with some parameters getting used by language bindings but\n",
      "  then being mistakenly passed down to XGBoost core, or some parameter actually being used\n",
      "  but getting flagged wrongly here. Please open an issue if you find any such cases.\n",
      "\n",
      "\n",
      "[14:50:24] WARNING: C:/Users/Administrator/workspace/xgboost-win64_release_1.5.1/src/learner.cc:576: \n",
      "Parameters: { \"silent\" } might not be used.\n",
      "\n",
      "  This could be a false alarm, with some parameters getting used by language bindings but\n",
      "  then being mistakenly passed down to XGBoost core, or some parameter actually being used\n",
      "  but getting flagged wrongly here. Please open an issue if you find any such cases.\n",
      "\n",
      "\n",
      "[14:50:36] WARNING: C:/Users/Administrator/workspace/xgboost-win64_release_1.5.1/src/learner.cc:576: \n",
      "Parameters: { \"silent\" } might not be used.\n",
      "\n",
      "  This could be a false alarm, with some parameters getting used by language bindings but\n",
      "  then being mistakenly passed down to XGBoost core, or some parameter actually being used\n",
      "  but getting flagged wrongly here. Please open an issue if you find any such cases.\n",
      "\n",
      "\n",
      "[14:50:47] WARNING: C:/Users/Administrator/workspace/xgboost-win64_release_1.5.1/src/learner.cc:576: \n",
      "Parameters: { \"silent\" } might not be used.\n",
      "\n",
      "  This could be a false alarm, with some parameters getting used by language bindings but\n",
      "  then being mistakenly passed down to XGBoost core, or some parameter actually being used\n",
      "  but getting flagged wrongly here. Please open an issue if you find any such cases.\n",
      "\n",
      "\n",
      "[14:50:57] WARNING: C:/Users/Administrator/workspace/xgboost-win64_release_1.5.1/src/learner.cc:576: \n",
      "Parameters: { \"silent\" } might not be used.\n",
      "\n",
      "  This could be a false alarm, with some parameters getting used by language bindings but\n",
      "  then being mistakenly passed down to XGBoost core, or some parameter actually being used\n",
      "  but getting flagged wrongly here. Please open an issue if you find any such cases.\n",
      "\n",
      "\n"
     ]
    },
    {
     "data": {
      "text/plain": [
       "RandomizedSearchCV(cv=StratifiedKFold(n_splits=3, random_state=None, shuffle=True),\n",
       "                   estimator=XGBClassifier(base_score=0.5, booster='gbtree',\n",
       "                                           colsample_bylevel=1,\n",
       "                                           colsample_bynode=1,\n",
       "                                           colsample_bytree=1,\n",
       "                                           enable_categorical=False,\n",
       "                                           eval_metric='error', gamma=0,\n",
       "                                           gpu_id=-1, importance_type=None,\n",
       "                                           interaction_constraints='',\n",
       "                                           learning_rate=0.300000012,\n",
       "                                           max_delta_step=0, m...\n",
       "                                           validate_parameters=1,\n",
       "                                           verbosity=None),\n",
       "                   param_distributions={'colsample_bytree': [0.1, 0.2, 0.5,\n",
       "                                                             0.7],\n",
       "                                        'learning_rate': [0.001, 0.01, 0.1, 0.3,\n",
       "                                                          0.5],\n",
       "                                        'max_depth': [3, 5, 10, 15],\n",
       "                                        'min_child_weight': [3, 5, 7, 9],\n",
       "                                        'n_estimators': [200, 288, 377, 466,\n",
       "                                                         555, 644, 733, 822,\n",
       "                                                         911, 1000],\n",
       "                                        'objective': ['binary:logistic'],\n",
       "                                        'silent': [1],\n",
       "                                        'subsample': [0.1, 0.3, 0.5, 0.7]},\n",
       "                   scoring='accuracy', verbose=1)"
      ]
     },
     "execution_count": 203,
     "metadata": {},
     "output_type": "execute_result"
    }
   ],
   "source": [
    "parameters = {'objective':['binary:logistic'],\n",
    "              'learning_rate': [0.001,0.01,0.1,0.3,0.5],\n",
    "              \"max_depth\":[3,5,10,15],\n",
    "              'min_child_weight': [3,5,7,9],\n",
    "              'silent': [1],\n",
    "              'subsample': [0.1,0.3,0.5,0.7],\n",
    "              'colsample_bytree': [0.1,0.2,0.5,0.7],\n",
    "              'n_estimators': [int(x) for x in np.linspace(start = 200, stop = 1000, num = 10)]}\n",
    "\n",
    "\n",
    "XGB = RandomizedSearchCV(xgb, parameters, cv = StratifiedKFold(n_splits=3, shuffle=True), \n",
    "                   scoring='accuracy',\n",
    "                   verbose=1, refit=True)\n",
    "XGB.fit(x_train, y_train)"
   ]
  },
  {
   "cell_type": "code",
   "execution_count": 204,
   "id": "34367758",
   "metadata": {},
   "outputs": [
    {
     "data": {
      "text/plain": [
       "{'subsample': 0.7,\n",
       " 'silent': 1,\n",
       " 'objective': 'binary:logistic',\n",
       " 'n_estimators': 1000,\n",
       " 'min_child_weight': 5,\n",
       " 'max_depth': 5,\n",
       " 'learning_rate': 0.1,\n",
       " 'colsample_bytree': 0.7}"
      ]
     },
     "execution_count": 204,
     "metadata": {},
     "output_type": "execute_result"
    }
   ],
   "source": [
    "XGB.best_params_"
   ]
  },
  {
   "cell_type": "code",
   "execution_count": 205,
   "id": "480f8057",
   "metadata": {},
   "outputs": [],
   "source": [
    "xgb_tuned=XGBClassifier(objective='binary:logistic',subsample=0.7,silent=1,n_estimators=644,\n",
    "                        max_depth=10,learning_rate=0.01,colsample_bytree=0.7,eval_metric='error')"
   ]
  },
  {
   "cell_type": "code",
   "execution_count": 206,
   "id": "dc04bc88",
   "metadata": {},
   "outputs": [
    {
     "name": "stdout",
     "output_type": "stream",
     "text": [
      "[14:52:31] WARNING: C:/Users/Administrator/workspace/xgboost-win64_release_1.5.1/src/learner.cc:576: \n",
      "Parameters: { \"silent\" } might not be used.\n",
      "\n",
      "  This could be a false alarm, with some parameters getting used by language bindings but\n",
      "  then being mistakenly passed down to XGBoost core, or some parameter actually being used\n",
      "  but getting flagged wrongly here. Please open an issue if you find any such cases.\n",
      "\n",
      "\n"
     ]
    }
   ],
   "source": [
    "xgb_tuned_model=xgb_tuned.fit(x_train,y_train)"
   ]
  },
  {
   "cell_type": "code",
   "execution_count": 207,
   "id": "91735f67",
   "metadata": {},
   "outputs": [
    {
     "data": {
      "text/plain": [
       "0.9513362584762665"
      ]
     },
     "execution_count": 207,
     "metadata": {},
     "output_type": "execute_result"
    }
   ],
   "source": [
    "xgb_tuned_model.score(x_train,y_train)"
   ]
  },
  {
   "cell_type": "code",
   "execution_count": 208,
   "id": "3b4e408e",
   "metadata": {},
   "outputs": [
    {
     "data": {
      "text/plain": [
       "0.941031777689137"
      ]
     },
     "execution_count": 208,
     "metadata": {},
     "output_type": "execute_result"
    }
   ],
   "source": [
    "xgb_tuned_model.score(x_test,y_test)"
   ]
  },
  {
   "cell_type": "code",
   "execution_count": 209,
   "id": "4beec13e",
   "metadata": {},
   "outputs": [],
   "source": [
    "pred_xgb_t = xgb_tuned_model.predict(x_test)"
   ]
  },
  {
   "cell_type": "code",
   "execution_count": 210,
   "id": "2348816f",
   "metadata": {},
   "outputs": [
    {
     "name": "stdout",
     "output_type": "stream",
     "text": [
      "              precision    recall  f1-score   support\n",
      "\n",
      "           0       0.94      0.95      0.94     15042\n",
      "           1       0.95      0.93      0.94     15042\n",
      "\n",
      "    accuracy                           0.94     30084\n",
      "   macro avg       0.94      0.94      0.94     30084\n",
      "weighted avg       0.94      0.94      0.94     30084\n",
      "\n"
     ]
    }
   ],
   "source": [
    "print(classification_report(y_test,pred_xgb_t))"
   ]
  },
  {
   "cell_type": "code",
   "execution_count": 211,
   "id": "322d1f61",
   "metadata": {},
   "outputs": [
    {
     "data": {
      "text/plain": [
       "<sklearn.metrics._plot.roc_curve.RocCurveDisplay at 0x2728095bee0>"
      ]
     },
     "execution_count": 211,
     "metadata": {},
     "output_type": "execute_result"
    },
    {
     "data": {
      "image/png": "[encoded data removed]",
      "text/plain": [
       "<Figure size 432x288 with 1 Axes>"
      ]
     },
     "metadata": {
      "needs_background": "light"
     },
     "output_type": "display_data"
    }
   ],
   "source": [
    "plot_roc_curve(xgb_tuned_model,x_test,y_test)"
   ]
  },
  {
   "cell_type": "code",
   "execution_count": 212,
   "id": "fdd6124a",
   "metadata": {},
   "outputs": [
    {
     "data": {
      "text/plain": [
       "<sklearn.metrics._plot.confusion_matrix.ConfusionMatrixDisplay at 0x272877d7d30>"
      ]
     },
     "execution_count": 212,
     "metadata": {},
     "output_type": "execute_result"
    },
    {
     "data": {
      "image/png": "[encoded data removed]",
      "text/plain": [
       "<Figure size 432x288 with 2 Axes>"
      ]
     },
     "metadata": {
      "needs_background": "light"
     },
     "output_type": "display_data"
    }
   ],
   "source": [
    "plot_confusion_matrix(xgb_tuned_model,x_test, pred_xgb_t,display_labels=['Not Promoted','promoted'])"
   ]
  },
  {
   "cell_type": "code",
   "execution_count": 346,
   "id": "04477353",
   "metadata": {},
   "outputs": [],
   "source": [
    "# sub_pred=xgb_tuned.predict(hrtestdf)"
   ]
  },
  {
   "cell_type": "code",
   "execution_count": 347,
   "id": "0a46a6b5",
   "metadata": {},
   "outputs": [],
   "source": [
    "# pd.DataFrame(sub_pred).to_csv('xgb_tuned.csv')"
   ]
  },
  {
   "cell_type": "code",
   "execution_count": 213,
   "id": "88511c90",
   "metadata": {},
   "outputs": [],
   "source": [
    "# Tuning AdaBoost Model\n",
    "params={'n_estimators':[10, 50, 100, 500],'learning_rate':[0.0001, 0.001, 0.01, 0.1, 1.0]}"
   ]
  },
  {
   "cell_type": "code",
   "execution_count": 214,
   "id": "b31b3579",
   "metadata": {},
   "outputs": [],
   "source": [
    "# define the evaluation procedure\n",
    "cv = StratifiedKFold(n_splits=3, shuffle=True)"
   ]
  },
  {
   "cell_type": "code",
   "execution_count": 217,
   "id": "c267f0d4",
   "metadata": {},
   "outputs": [],
   "source": [
    "# define the grid search procedure\n",
    "grid_search = GridSearchCV(estimator=abc, param_grid=params, n_jobs=-1, cv=cv, scoring='accuracy')"
   ]
  },
  {
   "cell_type": "code",
   "execution_count": 218,
   "id": "2a77a5b2",
   "metadata": {},
   "outputs": [],
   "source": [
    "# execute the grid search\n",
    "grid_result = grid_search.fit(x_train, y_train)"
   ]
  },
  {
   "cell_type": "code",
   "execution_count": 219,
   "id": "3b185d90",
   "metadata": {},
   "outputs": [
    {
     "name": "stdout",
     "output_type": "stream",
     "text": [
      "Best: 0.955852 using {'learning_rate': 0.1, 'n_estimators': 500}\n"
     ]
    }
   ],
   "source": [
    "# summarize the best score and configuration\n",
    "print(\"Best: %f using %s\" % (grid_result.best_score_, grid_result.best_params_))"
   ]
  },
  {
   "cell_type": "code",
   "execution_count": 220,
   "id": "02792c7f",
   "metadata": {},
   "outputs": [],
   "source": [
    "ada_tuned=AdaBoostClassifier(learning_rate=0.1,n_estimators=500)"
   ]
  },
  {
   "cell_type": "code",
   "execution_count": 221,
   "id": "77a66be1",
   "metadata": {},
   "outputs": [],
   "source": [
    "ada_tuned_model=ada_tuned.fit(x_train,y_train)"
   ]
  },
  {
   "cell_type": "code",
   "execution_count": 222,
   "id": "fe6a71fb",
   "metadata": {},
   "outputs": [
    {
     "data": {
      "text/plain": [
       "0.8679269474044105"
      ]
     },
     "execution_count": 222,
     "metadata": {},
     "output_type": "execute_result"
    }
   ],
   "source": [
    "ada_tuned_model.score(x_train,y_train)"
   ]
  },
  {
   "cell_type": "code",
   "execution_count": 223,
   "id": "2d941e6d",
   "metadata": {},
   "outputs": [
    {
     "data": {
      "text/plain": [
       "0.8656096263794708"
      ]
     },
     "execution_count": 223,
     "metadata": {},
     "output_type": "execute_result"
    }
   ],
   "source": [
    "ada_tuned_model.score(x_test,y_test)"
   ]
  },
  {
   "cell_type": "code",
   "execution_count": 224,
   "id": "ca44ed4d",
   "metadata": {},
   "outputs": [],
   "source": [
    "pred_ada_t=ada_tuned_model.predict(x_test)"
   ]
  },
  {
   "cell_type": "code",
   "execution_count": 225,
   "id": "41d84214",
   "metadata": {},
   "outputs": [
    {
     "name": "stdout",
     "output_type": "stream",
     "text": [
      "              precision    recall  f1-score   support\n",
      "\n",
      "           0       0.86      0.87      0.87     15015\n",
      "           1       0.87      0.86      0.87     15069\n",
      "\n",
      "    accuracy                           0.87     30084\n",
      "   macro avg       0.87      0.87      0.87     30084\n",
      "weighted avg       0.87      0.87      0.87     30084\n",
      "\n"
     ]
    }
   ],
   "source": [
    "print(classification_report(pred_ada_t,y_test))"
   ]
  },
  {
   "cell_type": "code",
   "execution_count": 226,
   "id": "9ff333df",
   "metadata": {},
   "outputs": [
    {
     "data": {
      "text/plain": [
       "<sklearn.metrics._plot.roc_curve.RocCurveDisplay at 0x2728782d550>"
      ]
     },
     "execution_count": 226,
     "metadata": {},
     "output_type": "execute_result"
    },
    {
     "data": {
      "image/png": "[encoded data removed]",
      "text/plain": [
       "<Figure size 432x288 with 1 Axes>"
      ]
     },
     "metadata": {
      "needs_background": "light"
     },
     "output_type": "display_data"
    }
   ],
   "source": [
    "plot_roc_curve(ada_tuned,x_test,y_test)"
   ]
  },
  {
   "cell_type": "code",
   "execution_count": 227,
   "id": "f4239a05",
   "metadata": {},
   "outputs": [
    {
     "data": {
      "text/plain": [
       "<sklearn.metrics._plot.confusion_matrix.ConfusionMatrixDisplay at 0x272808d3310>"
      ]
     },
     "execution_count": 227,
     "metadata": {},
     "output_type": "execute_result"
    },
    {
     "data": {
      "image/png": "[encoded data removed]",
      "text/plain": [
       "<Figure size 432x288 with 2 Axes>"
      ]
     },
     "metadata": {
      "needs_background": "light"
     },
     "output_type": "display_data"
    }
   ],
   "source": [
    "plot_confusion_matrix(ada_tuned,x_test,y_test,display_labels=['Not Promoted','Promoted'])"
   ]
  },
  {
   "cell_type": "code",
   "execution_count": null,
   "id": "07af3349",
   "metadata": {},
   "outputs": [],
   "source": []
  }
 ],
 "metadata": {
  "kernelspec": {
   "display_name": "Python 3",
   "language": "python",
   "name": "python3"
  },
  "language_info": {
   "codemirror_mode": {
    "name": "ipython",
    "version": 3
   },
   "file_extension": ".py",
   "mimetype": "text/x-python",
   "name": "python",
   "nbconvert_exporter": "python",
   "pygments_lexer": "ipython3",
   "version": "3.8.8"
  }
 },
 "nbformat": 4,
 "nbformat_minor": 5
}
